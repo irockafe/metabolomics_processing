{
 "cells": [
  {
   "cell_type": "markdown",
   "metadata": {},
   "source": [
    "<h2>Feature detected using Craig's code</h2>\n",
    "Not sure how that worked, but the PCA plot is wild"
   ]
  },
  {
   "cell_type": "code",
   "execution_count": 2,
   "metadata": {
    "collapsed": true
   },
   "outputs": [],
   "source": [
    "import time\n",
    "\n",
    "import pandas as pd\n",
    "import seaborn as sns\n",
    "import matplotlib.pyplot as plt\n",
    "import numpy as np\n",
    "\n",
    "from sklearn import preprocessing\n",
    "from sklearn.ensemble import RandomForestClassifier\n",
    "from sklearn.cross_validation import StratifiedShuffleSplit\n",
    "from sklearn.cross_validation import cross_val_score\n",
    "#from sklearn.model_selection import StratifiedShuffleSplit\n",
    "#from sklearn.model_selection import cross_val_score\n",
    "\n",
    "from sklearn.ensemble import AdaBoostClassifier\n",
    "from sklearn.metrics import roc_curve, auc\n",
    "from sklearn.utils import shuffle\n",
    "\n",
    "from scipy import interp\n",
    "\n",
    "%matplotlib inline"
   ]
  },
  {
   "cell_type": "code",
   "execution_count": 110,
   "metadata": {},
   "outputs": [
    {
     "name": "stdout",
     "output_type": "stream",
     "text": [
      "     0  1  2  3\n",
      "0  1.0  2  3  0\n",
      "1  0.0  0  0  0\n",
      "2  0.5  1  0  0\n",
      "     0  1  2\n",
      "0  1.0  2  3\n",
      "1  0.0  0  0\n",
      "2  0.5  1  0\n",
      "      0    1    2\n",
      "0  1.00  2.0  3.0\n",
      "1  0.25  0.5  1.5\n",
      "2  0.50  1.0  1.5\n"
     ]
    }
   ],
   "source": [
    "def remove_zero_columns(X, threshold=1e-20):\n",
    "    # convert zeros to nan, drop all nan columns, the replace leftover nan with zeros\n",
    "    X_non_zero_colum = X.replace(0, np.nan).dropna(how='all', axis=1).replace(np.nan, 0)\n",
    "    #.dropna(how='all', axis=0).replace(np.nan,0)\n",
    "    return X_non_zero_colum\n",
    "\n",
    "def zero_fill_half_min(X, threshold=1e-20):\n",
    "    # Fill zeros with 1/2 the minimum value of that column\n",
    "    # input dataframe. Add only to zero values\n",
    "    \n",
    "    # Get a vector of 1/2 minimum values\n",
    "    half_min = X[X > threshold].min(axis=0)*0.5\n",
    "    \n",
    "    # Add the half_min values to a dataframe where everything that isn't zero is NaN.\n",
    "    # then convert NaN's to 0\n",
    "    fill_vals = (X[X < threshold] + half_min).fillna(value=0)\n",
    "    \n",
    "    # Add the original dataframe to the dataframe of zeros and fill-values\n",
    "    X_zeros_filled = X + fill_vals\n",
    "    return X_zeros_filled\n",
    "\n",
    "\n",
    "\n",
    "toy = pd.DataFrame([[1,2,3,0],\n",
    "               [0,0,0,0],\n",
    "               [0.5,1,0,0]], dtype=float)\n",
    "\n",
    "toy_no_zeros = remove_zero_columns(toy)\n",
    "toy_filled_zeros = zero_fill_half_min(toy_no_zeros)\n",
    "print toy\n",
    "print toy_no_zeros\n",
    "print toy_filled_zeros"
   ]
  },
  {
   "cell_type": "markdown",
   "metadata": {},
   "source": [
    "<h2> Import the dataframe and remove any features that are all zero </h2>"
   ]
  },
  {
   "cell_type": "code",
   "execution_count": 111,
   "metadata": {
    "scrolled": true
   },
   "outputs": [
    {
     "name": "stdout",
     "output_type": "stream",
     "text": [
      "(6857, 68)\n",
      "           mz       mzmin       mzmax          rt       rtmin       rtmax  \\\n",
      "0  100.075385  100.074986  100.075519  129.794110  127.975656  132.153297   \n",
      "1  100.916388  100.916045  100.916718   45.296209   44.146884   47.819750   \n",
      "2  101.008038  101.007614  101.008242   38.931362   38.142080   39.498050   \n",
      "3  101.010206  101.009702  101.010503   38.950441    9.380345   40.465458   \n",
      "4  101.095582  101.095295  101.095724  973.599729  953.662750  992.645495   \n",
      "\n",
      "          X1001_P         X1002_P         X1003_P          X1004_P  \\\n",
      "0    42373.927779   179331.750974  2537721.750522    101845.009079   \n",
      "1    11178.774973    20729.982156    20852.688848     12717.817680   \n",
      "2  8791113.535859  6606203.430266  6546795.750105  12136100.900199   \n",
      "3   147009.244240   239414.696757   172061.687778  10058152.743696   \n",
      "4   723913.491959   604511.079660   701094.488497    660342.546434   \n",
      "\n",
      "        ...              X1024_P         X1032_P         X1034_P  \\\n",
      "0       ...                  NaN             NaN             NaN   \n",
      "1       ...                  NaN             NaN             NaN   \n",
      "2       ...        8041070.74371  7900344.594391  3202083.926599   \n",
      "3       ...                  NaN             NaN             NaN   \n",
      "4       ...                  NaN             NaN             NaN   \n",
      "\n",
      "          X1036_P         X1043_P         X1052_P         X1054_P  \\\n",
      "0             NaN             NaN             NaN             NaN   \n",
      "1             NaN             NaN             NaN             NaN   \n",
      "2  5383539.442712  5802213.220837  7213738.304376  5679683.988764   \n",
      "3             NaN             NaN             NaN             NaN   \n",
      "4             NaN             NaN             NaN             NaN   \n",
      "\n",
      "         X1055_P         X1060_P         X1062_P  \n",
      "0            NaN             NaN             NaN  \n",
      "1            NaN             NaN             NaN  \n",
      "2  4694471.26903  4398947.827277  6154061.829345  \n",
      "3            NaN             NaN             NaN  \n",
      "4            NaN             NaN             NaN  \n",
      "\n",
      "[5 rows x 68 columns]\n",
      "99966\n",
      "original shape: (60, 6857) \n",
      "# zeros: 7422.000000\n",
      "\n",
      "zero-columns replaced? shape: (60, 6857) \n",
      "# zeros: 99966.000000\n",
      "\n",
      "zeros filled shape: (60, 6857) \n",
      "#zeros: 0.000000\n",
      "\n",
      "(60, 6857)\n"
     ]
    }
   ],
   "source": [
    "### Subdivide the data into a feature table\n",
    "data_path = '/home/irockafe/Dropbox (MIT)/Alm_Lab/projects/old_repo_revo_healthcare/'\\\n",
    "'data/MTBLS315/7-24-17_Malaria_pos_grouped_data_Craig_processed.csv'\n",
    "## Import the data and remove extraneous columns\n",
    "df = pd.read_csv(data_path)\n",
    "print df.shape\n",
    "print df.head()\n",
    "# Make a new index of mz:rt\n",
    "mz = df.loc[:,\"mz\"].astype('str')\n",
    "rt = df.loc[:,\"rt\"].astype('str')\n",
    "idx = mz+':'+rt\n",
    "df.index = idx\n",
    "df\n",
    "# separate samples from xcms/camera things to make feature table\n",
    "not_samples = ['mz', 'mzmin', 'mzmax', 'rt', 'rtmin', 'rtmax', \n",
    "               'isotopes', 'adduct']\n",
    "samples_list = df.columns.difference(not_samples)\n",
    "mz_rt_df = df[not_samples]\n",
    "\n",
    "# convert to samples x features\n",
    "X_df_raw = df[samples_list].T\n",
    "# Remove zero-full columns and fill zeroes with 1/2 minimum values\n",
    "X_df = remove_zero_columns(X_df_raw)\n",
    "X_df_zero_filled = zero_fill_half_min(X_df)\n",
    "\n",
    "print (X_df < 1e-20).sum().sum()\n",
    "print \"original shape: %s \\n# zeros: %f\\n\" % (X_df_raw.shape, (X_df_raw < 1e-20).sum().sum())\n",
    "print \"zero-columns replaced? shape: %s \\n# zeros: %f\\n\" % (X_df.shape, \n",
    "                                                         (X_df < 1e-20).sum().sum())\n",
    "print \"zeros filled shape: %s \\n#zeros: %f\\n\" % (X_df_zero_filled.shape, \n",
    "                                              (X_df_zero_filled < 1e-20).sum().sum())\n",
    "\n",
    "\n",
    "# Convert to numpy matrix to play nicely with sklearn\n",
    "X = X_df.as_matrix()\n",
    "print X.shape\n"
   ]
  },
  {
   "cell_type": "markdown",
   "metadata": {},
   "source": [
    "<h2> Get mappings between sample names, file names, and sample classes </h2>"
   ]
  },
  {
   "cell_type": "code",
   "execution_count": 179,
   "metadata": {
    "scrolled": true
   },
   "outputs": [
    {
     "name": "stdout",
     "output_type": "stream",
     "text": [
      "Sample Name\n",
      "MCMA429    1001_P\n",
      "MCMA430    1002_P\n",
      "MCMA431    1003_P\n",
      "MCMA433    1004_P\n",
      "MCMA434    1005_P\n",
      "MCMA435    1006_P\n",
      "MCMA436    1007_P\n",
      "MCMA442    1009_P\n",
      "MCMA443    1010_P\n",
      "MCMA444    1011_P\n",
      "Name: MS Assay Name, dtype: object\n",
      "Sample Name\n",
      "MCMA429                            malaria\n",
      "MCMA430                            malaria\n",
      "MCMA431                            malaria\n",
      "MCMA433                            malaria\n",
      "MCMA434       non-malarial febrile illness\n",
      "MCMA435                            malaria\n",
      "MCMA436    bacterial bloodstream infection\n",
      "MCMA442                            malaria\n",
      "MCMA443       non-malarial febrile illness\n",
      "MCMA444    bacterial bloodstream infection\n",
      "Name: Factor Value[patient group], dtype: object\n",
      "            MS Assay Name                            class\n",
      "Sample Name                                               \n",
      "MCMA429            1001_P                          malaria\n",
      "MCMA430            1002_P                          malaria\n",
      "MCMA431            1003_P                          malaria\n",
      "MCMA433            1004_P                          malaria\n",
      "MCMA434            1005_P     non-malarial febrile illness\n",
      "MCMA435            1006_P                          malaria\n",
      "MCMA436            1007_P  bacterial bloodstream infection\n",
      "MCMA442            1009_P                          malaria\n",
      "MCMA443            1010_P     non-malarial febrile illness\n",
      "MCMA444            1011_P  bacterial bloodstream infection\n",
      "MCMA446            1012_P  bacterial bloodstream infection\n",
      "MCMA447            1013_P                          malaria\n",
      "MCMA448            1014_P                          malaria\n",
      "MCMA450            1016_P                          malaria\n",
      "MCMA451            1017_P                          malaria\n",
      "MCMA452            1018_P                          malaria\n",
      "MCMA455            1019_P  bacterial bloodstream infection\n",
      "MCMA458            1020_P     non-malarial febrile illness\n",
      "MCMA459            1021_P     non-malarial febrile illness\n",
      "MCMA462            1023_P     non-malarial febrile illness\n",
      "MCMA463            1024_P     non-malarial febrile illness\n",
      "MCMA465            1026_P  bacterial bloodstream infection\n",
      "MCMA466            1027_P                          malaria\n",
      "MCMA472            1029_P                          malaria\n",
      "MCMA474            1030_P                          malaria\n",
      "MCMA477            1031_P                          malaria\n",
      "MCMA478            1032_P     non-malarial febrile illness\n",
      "MCMA480            1033_P  bacterial bloodstream infection\n",
      "MCMA484            1034_P     non-malarial febrile illness\n",
      "MCMA489            1035_P                          malaria\n",
      "...                   ...                              ...\n",
      "MCMA493            1037_P                          malaria\n",
      "MCMA495            1038_P                          malaria\n",
      "MCMA496            1039_P                          malaria\n",
      "MCMA497            1040_P                          malaria\n",
      "MCMA501            1041_P                          malaria\n",
      "MCMA502            1042_P                          malaria\n",
      "MCMA503            1043_P     non-malarial febrile illness\n",
      "MCMA513            1044_P                          malaria\n",
      "MCMA515            1045_P  bacterial bloodstream infection\n",
      "MCMA516            1046_P                          malaria\n",
      "MCMA523            1048_P                          malaria\n",
      "MCMA526            1049_P  bacterial bloodstream infection\n",
      "MCMA528            1050_P  bacterial bloodstream infection\n",
      "MCMA533            1051_P                          malaria\n",
      "MCMA534            1052_P     non-malarial febrile illness\n",
      "MCMA535            1053_P  bacterial bloodstream infection\n",
      "MCMA537            1054_P     non-malarial febrile illness\n",
      "MCMA538            1055_P     non-malarial febrile illness\n",
      "MCMA550            1056_P                          malaria\n",
      "MCMA557            1057_P  bacterial bloodstream infection\n",
      "MCMA560            1058_P                          malaria\n",
      "MCMA562            1059_P                          malaria\n",
      "MCMA564            1060_P     non-malarial febrile illness\n",
      "MCMA565            1061_P  bacterial bloodstream infection\n",
      "MCMA566            1062_P     non-malarial febrile illness\n",
      "MURB082            1064_P                          malaria\n",
      "MURB085            1065_P                          malaria\n",
      "MURB088            1066_P                          malaria\n",
      "MURB092            1067_P                          malaria\n",
      "MURB095            1068_P                          malaria\n",
      "\n",
      "[61 rows x 2 columns]\n",
      "Index([u'1001_P', u'1002_P', u'1003_P', u'1004_P', u'1005_P', u'1006_P',\n",
      "       u'1007_P', u'1009_P', u'1010_P', u'1011_P', u'1012_P', u'1013_P',\n",
      "       u'1014_P', u'1016_P', u'1017_P', u'1018_P', u'1019_P', u'1021_P',\n",
      "       u'1023_P', u'1024_P', u'1026_P', u'1027_P', u'1029_P', u'1030_P',\n",
      "       u'1031_P', u'1032_P', u'1033_P', u'1034_P', u'1035_P', u'1036_P',\n",
      "       u'1037_P', u'1038_P', u'1039_P', u'1040_P', u'1041_P', u'1042_P',\n",
      "       u'1043_P', u'1044_P', u'1045_P', u'1046_P', u'1048_P', u'1049_P',\n",
      "       u'1050_P', u'1051_P', u'1052_P', u'1053_P', u'1054_P', u'1055_P',\n",
      "       u'1056_P', u'1057_P', u'1058_P', u'1059_P', u'1060_P', u'1061_P',\n",
      "       u'1062_P', u'1064_P', u'1065_P', u'1066_P', u'1067_P', u'1068_P'],\n",
      "      dtype='object')\n",
      "['1001_P', '1002_P', '1003_P', '1004_P', '1005_P', '1006_P', '1007_P', '1009_P', '1010_P', '1011_P', '1012_P', '1013_P', '1014_P', '1016_P', '1017_P', '1018_P', '1019_P', '1020_P', '1021_P', '1023_P', '1024_P', '1026_P', '1027_P', '1029_P', '1030_P', '1031_P', '1032_P', '1033_P', '1034_P', '1035_P', '1036_P', '1037_P', '1038_P', '1039_P', '1040_P', '1041_P', '1042_P', '1043_P', '1044_P', '1045_P', '1046_P', '1048_P', '1049_P', '1050_P', '1051_P', '1052_P', '1053_P', '1054_P', '1055_P', '1056_P', '1057_P', '1058_P', '1059_P', '1060_P', '1061_P', '1062_P', '1064_P', '1065_P', '1066_P', '1067_P', '1068_P']\n",
      "\n",
      "\n",
      "\n",
      "Found the missing one!:  1020_P \n",
      "\n",
      "\n",
      "\n",
      "            MS Assay Name                            class\n",
      "Sample Name                                               \n",
      "MCMA429            1001_P                          malaria\n",
      "MCMA430            1002_P                          malaria\n",
      "MCMA431            1003_P                          malaria\n",
      "MCMA433            1004_P                          malaria\n",
      "MCMA434            1005_P     non-malarial febrile illness\n",
      "MCMA435            1006_P                          malaria\n",
      "MCMA436            1007_P  bacterial bloodstream infection\n",
      "MCMA442            1009_P                          malaria\n",
      "MCMA443            1010_P     non-malarial febrile illness\n",
      "MCMA444            1011_P  bacterial bloodstream infection\n",
      "MCMA446            1012_P  bacterial bloodstream infection\n",
      "MCMA447            1013_P                          malaria\n",
      "MCMA448            1014_P                          malaria\n",
      "MCMA450            1016_P                          malaria\n",
      "MCMA451            1017_P                          malaria\n",
      "MCMA452            1018_P                          malaria\n",
      "MCMA455            1019_P  bacterial bloodstream infection\n",
      "MCMA459            1021_P     non-malarial febrile illness\n",
      "MCMA462            1023_P     non-malarial febrile illness\n",
      "MCMA463            1024_P     non-malarial febrile illness\n",
      "MCMA465            1026_P  bacterial bloodstream infection\n",
      "MCMA466            1027_P                          malaria\n",
      "MCMA472            1029_P                          malaria\n",
      "MCMA474            1030_P                          malaria\n",
      "MCMA477            1031_P                          malaria\n",
      "MCMA478            1032_P     non-malarial febrile illness\n",
      "MCMA480            1033_P  bacterial bloodstream infection\n",
      "MCMA484            1034_P     non-malarial febrile illness\n",
      "MCMA489            1035_P                          malaria\n",
      "MCMA491            1036_P     non-malarial febrile illness\n",
      "MCMA493            1037_P                          malaria\n",
      "MCMA495            1038_P                          malaria\n",
      "MCMA496            1039_P                          malaria\n",
      "MCMA497            1040_P                          malaria\n",
      "MCMA501            1041_P                          malaria\n",
      "MCMA502            1042_P                          malaria\n",
      "MCMA503            1043_P     non-malarial febrile illness\n",
      "MCMA513            1044_P                          malaria\n",
      "MCMA515            1045_P  bacterial bloodstream infection\n",
      "MCMA516            1046_P                          malaria\n",
      "MCMA523            1048_P                          malaria\n",
      "MCMA526            1049_P  bacterial bloodstream infection\n",
      "MCMA528            1050_P  bacterial bloodstream infection\n",
      "MCMA533            1051_P                          malaria\n",
      "MCMA534            1052_P     non-malarial febrile illness\n",
      "MCMA535            1053_P  bacterial bloodstream infection\n",
      "MCMA537            1054_P     non-malarial febrile illness\n",
      "MCMA538            1055_P     non-malarial febrile illness\n",
      "MCMA550            1056_P                          malaria\n",
      "MCMA557            1057_P  bacterial bloodstream infection\n",
      "MCMA560            1058_P                          malaria\n",
      "MCMA562            1059_P                          malaria\n",
      "MCMA564            1060_P     non-malarial febrile illness\n",
      "MCMA565            1061_P  bacterial bloodstream infection\n",
      "MCMA566            1062_P     non-malarial febrile illness\n",
      "MURB082            1064_P                          malaria\n",
      "MURB085            1065_P                          malaria\n",
      "MURB088            1066_P                          malaria\n",
      "MURB092            1067_P                          malaria\n",
      "MURB095            1068_P                          malaria\n"
     ]
    },
    {
     "data": {
      "text/html": [
       "<div>\n",
       "<table border=\"1\" class=\"dataframe\">\n",
       "  <thead>\n",
       "    <tr style=\"text-align: right;\">\n",
       "      <th></th>\n",
       "      <th>MS Assay Name</th>\n",
       "      <th>class</th>\n",
       "    </tr>\n",
       "    <tr>\n",
       "      <th>Sample Name</th>\n",
       "      <th></th>\n",
       "      <th></th>\n",
       "    </tr>\n",
       "  </thead>\n",
       "  <tbody>\n",
       "    <tr>\n",
       "      <th>MCMA429</th>\n",
       "      <td>1001_P</td>\n",
       "      <td>malaria</td>\n",
       "    </tr>\n",
       "    <tr>\n",
       "      <th>MCMA430</th>\n",
       "      <td>1002_P</td>\n",
       "      <td>malaria</td>\n",
       "    </tr>\n",
       "    <tr>\n",
       "      <th>MCMA431</th>\n",
       "      <td>1003_P</td>\n",
       "      <td>malaria</td>\n",
       "    </tr>\n",
       "    <tr>\n",
       "      <th>MCMA433</th>\n",
       "      <td>1004_P</td>\n",
       "      <td>malaria</td>\n",
       "    </tr>\n",
       "    <tr>\n",
       "      <th>MCMA434</th>\n",
       "      <td>1005_P</td>\n",
       "      <td>non-malarial fever</td>\n",
       "    </tr>\n",
       "    <tr>\n",
       "      <th>MCMA435</th>\n",
       "      <td>1006_P</td>\n",
       "      <td>malaria</td>\n",
       "    </tr>\n",
       "    <tr>\n",
       "      <th>MCMA436</th>\n",
       "      <td>1007_P</td>\n",
       "      <td>non-malarial fever</td>\n",
       "    </tr>\n",
       "    <tr>\n",
       "      <th>MCMA442</th>\n",
       "      <td>1009_P</td>\n",
       "      <td>malaria</td>\n",
       "    </tr>\n",
       "    <tr>\n",
       "      <th>MCMA443</th>\n",
       "      <td>1010_P</td>\n",
       "      <td>non-malarial fever</td>\n",
       "    </tr>\n",
       "    <tr>\n",
       "      <th>MCMA444</th>\n",
       "      <td>1011_P</td>\n",
       "      <td>non-malarial fever</td>\n",
       "    </tr>\n",
       "    <tr>\n",
       "      <th>MCMA446</th>\n",
       "      <td>1012_P</td>\n",
       "      <td>non-malarial fever</td>\n",
       "    </tr>\n",
       "    <tr>\n",
       "      <th>MCMA447</th>\n",
       "      <td>1013_P</td>\n",
       "      <td>malaria</td>\n",
       "    </tr>\n",
       "    <tr>\n",
       "      <th>MCMA448</th>\n",
       "      <td>1014_P</td>\n",
       "      <td>malaria</td>\n",
       "    </tr>\n",
       "    <tr>\n",
       "      <th>MCMA450</th>\n",
       "      <td>1016_P</td>\n",
       "      <td>malaria</td>\n",
       "    </tr>\n",
       "    <tr>\n",
       "      <th>MCMA451</th>\n",
       "      <td>1017_P</td>\n",
       "      <td>malaria</td>\n",
       "    </tr>\n",
       "    <tr>\n",
       "      <th>MCMA452</th>\n",
       "      <td>1018_P</td>\n",
       "      <td>malaria</td>\n",
       "    </tr>\n",
       "    <tr>\n",
       "      <th>MCMA455</th>\n",
       "      <td>1019_P</td>\n",
       "      <td>non-malarial fever</td>\n",
       "    </tr>\n",
       "    <tr>\n",
       "      <th>MCMA459</th>\n",
       "      <td>1021_P</td>\n",
       "      <td>non-malarial fever</td>\n",
       "    </tr>\n",
       "    <tr>\n",
       "      <th>MCMA462</th>\n",
       "      <td>1023_P</td>\n",
       "      <td>non-malarial fever</td>\n",
       "    </tr>\n",
       "    <tr>\n",
       "      <th>MCMA463</th>\n",
       "      <td>1024_P</td>\n",
       "      <td>non-malarial fever</td>\n",
       "    </tr>\n",
       "    <tr>\n",
       "      <th>MCMA465</th>\n",
       "      <td>1026_P</td>\n",
       "      <td>non-malarial fever</td>\n",
       "    </tr>\n",
       "    <tr>\n",
       "      <th>MCMA466</th>\n",
       "      <td>1027_P</td>\n",
       "      <td>malaria</td>\n",
       "    </tr>\n",
       "    <tr>\n",
       "      <th>MCMA472</th>\n",
       "      <td>1029_P</td>\n",
       "      <td>malaria</td>\n",
       "    </tr>\n",
       "    <tr>\n",
       "      <th>MCMA474</th>\n",
       "      <td>1030_P</td>\n",
       "      <td>malaria</td>\n",
       "    </tr>\n",
       "    <tr>\n",
       "      <th>MCMA477</th>\n",
       "      <td>1031_P</td>\n",
       "      <td>malaria</td>\n",
       "    </tr>\n",
       "    <tr>\n",
       "      <th>MCMA478</th>\n",
       "      <td>1032_P</td>\n",
       "      <td>non-malarial fever</td>\n",
       "    </tr>\n",
       "    <tr>\n",
       "      <th>MCMA480</th>\n",
       "      <td>1033_P</td>\n",
       "      <td>non-malarial fever</td>\n",
       "    </tr>\n",
       "    <tr>\n",
       "      <th>MCMA484</th>\n",
       "      <td>1034_P</td>\n",
       "      <td>non-malarial fever</td>\n",
       "    </tr>\n",
       "    <tr>\n",
       "      <th>MCMA489</th>\n",
       "      <td>1035_P</td>\n",
       "      <td>malaria</td>\n",
       "    </tr>\n",
       "    <tr>\n",
       "      <th>MCMA491</th>\n",
       "      <td>1036_P</td>\n",
       "      <td>non-malarial fever</td>\n",
       "    </tr>\n",
       "    <tr>\n",
       "      <th>MCMA493</th>\n",
       "      <td>1037_P</td>\n",
       "      <td>malaria</td>\n",
       "    </tr>\n",
       "    <tr>\n",
       "      <th>MCMA495</th>\n",
       "      <td>1038_P</td>\n",
       "      <td>malaria</td>\n",
       "    </tr>\n",
       "    <tr>\n",
       "      <th>MCMA496</th>\n",
       "      <td>1039_P</td>\n",
       "      <td>malaria</td>\n",
       "    </tr>\n",
       "    <tr>\n",
       "      <th>MCMA497</th>\n",
       "      <td>1040_P</td>\n",
       "      <td>malaria</td>\n",
       "    </tr>\n",
       "    <tr>\n",
       "      <th>MCMA501</th>\n",
       "      <td>1041_P</td>\n",
       "      <td>malaria</td>\n",
       "    </tr>\n",
       "    <tr>\n",
       "      <th>MCMA502</th>\n",
       "      <td>1042_P</td>\n",
       "      <td>malaria</td>\n",
       "    </tr>\n",
       "    <tr>\n",
       "      <th>MCMA503</th>\n",
       "      <td>1043_P</td>\n",
       "      <td>non-malarial fever</td>\n",
       "    </tr>\n",
       "    <tr>\n",
       "      <th>MCMA513</th>\n",
       "      <td>1044_P</td>\n",
       "      <td>malaria</td>\n",
       "    </tr>\n",
       "    <tr>\n",
       "      <th>MCMA515</th>\n",
       "      <td>1045_P</td>\n",
       "      <td>non-malarial fever</td>\n",
       "    </tr>\n",
       "    <tr>\n",
       "      <th>MCMA516</th>\n",
       "      <td>1046_P</td>\n",
       "      <td>malaria</td>\n",
       "    </tr>\n",
       "    <tr>\n",
       "      <th>MCMA523</th>\n",
       "      <td>1048_P</td>\n",
       "      <td>malaria</td>\n",
       "    </tr>\n",
       "    <tr>\n",
       "      <th>MCMA526</th>\n",
       "      <td>1049_P</td>\n",
       "      <td>non-malarial fever</td>\n",
       "    </tr>\n",
       "    <tr>\n",
       "      <th>MCMA528</th>\n",
       "      <td>1050_P</td>\n",
       "      <td>non-malarial fever</td>\n",
       "    </tr>\n",
       "    <tr>\n",
       "      <th>MCMA533</th>\n",
       "      <td>1051_P</td>\n",
       "      <td>malaria</td>\n",
       "    </tr>\n",
       "    <tr>\n",
       "      <th>MCMA534</th>\n",
       "      <td>1052_P</td>\n",
       "      <td>non-malarial fever</td>\n",
       "    </tr>\n",
       "    <tr>\n",
       "      <th>MCMA535</th>\n",
       "      <td>1053_P</td>\n",
       "      <td>non-malarial fever</td>\n",
       "    </tr>\n",
       "    <tr>\n",
       "      <th>MCMA537</th>\n",
       "      <td>1054_P</td>\n",
       "      <td>non-malarial fever</td>\n",
       "    </tr>\n",
       "    <tr>\n",
       "      <th>MCMA538</th>\n",
       "      <td>1055_P</td>\n",
       "      <td>non-malarial fever</td>\n",
       "    </tr>\n",
       "    <tr>\n",
       "      <th>MCMA550</th>\n",
       "      <td>1056_P</td>\n",
       "      <td>malaria</td>\n",
       "    </tr>\n",
       "    <tr>\n",
       "      <th>MCMA557</th>\n",
       "      <td>1057_P</td>\n",
       "      <td>non-malarial fever</td>\n",
       "    </tr>\n",
       "    <tr>\n",
       "      <th>MCMA560</th>\n",
       "      <td>1058_P</td>\n",
       "      <td>malaria</td>\n",
       "    </tr>\n",
       "    <tr>\n",
       "      <th>MCMA562</th>\n",
       "      <td>1059_P</td>\n",
       "      <td>malaria</td>\n",
       "    </tr>\n",
       "    <tr>\n",
       "      <th>MCMA564</th>\n",
       "      <td>1060_P</td>\n",
       "      <td>non-malarial fever</td>\n",
       "    </tr>\n",
       "    <tr>\n",
       "      <th>MCMA565</th>\n",
       "      <td>1061_P</td>\n",
       "      <td>non-malarial fever</td>\n",
       "    </tr>\n",
       "    <tr>\n",
       "      <th>MCMA566</th>\n",
       "      <td>1062_P</td>\n",
       "      <td>non-malarial fever</td>\n",
       "    </tr>\n",
       "    <tr>\n",
       "      <th>MURB082</th>\n",
       "      <td>1064_P</td>\n",
       "      <td>malaria</td>\n",
       "    </tr>\n",
       "    <tr>\n",
       "      <th>MURB085</th>\n",
       "      <td>1065_P</td>\n",
       "      <td>malaria</td>\n",
       "    </tr>\n",
       "    <tr>\n",
       "      <th>MURB088</th>\n",
       "      <td>1066_P</td>\n",
       "      <td>malaria</td>\n",
       "    </tr>\n",
       "    <tr>\n",
       "      <th>MURB092</th>\n",
       "      <td>1067_P</td>\n",
       "      <td>malaria</td>\n",
       "    </tr>\n",
       "    <tr>\n",
       "      <th>MURB095</th>\n",
       "      <td>1068_P</td>\n",
       "      <td>malaria</td>\n",
       "    </tr>\n",
       "  </tbody>\n",
       "</table>\n",
       "</div>"
      ],
      "text/plain": [
       "            MS Assay Name               class\n",
       "Sample Name                                  \n",
       "MCMA429            1001_P             malaria\n",
       "MCMA430            1002_P             malaria\n",
       "MCMA431            1003_P             malaria\n",
       "MCMA433            1004_P             malaria\n",
       "MCMA434            1005_P  non-malarial fever\n",
       "MCMA435            1006_P             malaria\n",
       "MCMA436            1007_P  non-malarial fever\n",
       "MCMA442            1009_P             malaria\n",
       "MCMA443            1010_P  non-malarial fever\n",
       "MCMA444            1011_P  non-malarial fever\n",
       "MCMA446            1012_P  non-malarial fever\n",
       "MCMA447            1013_P             malaria\n",
       "MCMA448            1014_P             malaria\n",
       "MCMA450            1016_P             malaria\n",
       "MCMA451            1017_P             malaria\n",
       "MCMA452            1018_P             malaria\n",
       "MCMA455            1019_P  non-malarial fever\n",
       "MCMA459            1021_P  non-malarial fever\n",
       "MCMA462            1023_P  non-malarial fever\n",
       "MCMA463            1024_P  non-malarial fever\n",
       "MCMA465            1026_P  non-malarial fever\n",
       "MCMA466            1027_P             malaria\n",
       "MCMA472            1029_P             malaria\n",
       "MCMA474            1030_P             malaria\n",
       "MCMA477            1031_P             malaria\n",
       "MCMA478            1032_P  non-malarial fever\n",
       "MCMA480            1033_P  non-malarial fever\n",
       "MCMA484            1034_P  non-malarial fever\n",
       "MCMA489            1035_P             malaria\n",
       "MCMA491            1036_P  non-malarial fever\n",
       "MCMA493            1037_P             malaria\n",
       "MCMA495            1038_P             malaria\n",
       "MCMA496            1039_P             malaria\n",
       "MCMA497            1040_P             malaria\n",
       "MCMA501            1041_P             malaria\n",
       "MCMA502            1042_P             malaria\n",
       "MCMA503            1043_P  non-malarial fever\n",
       "MCMA513            1044_P             malaria\n",
       "MCMA515            1045_P  non-malarial fever\n",
       "MCMA516            1046_P             malaria\n",
       "MCMA523            1048_P             malaria\n",
       "MCMA526            1049_P  non-malarial fever\n",
       "MCMA528            1050_P  non-malarial fever\n",
       "MCMA533            1051_P             malaria\n",
       "MCMA534            1052_P  non-malarial fever\n",
       "MCMA535            1053_P  non-malarial fever\n",
       "MCMA537            1054_P  non-malarial fever\n",
       "MCMA538            1055_P  non-malarial fever\n",
       "MCMA550            1056_P             malaria\n",
       "MCMA557            1057_P  non-malarial fever\n",
       "MCMA560            1058_P             malaria\n",
       "MCMA562            1059_P             malaria\n",
       "MCMA564            1060_P  non-malarial fever\n",
       "MCMA565            1061_P  non-malarial fever\n",
       "MCMA566            1062_P  non-malarial fever\n",
       "MURB082            1064_P             malaria\n",
       "MURB085            1065_P             malaria\n",
       "MURB088            1066_P             malaria\n",
       "MURB092            1067_P             malaria\n",
       "MURB095            1068_P             malaria"
      ]
     },
     "execution_count": 179,
     "metadata": {},
     "output_type": "execute_result"
    }
   ],
   "source": [
    "# Get mapping between sample name and assay names\n",
    "path_sample_name_map = '/home/irockafe/Dropbox (MIT)/Alm_Lab/projects/revo_healthcare/data/raw/'\\\n",
    "                'MTBLS315/metadata/a_UPLC_POS_nmfi_and_bsi_diagnosis.txt'\n",
    "# Index is the sample name\n",
    "sample_df = pd.read_csv(path_sample_name_map, \n",
    "                        sep='\\t', index_col=0)\n",
    "sample_df = sample_df['MS Assay Name']\n",
    "sample_df.shape\n",
    "print sample_df.head(10)\n",
    "\n",
    "# get mapping between sample name and sample class\n",
    "path_sample_class_map = '/home/irockafe/Dropbox (MIT)/Alm_Lab/projects/revo_healthcare/data/raw/'\\\n",
    "                        'MTBLS315/metadata/s_NMFI and BSI diagnosis.txt'\n",
    "class_df = pd.read_csv(path_sample_class_map,\n",
    "                      sep='\\t')\n",
    "# Set index as sample name\n",
    "class_df.set_index('Sample Name', inplace=True)\n",
    "class_df = class_df['Factor Value[patient group]']\n",
    "print class_df.head(10)\n",
    "\n",
    "# convert all non-malarial classes into a single classes \n",
    "# (collapse non-malarial febril illness and bacteremia together)\n",
    "class_map_df = pd.concat([sample_df, class_df], axis=1)\n",
    "class_map_df.rename(columns={'Factor Value[patient group]': 'class'}, inplace=True)\n",
    "class_map_df\n",
    "print class_map_df\n",
    "\n",
    "# remove sample from y (labels) if not present in X (feature table)\n",
    "print X_df.index\n",
    "print class_map_df['MS Assay Name'].tolist()\n",
    "for i in class_map_df['MS Assay Name']:\n",
    "    if i not in X_df.index:\n",
    "        print '\\n\\n\\nFound the missing one!: ', i, '\\n\\n\\n'\n",
    "        break\n",
    "drop_idx = class_map_df[class_map_df['MS Assay Name'] == i].index\n",
    "class_map_df = class_map_df.drop(drop_idx, axis=0)\n",
    "print class_map_df\n",
    "\n",
    "\n",
    "binary_class_map = class_map_df.replace(to_replace=['non-malarial febrile illness', 'bacterial bloodstream infection' ], \n",
    "                                        value='non-malarial fever')\n",
    "\n",
    "binary_class_map\n",
    "\n"
   ]
  },
  {
   "cell_type": "code",
   "execution_count": 128,
   "metadata": {},
   "outputs": [
    {
     "name": "stdout",
     "output_type": "stream",
     "text": [
      "['1001_P', '1002_P', '1003_P', '1004_P', '1005_P', '1006_P', '1007_P', '1009_P', '1010_P', '1011_P', '1012_P', '1013_P', '1014_P', '1016_P', '1017_P', '1018_P', '1019_P', '1021_P', '1023_P', '1024_P', '1026_P', '1027_P', '1029_P', '1030_P', '1031_P', '1032_P', '1033_P', '1034_P', '1035_P', '1036_P', '1037_P', '1038_P', '1039_P', '1040_P', '1041_P', '1042_P', '1043_P', '1044_P', '1045_P', '1046_P', '1048_P', '1049_P', '1050_P', '1051_P', '1052_P', '1053_P', '1054_P', '1055_P', '1056_P', '1057_P', '1058_P', '1059_P', '1060_P', '1061_P', '1062_P', '1064_P', '1065_P', '1066_P', '1067_P', '1068_P']\n",
      "(60, 6857)\n",
      "Index([u'1001_P', u'1002_P', u'1003_P', u'1004_P', u'1005_P', u'1006_P',\n",
      "       u'1007_P', u'1009_P', u'1010_P', u'1011_P', u'1012_P', u'1013_P',\n",
      "       u'1014_P', u'1016_P', u'1017_P', u'1018_P', u'1019_P', u'1021_P',\n",
      "       u'1023_P', u'1024_P', u'1026_P', u'1027_P', u'1029_P', u'1030_P',\n",
      "       u'1031_P', u'1032_P', u'1033_P', u'1034_P', u'1035_P', u'1036_P',\n",
      "       u'1037_P', u'1038_P', u'1039_P', u'1040_P', u'1041_P', u'1042_P',\n",
      "       u'1043_P', u'1044_P', u'1045_P', u'1046_P', u'1048_P', u'1049_P',\n",
      "       u'1050_P', u'1051_P', u'1052_P', u'1053_P', u'1054_P', u'1055_P',\n",
      "       u'1056_P', u'1057_P', u'1058_P', u'1059_P', u'1060_P', u'1061_P',\n",
      "       u'1062_P', u'1064_P', u'1065_P', u'1066_P', u'1067_P', u'1068_P'],\n",
      "      dtype='object')\n",
      "['1001_P', '1002_P', '1003_P', '1004_P', '1005_P', '1006_P', '1007_P', '1009_P', '1010_P', '1011_P', '1012_P', '1013_P', '1014_P', '1016_P', '1017_P', '1018_P', '1019_P', '1020_P', '1021_P', '1023_P', '1024_P', '1026_P', '1027_P', '1029_P', '1030_P', '1031_P', '1032_P', '1033_P', '1034_P', '1035_P', '1036_P', '1037_P', '1038_P', '1039_P', '1040_P', '1041_P', '1042_P', '1043_P', '1044_P', '1045_P', '1046_P', '1048_P', '1049_P', '1050_P', '1051_P', '1052_P', '1053_P', '1054_P', '1055_P', '1056_P', '1057_P', '1058_P', '1059_P', '1060_P', '1061_P', '1062_P', '1064_P', '1065_P', '1066_P', '1067_P', '1068_P']\n",
      "\n",
      "\n",
      "\n",
      "Found the missing one!:  1020_P\n",
      "(60, 2)\n",
      "            MS Assay Name               class\n",
      "Sample Name                                  \n",
      "MCMA429            1001_P             malaria\n",
      "MCMA430            1002_P             malaria\n",
      "MCMA431            1003_P             malaria\n",
      "MCMA433            1004_P             malaria\n",
      "MCMA434            1005_P  non-malarial fever\n",
      "MCMA435            1006_P             malaria\n",
      "MCMA436            1007_P  non-malarial fever\n",
      "MCMA442            1009_P             malaria\n",
      "MCMA443            1010_P  non-malarial fever\n",
      "MCMA444            1011_P  non-malarial fever\n",
      "MCMA446            1012_P  non-malarial fever\n",
      "MCMA447            1013_P             malaria\n",
      "MCMA448            1014_P             malaria\n",
      "MCMA450            1016_P             malaria\n",
      "MCMA451            1017_P             malaria\n",
      "MCMA452            1018_P             malaria\n",
      "MCMA455            1019_P  non-malarial fever\n",
      "MCMA459            1021_P  non-malarial fever\n",
      "MCMA462            1023_P  non-malarial fever\n",
      "MCMA463            1024_P  non-malarial fever\n",
      "MCMA465            1026_P  non-malarial fever\n",
      "MCMA466            1027_P             malaria\n",
      "MCMA472            1029_P             malaria\n",
      "MCMA474            1030_P             malaria\n",
      "MCMA477            1031_P             malaria\n",
      "MCMA478            1032_P  non-malarial fever\n",
      "MCMA480            1033_P  non-malarial fever\n",
      "MCMA484            1034_P  non-malarial fever\n",
      "MCMA489            1035_P             malaria\n",
      "MCMA491            1036_P  non-malarial fever\n",
      "MCMA493            1037_P             malaria\n",
      "MCMA495            1038_P             malaria\n",
      "MCMA496            1039_P             malaria\n",
      "MCMA497            1040_P             malaria\n",
      "MCMA501            1041_P             malaria\n",
      "MCMA502            1042_P             malaria\n",
      "MCMA503            1043_P  non-malarial fever\n",
      "MCMA513            1044_P             malaria\n",
      "MCMA515            1045_P  non-malarial fever\n",
      "MCMA516            1046_P             malaria\n",
      "MCMA523            1048_P             malaria\n",
      "MCMA526            1049_P  non-malarial fever\n",
      "MCMA528            1050_P  non-malarial fever\n",
      "MCMA533            1051_P             malaria\n",
      "MCMA534            1052_P  non-malarial fever\n",
      "MCMA535            1053_P  non-malarial fever\n",
      "MCMA537            1054_P  non-malarial fever\n",
      "MCMA538            1055_P  non-malarial fever\n",
      "MCMA550            1056_P             malaria\n",
      "MCMA557            1057_P  non-malarial fever\n",
      "MCMA560            1058_P             malaria\n",
      "MCMA562            1059_P             malaria\n",
      "MCMA564            1060_P  non-malarial fever\n",
      "MCMA565            1061_P  non-malarial fever\n",
      "MCMA566            1062_P  non-malarial fever\n",
      "MURB082            1064_P             malaria\n",
      "MURB085            1065_P             malaria\n",
      "MURB088            1066_P             malaria\n",
      "MURB092            1067_P             malaria\n",
      "MURB095            1068_P             malaria\n"
     ]
    }
   ],
   "source": [
    "### Remove any rows from binary map that aren't in craig's actual feature table\n",
    "# Remove any samples from y (classes) that aren't in feature table\n",
    "idx = X_df.index.tolist()\n",
    "print idx\n",
    "new_idx = [i.replace('X','') for i in idx]\n",
    "\n",
    "X_df.index = new_idx\n",
    "print X_df.shape\n",
    "\n",
    "\n",
    "print binary_class_map.shape\n",
    "print binary_class_map"
   ]
  },
  {
   "cell_type": "code",
   "execution_count": 129,
   "metadata": {},
   "outputs": [
    {
     "name": "stdout",
     "output_type": "stream",
     "text": [
      "(60, 6857)\n",
      "(60,)\n"
     ]
    }
   ],
   "source": [
    "# convert classes to numbers\n",
    "le = preprocessing.LabelEncoder()\n",
    "le.fit(binary_class_map['class'])\n",
    "y = le.transform(binary_class_map['class'])\n",
    "print X.shape\n",
    "print y.shape"
   ]
  },
  {
   "cell_type": "markdown",
   "metadata": {},
   "source": [
    "<h2> Plot the distribution of classification accuracy across multiple cross-validation splits - Kinda Dumb</h2>\n",
    "Turns out doing this is kind of dumb, because you're not taking into account the prediction score your classifier assigned. Use AUC's instead. You want to give your classifier a lower score if it is really confident and wrong, than vice-versa"
   ]
  },
  {
   "cell_type": "code",
   "execution_count": 48,
   "metadata": {},
   "outputs": [
    {
     "data": {
      "image/png": "[encoded data removed]",
      "text/plain": [
       "<matplotlib.figure.Figure at 0x7fbede86db10>"
      ]
     },
     "metadata": {},
     "output_type": "display_data"
    }
   ],
   "source": [
    "def rf_violinplot(X, y, n_iter=25, test_size=0.3, random_state=1,\n",
    "                 n_estimators=1000):\n",
    "    cross_val_skf = StratifiedShuffleSplit(y, n_iter=n_iter, test_size=test_size, \n",
    "                                           random_state=random_state)\n",
    "    clf = RandomForestClassifier(n_estimators=n_estimators, random_state=random_state)\n",
    "\n",
    "    scores = cross_val_score(clf, X, y, cv=cross_val_skf)\n",
    "\n",
    "    sns.violinplot(scores,inner='stick')\n",
    "\n",
    "rf_violinplot(X,y)\n",
    "\n",
    "\n",
    "# TODO - Switch to using caret for this bs..?"
   ]
  },
  {
   "cell_type": "code",
   "execution_count": 49,
   "metadata": {},
   "outputs": [
    {
     "data": {
      "image/png": "[encoded data removed]",
      "text/plain": [
       "<matplotlib.figure.Figure at 0x7fbf077479d0>"
      ]
     },
     "metadata": {},
     "output_type": "display_data"
    }
   ],
   "source": [
    "# Do multi-fold cross validation for adaboost classifier\n",
    "def adaboost_violinplot(X, y, n_iter=25, test_size=0.3, random_state=1,\n",
    "                       n_estimators=200):\n",
    "    cross_val_skf = StratifiedShuffleSplit(y, n_iter=n_iter, test_size=test_size, random_state=random_state)\n",
    "    clf = AdaBoostClassifier(n_estimators=n_estimators, random_state=random_state)\n",
    "\n",
    "    scores = cross_val_score(clf, X, y, cv=cross_val_skf)\n",
    "\n",
    "    sns.violinplot(scores,inner='stick')\n",
    "\n",
    "adaboost_violinplot(X,y)"
   ]
  },
  {
   "cell_type": "code",
   "execution_count": 115,
   "metadata": {
    "scrolled": true
   },
   "outputs": [
    {
     "name": "stdout",
     "output_type": "stream",
     "text": [
      "[[  1.   1.   1.]\n",
      " [  2.   2.   2.]\n",
      " [  3.   6.   9.]\n",
      " [  6.  12.  18.]]\n",
      "[[  1.   1.   1.   2.   2.   2.   3.   6.   9.   6.  12.  18.]]\n",
      "allquotients reshaped!\n",
      "\n",
      "(3,)\n"
     ]
    },
    {
     "data": {
      "image/png": "[encoded data removed]",
      "text/plain": [
       "<matplotlib.figure.Figure at 0x7f8ba369ac90>"
      ]
     },
     "metadata": {},
     "output_type": "display_data"
    },
    {
     "name": "stdout",
     "output_type": "stream",
     "text": [
      "allquotients reshaped!\n",
      "\n",
      "(3,)\n"
     ]
    },
    {
     "data": {
      "image/png": "[encoded data removed]",
      "text/plain": [
       "<matplotlib.figure.Figure at 0x7f8ba3b68f10>"
      ]
     },
     "metadata": {},
     "output_type": "display_data"
    },
    {
     "name": "stdout",
     "output_type": "stream",
     "text": [
      "allquotients reshaped!\n",
      "\n",
      "(3,)\n"
     ]
    },
    {
     "data": {
      "image/png": "[encoded data removed]",
      "text/plain": [
       "<matplotlib.figure.Figure at 0x7f8ba3cdb6d0>"
      ]
     },
     "metadata": {},
     "output_type": "display_data"
    },
    {
     "name": "stdout",
     "output_type": "stream",
     "text": [
      "[[ 0.33333333  0.33333333  0.33333333]\n",
      " [ 0.33333333  0.33333333  0.33333333]\n",
      " [ 0.16666667  0.33333333  0.5       ]\n",
      " [ 0.16666667  0.33333333  0.5       ]]\n",
      "\n",
      "\n",
      "\n",
      "\n",
      "[[ 4.  4.  4.]\n",
      " [ 4.  4.  4.]\n",
      " [ 2.  4.  6.]\n",
      " [ 2.  4.  6.]]\n"
     ]
    }
   ],
   "source": [
    "# TODO PQN normalization, and log-transformation, \n",
    "# and some feature selection (above certain threshold of intensity, use principal components), et\n",
    "\n",
    "def pqn_normalize(X, integral_first=False, plot=False):\n",
    "    '''\n",
    "    Take a feature table and run PQN normalization on it\n",
    "    '''\n",
    "    # normalize by sum of intensities in each sample first. Not necessary\n",
    "    if integral_first: \n",
    "        sample_sums = np.sum(X, axis=1)\n",
    "        X = (X / sample_sums[:,np.newaxis])\n",
    "    \n",
    "    # Get the median value of each feature across all samples\n",
    "    mean_intensities = np.median(X, axis=0)\n",
    "    \n",
    "    # Divde each feature by the median value of each feature - \n",
    "    # these are the quotients for each feature\n",
    "    X_quotients = (X / mean_intensities[np.newaxis,:])\n",
    "    \n",
    "    if plot: # plot the distribution of quotients from one sample\n",
    "        for i in range(1,len(X_quotients[:,1])):\n",
    "            print 'allquotients reshaped!\\n\\n', \n",
    "            #all_quotients = X_quotients.reshape(np.prod(X_quotients.shape))\n",
    "            all_quotients = X_quotients[i,:]\n",
    "            print all_quotients.shape\n",
    "            x = np.random.normal(loc=0, scale=1, size=len(all_quotients))\n",
    "            sns.violinplot(all_quotients)\n",
    "            plt.title(\"median val: %f\\nMax val=%f\" % (np.median(all_quotients), np.max(all_quotients)))\n",
    "            plt.plot( title=\"median val: \")#%f\" % np.median(all_quotients))\n",
    "            plt.xlim([-0.5, 5])\n",
    "            plt.show()\n",
    "\n",
    "    # Define a quotient for each sample as the median of the feature-specific quotients\n",
    "    # in that sample\n",
    "    sample_quotients = np.median(X_quotients, axis=1)\n",
    "    \n",
    "    # Quotient normalize each samples\n",
    "    X_pqn = X / sample_quotients[:,np.newaxis]\n",
    "    return X_pqn\n",
    "\n",
    "# Make a fake sample, with 2 samples at 1x and 2x dilutions\n",
    "X_toy = np.array([[1,1,1,],\n",
    "                  [2,2,2],\n",
    "                  [3,6,9],\n",
    "                  [6,12,18]], dtype=float)\n",
    "print X_toy\n",
    "print X_toy.reshape(1, np.prod(X_toy.shape))\n",
    "X_toy_pqn_int = pqn_normalize(X_toy, integral_first=True, plot=True)\n",
    "print X_toy_pqn_int\n",
    "\n",
    "print '\\n\\n\\n'\n",
    "X_toy_pqn = pqn_normalize(X_toy)\n",
    "print X_toy_pqn"
   ]
  },
  {
   "cell_type": "markdown",
   "metadata": {},
   "source": [
    "<h2> pqn normalize your features </h2>\n",
    "Doesn't work with all the NaN values. Didn't bother fixing it right now."
   ]
  },
  {
   "cell_type": "code",
   "execution_count": 118,
   "metadata": {
    "scrolled": false
   },
   "outputs": [
    {
     "name": "stdout",
     "output_type": "stream",
     "text": [
      "(60, 6857)\n",
      "[[ nan  nan  nan ...,  nan  nan  nan]\n",
      " [ nan  nan  nan ...,  nan  nan  nan]\n",
      " [ nan  nan  nan ...,  nan  nan  nan]\n",
      " ..., \n",
      " [ nan  nan  nan ...,  nan  nan  nan]\n",
      " [ nan  nan  nan ...,  nan  nan  nan]\n",
      " [ nan  nan  nan ...,  nan  nan  nan]]\n"
     ]
    }
   ],
   "source": [
    "print X.shape\n",
    "X_pqn = pqn_normalize(X)\n",
    "print X_pqn"
   ]
  },
  {
   "cell_type": "markdown",
   "metadata": {},
   "source": [
    "<h2>Random Forest & adaBoost with PQN-normalized data</h2>"
   ]
  },
  {
   "cell_type": "code",
   "execution_count": 231,
   "metadata": {},
   "outputs": [
    {
     "data": {
      "image/png": "[encoded data removed]",
      "text/plain": [
       "<matplotlib.figure.Figure at 0x7f0a73883d10>"
      ]
     },
     "metadata": {},
     "output_type": "display_data"
    }
   ],
   "source": [
    "rf_violinplot(X_pqn, y)"
   ]
  },
  {
   "cell_type": "code",
   "execution_count": 232,
   "metadata": {},
   "outputs": [
    {
     "data": {
      "image/png": "[encoded data removed]",
      "text/plain": [
       "<matplotlib.figure.Figure at 0x7f0a6a2c1cd0>"
      ]
     },
     "metadata": {},
     "output_type": "display_data"
    }
   ],
   "source": [
    "# Do multi-fold cross validation for adaboost classifier\n",
    "adaboost_violinplot(X_pqn, y)"
   ]
  },
  {
   "cell_type": "markdown",
   "metadata": {},
   "source": [
    "<h2> RF & adaBoost with PQN-normalized, log-transformed data </h2>\n",
    "Turns out a monotonic transformation doesn't really affect any of these things. \n",
    "I guess they're already close to unit varinace...?"
   ]
  },
  {
   "cell_type": "code",
   "execution_count": 234,
   "metadata": {},
   "outputs": [
    {
     "data": {
      "image/png": "[encoded data removed]",
      "text/plain": [
       "<matplotlib.figure.Figure at 0x7f0a6bd6fe10>"
      ]
     },
     "metadata": {},
     "output_type": "display_data"
    }
   ],
   "source": [
    "X_pqn_nlog = np.log(X_pqn)\n",
    "rf_violinplot(X_pqn_nlog, y)"
   ]
  },
  {
   "cell_type": "code",
   "execution_count": 235,
   "metadata": {},
   "outputs": [
    {
     "data": {
      "image/png": "[encoded data removed]",
      "text/plain": [
       "<matplotlib.figure.Figure at 0x7f0a72fb3b90>"
      ]
     },
     "metadata": {},
     "output_type": "display_data"
    }
   ],
   "source": [
    "adaboost_violinplot(X_pqn_nlog, y)"
   ]
  },
  {
   "cell_type": "code",
   "execution_count": 72,
   "metadata": {
    "collapsed": true
   },
   "outputs": [],
   "source": [
    "def roc_curve_cv(X, y, clf, cross_val,\n",
    "                path='/home/irockafe/Desktop/roc.pdf',\n",
    "                save=False, plot=True):  \n",
    "    t1 = time.time()\n",
    "    # collect vals for the ROC curves\n",
    "    tpr_list = []\n",
    "    mean_fpr = np.linspace(0,1,100)\n",
    "    auc_list = []\n",
    "    \n",
    "    # Get the false-positive and true-positive rate\n",
    "    for i, (train, test) in enumerate(cross_val):\n",
    "        clf.fit(X[train], y[train])\n",
    "        y_pred = clf.predict_proba(X[test])[:,1]\n",
    "        \n",
    "        # get fpr, tpr\n",
    "        fpr, tpr, thresholds = roc_curve(y[test], y_pred)\n",
    "        roc_auc = auc(fpr, tpr)\n",
    "        #print 'AUC', roc_auc\n",
    "        #sns.plt.plot(fpr, tpr, lw=10, alpha=0.6, label='ROC - AUC = %0.2f' % roc_auc,)\n",
    "        #sns.plt.show()\n",
    "        tpr_list.append(interp(mean_fpr, fpr, tpr))\n",
    "        tpr_list[-1][0] = 0.0\n",
    "        auc_list.append(roc_auc)\n",
    "        \n",
    "        if (i % 10 == 0):\n",
    "            print '{perc}% done! {time}s elapsed'.format(perc=100*float(i)/cross_val.n_iter, time=(time.time() - t1))\n",
    "        \n",
    "            \n",
    "        \n",
    "        \n",
    "    # get mean tpr and fpr\n",
    "    mean_tpr = np.mean(tpr_list, axis=0)\n",
    "    # make sure it ends up at 1.0\n",
    "    mean_tpr[-1] = 1.0\n",
    "    mean_auc = auc(mean_fpr, mean_tpr)\n",
    "    std_auc = np.std(auc_list)\n",
    "    \n",
    "    if plot:\n",
    "        # plot mean auc\n",
    "        plt.plot(mean_fpr, mean_tpr, label='Mean ROC - AUC = %0.2f $\\pm$ %0.2f' % (mean_auc, \n",
    "                                                                                       std_auc),\n",
    "                    lw=5, color='b')\n",
    "\n",
    "        # plot luck-line\n",
    "        plt.plot([0,1], [0,1], linestyle = '--', lw=2, color='r',\n",
    "                    label='Luck', alpha=0.5) \n",
    "\n",
    "        # plot 1-std\n",
    "        std_tpr = np.std(tpr_list, axis=0)\n",
    "        tprs_upper = np.minimum(mean_tpr + std_tpr, 1)\n",
    "        tprs_lower = np.maximum(mean_tpr - std_tpr, 0)\n",
    "        plt.fill_between(mean_fpr, tprs_lower, tprs_upper, color='grey', alpha=0.2,\n",
    "                            label=r'$\\pm$ 1 stdev')\n",
    "\n",
    "        plt.xlim([-0.05, 1.05])\n",
    "        plt.ylim([-0.05, 1.05])\n",
    "        plt.xlabel('False Positive Rate')\n",
    "        plt.ylabel('True Positive Rate')\n",
    "        plt.title('ROC curve, {iters} iterations of {cv} cross validation'.format(\n",
    "            iters=cross_val.n_iter, cv='{train}:{test}'.format(test=cross_val.test_size, train=(1-cross_val.test_size)))\n",
    "                 )\n",
    "        plt.legend(loc=\"lower right\")\n",
    "\n",
    "        if save:\n",
    "            plt.savefig(path,  format='pdf')\n",
    "\n",
    "\n",
    "        plt.show()\n",
    "    return tpr_list, auc_list, mean_fpr"
   ]
  },
  {
   "cell_type": "code",
   "execution_count": 119,
   "metadata": {},
   "outputs": [
    {
     "name": "stdout",
     "output_type": "stream",
     "text": [
      "3\n",
      "0.3\n",
      "0.0% done! 2.01393198967s elapsed\n"
     ]
    },
    {
     "data": {
      "image/png": "[encoded data removed]",
      "text/plain": [
       "<matplotlib.figure.Figure at 0x7f8ba2615e10>"
      ]
     },
     "metadata": {},
     "output_type": "display_data"
    }
   ],
   "source": [
    "\n",
    "\n",
    "rf_estimators = 1000\n",
    "n_iter = 3\n",
    "test_size = 0.3\n",
    "random_state = 1\n",
    "cross_val_rf = StratifiedShuffleSplit(y, n_iter=n_iter, test_size=test_size, random_state=random_state)\n",
    "clf_rf = RandomForestClassifier(n_estimators=rf_estimators, random_state=random_state)\n",
    "rf_graph_path = '''/home/irockafe/Dropbox (MIT)/Alm_Lab/projects/revolutionizing_healthcare/data/MTBLS315/\\\n",
    "isaac_feature_tables/uhplc_pos/rf_roc_{trees}trees_{cv}cviter.pdf'''.format(trees=rf_estimators, cv=n_iter)\n",
    "\n",
    "print cross_val_rf.n_iter\n",
    "print cross_val_rf.test_size\n",
    "\n",
    "tpr_vals, auc_vals, mean_fpr = roc_curve_cv(X, y, clf_rf, cross_val_rf,\n",
    "                                           path=rf_graph_path, save=False)"
   ]
  },
  {
   "cell_type": "code",
   "execution_count": 75,
   "metadata": {},
   "outputs": [
    {
     "name": "stdout",
     "output_type": "stream",
     "text": [
      "0.0% done! 4.04500412941s elapsed\n"
     ]
    },
    {
     "data": {
      "image/png": "[encoded data removed]",
      "text/plain": [
       "<matplotlib.figure.Figure at 0x7f8ba3a195d0>"
      ]
     },
     "metadata": {},
     "output_type": "display_data"
    }
   ],
   "source": [
    "# For adaboosted\n",
    "n_iter = 3\n",
    "test_size = 0.3\n",
    "random_state = 1\n",
    "adaboost_estimators = 200\n",
    "adaboost_path = '''/home/irockafe/Dropbox (MIT)/Alm_Lab/projects/revolutionizing_healthcare/data/MTBLS315/\\\n",
    "isaac_feature_tables/uhplc_pos/adaboost_roc_{trees}trees_{cv}cviter.pdf'''.format(trees=adaboost_estimators, \n",
    "                                                                            cv=n_iter)\n",
    "\n",
    "\n",
    "cross_val_adaboost = StratifiedShuffleSplit(y, n_iter=n_iter, test_size=test_size, random_state=random_state)\n",
    "clf = AdaBoostClassifier(n_estimators=adaboost_estimators, random_state=random_state)\n",
    "\n",
    "adaboost_tpr, adaboost_auc, adaboost_fpr = roc_curve_cv(X, y, clf, cross_val_adaboost,\n",
    "                                                       path=adaboost_path)"
   ]
  },
  {
   "cell_type": "code",
   "execution_count": 120,
   "metadata": {},
   "outputs": [
    {
     "name": "stdout",
     "output_type": "stream",
     "text": [
      "(60, 6857)\n"
     ]
    }
   ],
   "source": [
    "print X.shape"
   ]
  },
  {
   "cell_type": "markdown",
   "metadata": {},
   "source": [
    "<h2> Great, you can classify things. But make null models and do a sanity check to make \n",
    "sure you arent just classifying garbage </h2>"
   ]
  },
  {
   "cell_type": "code",
   "execution_count": 76,
   "metadata": {
    "collapsed": true
   },
   "outputs": [],
   "source": [
    "# Make a null model AUC curve\n",
    "\n",
    "def make_null_model(X, y, clf, cross_val, random_state=1, num_shuffles=5, plot=True):\n",
    "    '''\n",
    "    Runs the true model, then sanity-checks by:\n",
    "    \n",
    "    Shuffles class labels and then builds cross-validated ROC curves from them.\n",
    "    Compares true AUC vs. shuffled auc by t-test (assumes normality of AUC curve)\n",
    "    '''\n",
    "    null_aucs = []\n",
    "    print y.shape\n",
    "    print X.shape\n",
    "    tpr_true, auc_true, fpr_true = roc_curve_cv(X, y, clf, cross_val)\n",
    "    # shuffle y lots of times\n",
    "    for i in range(0, num_shuffles):\n",
    "        #Iterate through the shuffled y vals and repeat with appropriate params\n",
    "        # Retain the auc vals for final plotting of distribution\n",
    "        y_shuffle = shuffle(y)\n",
    "        cross_val.y = y_shuffle\n",
    "        cross_val.y_indices = y_shuffle\n",
    "        print 'Number of differences b/t original and shuffle: %s' % (y == cross_val.y).sum()\n",
    "        # Get auc values for number of iterations\n",
    "        tpr, auc, fpr = roc_curve_cv(X, y_shuffle, clf, cross_val, plot=False)\n",
    "        \n",
    "        null_aucs.append(auc)\n",
    "    \n",
    "    \n",
    "    #plot the outcome\n",
    "    if plot:\n",
    "        flattened_aucs = [j for i in null_aucs for j in i]\n",
    "        my_dict = {'true_auc': auc_true, 'null_auc': flattened_aucs}\n",
    "        df_poop =  pd.DataFrame.from_dict(my_dict, orient='index').T\n",
    "        df_tidy = pd.melt(df_poop, value_vars=['true_auc', 'null_auc'],\n",
    "                         value_name='auc', var_name='AUC_type')\n",
    "        #print flattened_aucs\n",
    "        sns.violinplot(x='AUC_type', y='auc',\n",
    "            inner='points', data=df_tidy)\n",
    "        # Plot distribution of AUC vals   \n",
    "        plt.title(\"Distribution of aucs\")\n",
    "        #sns.plt.ylabel('count')\n",
    "        plt.xlabel('AUC')\n",
    "        #sns.plt.plot(auc_true, 0, color='red', markersize=10)\n",
    "        plt.show()\n",
    "    # Do a quick t-test to see if odds of randomly getting an AUC that good\n",
    "    return auc_true, null_aucs\n"
   ]
  },
  {
   "cell_type": "code",
   "execution_count": 80,
   "metadata": {
    "scrolled": false
   },
   "outputs": [
    {
     "name": "stdout",
     "output_type": "stream",
     "text": [
      "(60,)\n",
      "(60, 6857)\n",
      "0.0% done! 1.98951101303s elapsed\n",
      "20.0% done! 23.2866311073s elapsed\n",
      "40.0% done! 45.426803112s elapsed\n",
      "60.0% done! 64.6907000542s elapsed\n",
      "80.0% done! 84.3342819214s elapsed\n"
     ]
    },
    {
     "data": {
      "image/png": "[encoded data removed]",
      "text/plain": [
       "<matplotlib.figure.Figure at 0x7f8ba38a9850>"
      ]
     },
     "metadata": {},
     "output_type": "display_data"
    },
    {
     "name": "stdout",
     "output_type": "stream",
     "text": [
      "Number of differences b/t original and shuffle: 28\n",
      "0.0% done! 2.0375430584s elapsed\n",
      "20.0% done! 24.2736289501s elapsed\n",
      "40.0% done! 45.9073090553s elapsed\n",
      "60.0% done! 66.4045600891s elapsed\n",
      "80.0% done! 87.3796539307s elapsed\n",
      "Number of differences b/t original and shuffle: 28\n",
      "0.0% done! 2.00804305077s elapsed\n",
      "20.0% done! 23.4076499939s elapsed\n",
      "40.0% done! 44.6843700409s elapsed\n",
      "60.0% done! 66.2608439922s elapsed\n",
      "80.0% done! 88.4894390106s elapsed\n",
      "Number of differences b/t original and shuffle: 36\n",
      "0.0% done! 2.02911615372s elapsed\n",
      "20.0% done! 21.7539160252s elapsed\n",
      "40.0% done! 42.176071167s elapsed\n",
      "60.0% done! 62.0842471123s elapsed\n",
      "80.0% done! 83.4315152168s elapsed\n",
      "Number of differences b/t original and shuffle: 36\n",
      "0.0% done! 2.00507688522s elapsed\n",
      "20.0% done! 23.0816810131s elapsed\n",
      "40.0% done! 43.9805998802s elapsed\n",
      "60.0% done! 64.5948519707s elapsed\n",
      "80.0% done! 86.1674730778s elapsed\n",
      "Number of differences b/t original and shuffle: 26\n",
      "0.0% done! 2.01746702194s elapsed\n",
      "20.0% done! 24.0207948685s elapsed\n",
      "40.0% done! 44.8304729462s elapsed\n",
      "60.0% done! 65.2819898129s elapsed\n",
      "80.0% done! 86.4579348564s elapsed\n"
     ]
    },
    {
     "data": {
      "image/png": "[encoded data removed]",
      "text/plain": [
       "<matplotlib.figure.Figure at 0x7f8ba38871d0>"
      ]
     },
     "metadata": {},
     "output_type": "display_data"
    }
   ],
   "source": [
    "# Make a null model AUC curve & compare it to null-model\n",
    "\n",
    "# Random forest magic!\n",
    "rf_estimators = 1000\n",
    "n_iter = 50\n",
    "test_size = 0.3\n",
    "random_state = 1\n",
    "\n",
    "# Define Cross-validation and classifier\n",
    "cross_val_rf = StratifiedShuffleSplit(y, n_iter=n_iter, test_size=test_size, random_state=random_state)\n",
    "clf_rf = RandomForestClassifier(n_estimators=rf_estimators, random_state=random_state)\n",
    "\n",
    "true_auc, all_aucs = make_null_model(X, y, clf_rf, cross_val_rf, num_shuffles=5)"
   ]
  },
  {
   "cell_type": "code",
   "execution_count": 81,
   "metadata": {},
   "outputs": [
    {
     "name": "stdout",
     "output_type": "stream",
     "text": [
      "   AUC_type  auc\n",
      "0  true_auc    1\n",
      "1  true_auc    1\n",
      "2  true_auc    1\n",
      "3  true_auc    1\n",
      "4  true_auc    1\n"
     ]
    },
    {
     "data": {
      "image/png": "[encoded data removed]",
      "text/plain": [
       "<matplotlib.figure.Figure at 0x7f8ba38e8910>"
      ]
     },
     "metadata": {},
     "output_type": "display_data"
    }
   ],
   "source": [
    "# make dataframe from true and false aucs\n",
    "flattened_aucs = [j for i in all_aucs for j in i]\n",
    "my_dict = {'true_auc': true_auc, 'null_auc': flattened_aucs}\n",
    "df_poop =  pd.DataFrame.from_dict(my_dict, orient='index').T\n",
    "df_tidy = pd.melt(df_poop, value_vars=['true_auc', 'null_auc'],\n",
    "                 value_name='auc', var_name='AUC_type')\n",
    "print df_tidy.head()\n",
    "#print flattened_aucs\n",
    "sns.violinplot(x='AUC_type', y='auc',\n",
    "    inner='points', data=df_tidy, bw=0.7)\n",
    "plt.show()\n",
    "\n"
   ]
  },
  {
   "cell_type": "markdown",
   "metadata": {},
   "source": [
    "<h2> This seems kinda wild </h2>\n",
    "Is there just an easy-to-spot difference in the number of zero-entries between the two?"
   ]
  },
  {
   "cell_type": "code",
   "execution_count": 184,
   "metadata": {},
   "outputs": [
    {
     "name": "stdout",
     "output_type": "stream",
     "text": [
      "[('red', 0, 'malaria'), ('blue', 1, 'non-malaria fever')]\n",
      "(34,)\n",
      "(26,)\n"
     ]
    },
    {
     "data": {
      "image/png": "[encoded data removed]",
      "text/plain": [
       "<matplotlib.figure.Figure at 0x7f8ba23f4e50>"
      ]
     },
     "metadata": {},
     "output_type": "display_data"
    }
   ],
   "source": [
    "from sklearn.decomposition import PCA\n",
    "\n",
    "# Check PCA of things\n",
    "def PCA_plot(X, y, n_components, plot_color, class_nums, class_names, title='PCA'):\n",
    "    pca = PCA(n_components=n_components)\n",
    "    X_pca = pca.fit(X).transform(X)\n",
    "\n",
    "    print zip(plot_color, class_nums, class_names)\n",
    "    for color, i, target_name in zip(plot_color, class_nums, class_names):\n",
    "        \n",
    "        # plot one class at a time, first plot all classes y == 0\n",
    "        #print color\n",
    "        #print y == i\n",
    "        xvals = X_pca[y == i, 0]\n",
    "        print xvals.shape\n",
    "        yvals = X_pca[y == i, 1]\n",
    "        plt.scatter(xvals, yvals, color=color, alpha=0.8, label=target_name)\n",
    "\n",
    "    plt.legend(bbox_to_anchor=(1.01,1), loc='upper left', shadow=False)#, scatterpoints=1)\n",
    "    plt.title('PCA of Malaria data')\n",
    "    plt.show()\n",
    "\n",
    "\n",
    "PCA_plot(X, y, 2, ['red', 'blue'], [0,1], ['malaria', 'non-malaria fever'])"
   ]
  },
  {
   "cell_type": "markdown",
   "metadata": {},
   "source": [
    "<h2> Let's see if PCA differentiates all three classes easily, it looks like it might... </h2> Or batch effects?"
   ]
  },
  {
   "cell_type": "code",
   "execution_count": 185,
   "metadata": {},
   "outputs": [
    {
     "name": "stdout",
     "output_type": "stream",
     "text": [
      "            MS Assay Name                            class\n",
      "Sample Name                                               \n",
      "MCMA429            1001_P                          malaria\n",
      "MCMA430            1002_P                          malaria\n",
      "MCMA431            1003_P                          malaria\n",
      "MCMA433            1004_P                          malaria\n",
      "MCMA434            1005_P     non-malarial febrile illness\n",
      "MCMA435            1006_P                          malaria\n",
      "MCMA436            1007_P  bacterial bloodstream infection\n",
      "MCMA442            1009_P                          malaria\n",
      "MCMA443            1010_P     non-malarial febrile illness\n",
      "MCMA444            1011_P  bacterial bloodstream infection\n",
      "[1 1 1 1 2 1 0 1 2 0 0 1 1 1 1 1 0 2 2 2 0 1 1 1 1 2 0 2 1 2 1 1 1 1 1 1 2\n",
      " 1 0 1 1 0 0 1 2 0 2 2 1 0 1 1 2 0 2 1 1 1 1 1]\n",
      "(60, 6857)\n",
      "(60,)\n",
      "['bacterial bloodstream infection' 'malaria' 'non-malarial febrile illness']\n",
      "[0 1 2]\n",
      "[('green', 0, 'bacterial bloodstream infection'), ('red', 1, 'malaria'), ('blue', 2, 'non-malarial febrile illness')]\n",
      "(12,)\n",
      "(34,)\n",
      "(14,)\n"
     ]
    },
    {
     "data": {
      "image/png": "[encoded data removed]",
      "text/plain": [
       "<matplotlib.figure.Figure at 0x7f8ba3968a90>"
      ]
     },
     "metadata": {},
     "output_type": "display_data"
    }
   ],
   "source": [
    "# convert classes to numbers\n",
    "le = preprocessing.LabelEncoder()\n",
    "le.fit(class_map_df['class'])\n",
    "y_three_class = le.transform(class_map_df['class'])\n",
    "print class_map_df.head(10)\n",
    "print y_three_class\n",
    "print X.shape\n",
    "print y_three_class.shape\n",
    "\n",
    "y_labels = np.sort(class_map_df['class'].unique())\n",
    "print y_labels\n",
    "colors = ['green', 'red', 'blue']\n",
    "\n",
    "print np.unique(y_three_class)\n",
    "PCA_plot(X, y_three_class, 2, colors, np.unique(y_three_class), y_labels)\n",
    "\n"
   ]
  }
 ],
 "metadata": {
  "kernelspec": {
   "display_name": "Python [default]",
   "language": "python",
   "name": "python2"
  },
  "language_info": {
   "codemirror_mode": {
    "name": "ipython",
    "version": 2
   },
   "file_extension": ".py",
   "mimetype": "text/x-python",
   "name": "python",
   "nbconvert_exporter": "python",
   "pygments_lexer": "ipython2",
   "version": "2.7.13"
  }
 },
 "nbformat": 4,
 "nbformat_minor": 1
}
