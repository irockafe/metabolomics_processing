{
 "cells": [
  {
   "cell_type": "markdown",
   "metadata": {},
   "source": [
    "<h2> After performing centwav at 15ppm, then grouping with bw=2. Retention correction applied </h2>\n",
    "\n",
    "Retention correction allowed a peak to be missing from ~20% of the data (100 samples) and still count as a \"well-behaved peak\". The default setting is 1.\n",
    "\n",
    "Remember, this dataset is weird. It has replicates of all measurements. Make sure to split them before doing and ML stuff. It'll screw up your cross-validation completely.\n",
    "\n",
    "Also, samples were run in 3 batches. I didn't take that into account in the xcms code, so all three are present currently in the feature table. You might want to repeat xcms with the batches separated at some point"
   ]
  },
  {
   "cell_type": "code",
   "execution_count": 1,
   "metadata": {},
   "outputs": [
    {
     "name": "stderr",
     "output_type": "stream",
     "text": [
      "/home/irockafe/miniconda2/envs/isaac_revo_healthcare/lib/python2.7/site-packages/sklearn/cross_validation.py:41: DeprecationWarning: This module was deprecated in version 0.18 in favor of the model_selection module into which all the refactored classes and functions are moved. Also note that the interface of the new CV iterators are different from that of this module. This module will be removed in 0.20.\n",
      "  \"This module will be removed in 0.20.\", DeprecationWarning)\n"
     ]
    }
   ],
   "source": [
    "import time\n",
    "\n",
    "import pandas as pd\n",
    "import seaborn as sns\n",
    "import matplotlib.pyplot as plt\n",
    "import numpy as np\n",
    "\n",
    "from sklearn import preprocessing\n",
    "from sklearn.ensemble import RandomForestClassifier\n",
    "from sklearn.cross_validation import StratifiedShuffleSplit\n",
    "from sklearn.cross_validation import cross_val_score\n",
    "#from sklearn.model_selection import StratifiedShuffleSplit\n",
    "#from sklearn.model_selection import cross_val_score\n",
    "\n",
    "from sklearn.ensemble import AdaBoostClassifier\n",
    "from sklearn.metrics import roc_curve, auc\n",
    "from sklearn.utils import shuffle\n",
    "\n",
    "from scipy import interp\n",
    "\n",
    "%matplotlib inline"
   ]
  },
  {
   "cell_type": "code",
   "execution_count": 2,
   "metadata": {},
   "outputs": [
    {
     "name": "stdout",
     "output_type": "stream",
     "text": [
      "     0    1    2    3\n",
      "0  1.0  2.0  3.0  0.0\n",
      "1  0.0  0.0  0.0  0.0\n",
      "2  0.5  1.0  0.0  0.0\n",
      "     0    1    2\n",
      "0  1.0  2.0  3.0\n",
      "1  0.0  0.0  0.0\n",
      "2  0.5  1.0  0.0\n",
      "      0    1    2\n",
      "0  1.00  2.0  3.0\n",
      "1  0.25  0.5  1.5\n",
      "2  0.50  1.0  1.5\n"
     ]
    }
   ],
   "source": [
    "def remove_zero_columns(X, threshold=1e-20):\n",
    "    # convert zeros to nan, drop all nan columns, the replace leftover nan with zeros\n",
    "    X_non_zero_colum = X.replace(0, np.nan).dropna(how='all', axis=1).replace(np.nan, 0)\n",
    "    #.dropna(how='all', axis=0).replace(np.nan,0)\n",
    "    return X_non_zero_colum\n",
    "\n",
    "def zero_fill_half_min(X, threshold=1e-20):\n",
    "    # Fill zeros with 1/2 the minimum value of that column\n",
    "    # input dataframe. Add only to zero values\n",
    "    \n",
    "    # Get a vector of 1/2 minimum values\n",
    "    half_min = X[X > threshold].min(axis=0)*0.5\n",
    "    \n",
    "    # Add the half_min values to a dataframe where everything that isn't zero is NaN.\n",
    "    # then convert NaN's to 0\n",
    "    fill_vals = (X[X < threshold] + half_min).fillna(value=0)\n",
    "    \n",
    "    # Add the original dataframe to the dataframe of zeros and fill-values\n",
    "    X_zeros_filled = X + fill_vals\n",
    "    return X_zeros_filled\n",
    "\n",
    "\n",
    "\n",
    "toy = pd.DataFrame([[1,2,3,0],\n",
    "               [0,0,0,0],\n",
    "               [0.5,1,0,0]], dtype=float)\n",
    "\n",
    "toy_no_zeros = remove_zero_columns(toy)\n",
    "toy_filled_zeros = zero_fill_half_min(toy_no_zeros)\n",
    "print toy\n",
    "print toy_no_zeros\n",
    "print toy_filled_zeros"
   ]
  },
  {
   "cell_type": "markdown",
   "metadata": {},
   "source": [
    "<h2> Import the dataframe and remove any features that are all zero </h2>"
   ]
  },
  {
   "cell_type": "markdown",
   "metadata": {},
   "source": [
    "<h3> MAKE SURE THAT THE CLASS LABELS AND FEATURE TABLES MATCH UP. YOU'RE CONVERTING THEM TO MATRICES THAT DON'T CARE ABOUT CLASS LABELS </h3>\n",
    "Don't be silly. Sort everything first, then double check that the order is correct & matching"
   ]
  },
  {
   "cell_type": "code",
   "execution_count": 42,
   "metadata": {
    "scrolled": true
   },
   "outputs": [
    {
     "name": "stdout",
     "output_type": "stream",
     "text": [
      "209445\n",
      "original shape: (524, 1467) \n",
      "# zeros: 0.000000\n",
      "\n",
      "zero-columns repalced? shape: (524, 1467) \n",
      "# zeros: 209445.000000\n",
      "\n",
      "zeros filled shape: (524, 1467) \n",
      "#zeros: 0.000000\n",
      "\n",
      "                   61.0061028102:573.015112266  69.0339926518:245.689326832  \\\n",
      "Exp1_CRR_100a_POS                  1769.876983                   627.058164   \n",
      "Exp1_CRR_101a_POS                  1891.281529                    12.644875   \n",
      "Exp1_CRR_102a_POS                  1873.451045                  1103.004387   \n",
      "Exp1_CRR_103a_POS                  1689.952671                   691.792100   \n",
      "Exp1_CRR_104a_POS                  1926.811842                   892.018099   \n",
      "\n",
      "                   70.0110560435:573.01716743  70.065536737:22.7817925415  \\\n",
      "Exp1_CRR_100a_POS                 2089.403535                  610.021506   \n",
      "Exp1_CRR_101a_POS                 2096.340621                  505.122026   \n",
      "Exp1_CRR_102a_POS                 2208.902615                  547.639860   \n",
      "Exp1_CRR_103a_POS                 1774.212632                   39.136221   \n",
      "Exp1_CRR_104a_POS                 2081.740153                  388.661898   \n",
      "\n",
      "                   72.0810370676:23.560776597  72.938709021:577.818984337  \\\n",
      "Exp1_CRR_100a_POS                 1088.466976                   10.160392   \n",
      "Exp1_CRR_101a_POS                   13.921136                   10.160392   \n",
      "Exp1_CRR_102a_POS                  763.301930                 2957.280763   \n",
      "Exp1_CRR_103a_POS                  844.075590                   10.160392   \n",
      "Exp1_CRR_104a_POS                  427.995021                   10.160392   \n",
      "\n",
      "                   79.0158503572:573.021101971  79.0216381253:23.5749941947  \\\n",
      "Exp1_CRR_100a_POS                   600.282452                    20.726015   \n",
      "Exp1_CRR_101a_POS                   698.150583                    20.726015   \n",
      "Exp1_CRR_102a_POS                   679.946529                   428.329587   \n",
      "Exp1_CRR_103a_POS                   680.952853                   274.741515   \n",
      "Exp1_CRR_104a_POS                   635.569273                   261.342242   \n",
      "\n",
      "                   80.9496432069:19.9205577833  81.0337999901:245.739098969  \\\n",
      "Exp1_CRR_100a_POS                  4960.140229                   214.271142   \n",
      "Exp1_CRR_101a_POS                  4568.989249                   285.708205   \n",
      "Exp1_CRR_102a_POS                  3959.995110                   426.282707   \n",
      "Exp1_CRR_103a_POS                  4690.908395                   267.779813   \n",
      "Exp1_CRR_104a_POS                  4415.968315                    15.059911   \n",
      "\n",
      "                              ...               842.595415128:134.621521596  \\\n",
      "Exp1_CRR_100a_POS             ...                                106.725340   \n",
      "Exp1_CRR_101a_POS             ...                                 12.237167   \n",
      "Exp1_CRR_102a_POS             ...                                 12.237167   \n",
      "Exp1_CRR_103a_POS             ...                                 12.237167   \n",
      "Exp1_CRR_104a_POS             ...                                134.482451   \n",
      "\n",
      "                   842.813612134:134.622024078  843.200668829:134.327902764  \\\n",
      "Exp1_CRR_100a_POS                   194.084185                     9.663477   \n",
      "Exp1_CRR_101a_POS                    89.257073                    67.202233   \n",
      "Exp1_CRR_102a_POS                    16.511360                     9.663477   \n",
      "Exp1_CRR_103a_POS                   176.349789                    54.491852   \n",
      "Exp1_CRR_104a_POS                   127.412491                     9.663477   \n",
      "\n",
      "                   844.529059508:493.743874375  846.444626906:245.875527954  \\\n",
      "Exp1_CRR_100a_POS                    14.580549                   871.442209   \n",
      "Exp1_CRR_101a_POS                    14.580549                  1298.685658   \n",
      "Exp1_CRR_102a_POS                   154.215468                  1991.254403   \n",
      "Exp1_CRR_103a_POS                    14.580549                  1261.913978   \n",
      "Exp1_CRR_104a_POS                    14.580549                  1458.110010   \n",
      "\n",
      "                   847.448521185:245.989283233  848.388280502:245.688762385  \\\n",
      "Exp1_CRR_100a_POS                   442.119210                   908.417388   \n",
      "Exp1_CRR_101a_POS                   493.279464                  1269.632918   \n",
      "Exp1_CRR_102a_POS                  1058.506067                  2298.961828   \n",
      "Exp1_CRR_103a_POS                   662.630229                  1210.178688   \n",
      "Exp1_CRR_104a_POS                   688.490205                  1779.074517   \n",
      "\n",
      "                   848.88625749:245.677554099  849.389060528:245.684845618  \\\n",
      "Exp1_CRR_100a_POS                  869.616430                   456.162049   \n",
      "Exp1_CRR_101a_POS                 1325.303865                   793.601470   \n",
      "Exp1_CRR_102a_POS                 2213.921162                  1433.990370   \n",
      "Exp1_CRR_103a_POS                 1289.034900                   774.640197   \n",
      "Exp1_CRR_104a_POS                 1686.632889                  1028.968746   \n",
      "\n",
      "                   849.889462319:245.690270379  \n",
      "Exp1_CRR_100a_POS                   232.087201  \n",
      "Exp1_CRR_101a_POS                   308.507358  \n",
      "Exp1_CRR_102a_POS                   564.971774  \n",
      "Exp1_CRR_103a_POS                   306.532657  \n",
      "Exp1_CRR_104a_POS                   410.391646  \n",
      "\n",
      "[5 rows x 1467 columns]\n",
      "                   61.0061028102:573.015112266  69.0339926518:245.689326832  \\\n",
      "Exp1_CRR_100b_POS                  1532.476465                   768.008308   \n",
      "Exp1_CRR_101b_POS                  1944.232812                   701.552280   \n",
      "Exp1_CRR_102b_POS                  1738.452955                  1198.649973   \n",
      "Exp1_CRR_103b_POS                  1569.014133                   886.916919   \n",
      "Exp1_CRR_104b_POS                  1816.425297                   889.141434   \n",
      "\n",
      "                   70.0110560435:573.01716743  70.065536737:22.7817925415  \\\n",
      "Exp1_CRR_100b_POS                 1833.609152                  466.651873   \n",
      "Exp1_CRR_101b_POS                 1892.161914                  579.464852   \n",
      "Exp1_CRR_102b_POS                 1997.036752                  555.055154   \n",
      "Exp1_CRR_103b_POS                 1818.421501                  366.327915   \n",
      "Exp1_CRR_104b_POS                 1869.288723                  376.816841   \n",
      "\n",
      "                   72.0810370676:23.560776597  72.938709021:577.818984337  \\\n",
      "Exp1_CRR_100b_POS                 1488.632557                 3211.712088   \n",
      "Exp1_CRR_101b_POS                   13.921136                 3166.879091   \n",
      "Exp1_CRR_102b_POS                  760.246767                 3122.382662   \n",
      "Exp1_CRR_103b_POS                  658.719482                 2826.601940   \n",
      "Exp1_CRR_104b_POS                  461.209666                   10.160392   \n",
      "\n",
      "                   79.0158503572:573.021101971  79.0216381253:23.5749941947  \\\n",
      "Exp1_CRR_100b_POS                   704.793313                    20.726015   \n",
      "Exp1_CRR_101b_POS                   570.204273                   234.626400   \n",
      "Exp1_CRR_102b_POS                   681.497606                   410.955904   \n",
      "Exp1_CRR_103b_POS                   601.049815                    20.726015   \n",
      "Exp1_CRR_104b_POS                   556.559033                   209.910828   \n",
      "\n",
      "                   80.9496432069:19.9205577833  81.0337999901:245.739098969  \\\n",
      "Exp1_CRR_100b_POS                  5002.261439                   184.275111   \n",
      "Exp1_CRR_101b_POS                  4365.191039                   322.589726   \n",
      "Exp1_CRR_102b_POS                  3779.785279                   421.886131   \n",
      "Exp1_CRR_103b_POS                  4711.997818                   243.037392   \n",
      "Exp1_CRR_104b_POS                  4288.546604                   369.281749   \n",
      "\n",
      "                              ...               842.595415128:134.621521596  \\\n",
      "Exp1_CRR_100b_POS             ...                                 12.237167   \n",
      "Exp1_CRR_101b_POS             ...                                 12.237167   \n",
      "Exp1_CRR_102b_POS             ...                                 12.237167   \n",
      "Exp1_CRR_103b_POS             ...                                100.519824   \n",
      "Exp1_CRR_104b_POS             ...                                 57.577309   \n",
      "\n",
      "                   842.813612134:134.622024078  843.200668829:134.327902764  \\\n",
      "Exp1_CRR_100b_POS                   124.622538                    51.259811   \n",
      "Exp1_CRR_101b_POS                    16.511360                     9.663477   \n",
      "Exp1_CRR_102b_POS                    16.511360                     9.663477   \n",
      "Exp1_CRR_103b_POS                   102.631983                    54.446925   \n",
      "Exp1_CRR_104b_POS                    16.511360                     9.663477   \n",
      "\n",
      "                   844.529059508:493.743874375  846.444626906:245.875527954  \\\n",
      "Exp1_CRR_100b_POS                    14.580549                  1194.106647   \n",
      "Exp1_CRR_101b_POS                    14.580549                  1505.224521   \n",
      "Exp1_CRR_102b_POS                    14.580549                  2028.823293   \n",
      "Exp1_CRR_103b_POS                    14.580549                  1556.795568   \n",
      "Exp1_CRR_104b_POS                    14.580549                  1689.824958   \n",
      "\n",
      "                   847.448521185:245.989283233  848.388280502:245.688762385  \\\n",
      "Exp1_CRR_100b_POS                   573.023361                  1293.493336   \n",
      "Exp1_CRR_101b_POS                   844.978491                  1827.900684   \n",
      "Exp1_CRR_102b_POS                  1170.252696                  2509.252382   \n",
      "Exp1_CRR_103b_POS                   821.153439                  1785.107440   \n",
      "Exp1_CRR_104b_POS                   861.144766                  2085.446032   \n",
      "\n",
      "                   848.88625749:245.677554099  849.389060528:245.684845618  \\\n",
      "Exp1_CRR_100b_POS                 1173.949524                   773.041886   \n",
      "Exp1_CRR_101b_POS                 1730.575677                   992.014040   \n",
      "Exp1_CRR_102b_POS                 2467.701214                  1500.920938   \n",
      "Exp1_CRR_103b_POS                 1618.561330                   826.532188   \n",
      "Exp1_CRR_104b_POS                 1909.562728                  1226.047935   \n",
      "\n",
      "                   849.889462319:245.690270379  \n",
      "Exp1_CRR_100b_POS                   292.720766  \n",
      "Exp1_CRR_101b_POS                   390.676153  \n",
      "Exp1_CRR_102b_POS                   638.966974  \n",
      "Exp1_CRR_103b_POS                   370.590810  \n",
      "Exp1_CRR_104b_POS                   476.380643  \n",
      "\n",
      "[5 rows x 1467 columns]\n",
      "a-samples:  (262, 1467)\n",
      "b-samples:  (262, 1467)\n"
     ]
    }
   ],
   "source": [
    "### Subdivide the data into a feature table\n",
    "data_path = '/home/irockafe/Dropbox (MIT)/Alm_Lab/'\\\n",
    "'projects/revo_healthcare/data/processed/MTBLS17/'\\\n",
    "'positive/mtbls17_bw2_retcor_100_missing_allowed.csv'\n",
    "## Import the data and remove extraneous columns\n",
    "df = pd.read_csv(data_path, index_col=0)\n",
    "df.shape\n",
    "df.head()\n",
    "# Make a new index of mz:rt\n",
    "mz = df.loc[:,\"mz\"].astype('str')\n",
    "rt = df.loc[:,\"rt\"].astype('str')\n",
    "idx = mz+':'+rt\n",
    "df.index = idx\n",
    "df\n",
    "# separate samples from xcms/camera things to make feature table\n",
    "not_samples = ['mz', 'mzmin', 'mzmax', 'rt', 'rtmin', 'rtmax', \n",
    "               'npeaks', 'positive', \n",
    "               ]\n",
    "samples_list = df.columns.difference(not_samples)\n",
    "mz_rt_df = df[not_samples]\n",
    "\n",
    "# convert to samples x features\n",
    "X_df_raw = df[samples_list].T\n",
    "print X_df_raw.isnull().sum().sum()\n",
    "# Remove zero-full columns and fill zeroes with 1/2 minimum values\n",
    "X_df = remove_zero_columns(X_df_raw)\n",
    "X_df_zero_filled = zero_fill_half_min(X_df)\n",
    "\n",
    "print \"original shape: %s \\n# zeros: %f\\n\" % (X_df_raw.shape, (X_df_raw < 1e-20).sum().sum())\n",
    "print \"zero-columns repalced? shape: %s \\n# zeros: %f\\n\" % (X_df.shape, \n",
    "                                                         (X_df < 1e-20).sum().sum())\n",
    "print \"zeros filled shape: %s \\n#zeros: %f\\n\" % (X_df_zero_filled.shape, \n",
    "                                              (X_df_zero_filled < 1e-20).sum().sum())\n",
    "\n",
    "# Convert to numpy matrix to play nicely with sklearn\n",
    "# split into a and b groups - a-group is one injection, b-group is another replicate\n",
    "# Sort by sample names so that you can line up class-labels and sample names correctly\n",
    "X_a_df = X_df_zero_filled[X_df_zero_filled.index.str.contains('a')].sort_index(axis=0)\n",
    "X_a = X_a_df.as_matrix()\n",
    "print X_a_df.head()\n",
    "X_b_df = X_df_zero_filled[X_df_zero_filled.index.str.contains('b')].sort_index(axis=0)\n",
    "print X_b_df.head()\n",
    "X_b = X_a_df.as_matrix()\n",
    "X = X_a\n",
    "\n",
    "print 'a-samples: ', X_a.shape\n",
    "print 'b-samples: ', X_b.shape"
   ]
  },
  {
   "cell_type": "markdown",
   "metadata": {},
   "source": [
    "<h2> Get mappings between sample names, file names, and sample classes </h2>"
   ]
  },
  {
   "cell_type": "code",
   "execution_count": 85,
   "metadata": {
    "scrolled": true
   },
   "outputs": [
    {
     "name": "stdout",
     "output_type": "stream",
     "text": [
      "           Sample Name class\n",
      "716  Exp1_CRR_100a_POS   CRR\n",
      "718  Exp1_CRR_101a_POS   CRR\n",
      "720  Exp1_CRR_102a_POS   CRR\n",
      "722  Exp1_CRR_103a_POS   CRR\n",
      "724  Exp1_CRR_104a_POS   CRR\n",
      "           Sample Name class\n",
      "717  Exp1_CRR_100b_POS   CRR\n",
      "719  Exp1_CRR_101b_POS   CRR\n",
      "721  Exp1_CRR_102b_POS   CRR\n",
      "723  Exp1_CRR_103b_POS   CRR\n",
      "725  Exp1_CRR_104b_POS   CRR\n",
      "all labels (524, 2)\n",
      "a labels (262, 2)\n",
      "b labels (262, 2)\n",
      "['CRR' 'HCC']\n",
      "\n",
      "\n",
      "Found 524 labels, should be 524\n"
     ]
    }
   ],
   "source": [
    "# get mapping between sample name and sample class\n",
    "path_sample_class_map = '/home/irockafe/Dropbox (MIT)/'\\\n",
    "'Alm_Lab/projects/revo_healthcare/data/raw/'\\\n",
    "'MTBLS17/s_live_mtbls17.txt'\n",
    "\n",
    "class_df = pd.read_csv(path_sample_class_map,\n",
    "                      sep='\\t')\n",
    "class_map_df = pd.concat([class_df['Sample Name'], class_df['Factor Value[Disease]']], \n",
    "                       axis=1)\n",
    "class_map_df.rename(columns={'Factor Value[Disease]':'class'}, inplace=True)\n",
    "\n",
    "# get rid of the negative values\n",
    "class_map_df = class_map_df[class_map_df['Sample Name'].str.contains('POS')]\n",
    "# split by a and b injection\n",
    "class_map_df_a = class_map_df[class_map_df['Sample Name'].str.contains('a')]\n",
    "class_map_df_b = class_map_df[class_map_df['Sample Name'].str.contains('b')]\n",
    "# sort by sample name so that the sample names and class-label map align together\n",
    "class_map_df_a = class_map_df_a.sort_values('Sample Name', axis=0)\n",
    "class_map_df_b = class_map_df_b.sort_values('Sample Name', axis=0)\n",
    "\n",
    "print class_map_df_a.head()\n",
    "print class_map_df_b.head()\n",
    "print 'all labels', class_map_df.shape\n",
    "print 'a labels', class_map_df_a.shape\n",
    "print 'b labels', class_map_df_b.shape\n",
    "\n",
    "# Make sure that you have the same number of class labels as sample names in your\n",
    "# feature table\n",
    "assert class_map_df.shape[0] == len(X_df_zero_filled.index)\n",
    "\n",
    "# only two classes, HCC and CRR\n",
    "print class_map_df['class'].unique()\n",
    "\n",
    "# Make sure all sample names have a class label\n",
    "count = 0\n",
    "for idx in X_df_zero_filled.index:\n",
    "    if idx in class_map_df['Sample Name'].values:\n",
    "        count += 1\n",
    "print '\\n\\nFound %s labels, should be %s' % (count, len(X_df_zero_filled.index))\n",
    "        \n"
   ]
  },
  {
   "cell_type": "markdown",
   "metadata": {},
   "source": [
    "<h2> Note the class imbalance!! </h2>\n",
    "This shouldn't affect ROC curves...\n",
    "There are more cirrhotic controls than hepatocellular carcinoma patients!\n",
    "78 cases, 184 controls. I might want to artificially balance these classes..?\n",
    "I think it's unjustified outside of wanting to show better classification performance, though. "
   ]
  },
  {
   "cell_type": "markdown",
   "metadata": {},
   "source": [
    "Check to see if y-vals and x-vals are in correct order"
   ]
  },
  {
   "cell_type": "code",
   "execution_count": 86,
   "metadata": {},
   "outputs": [
    {
     "name": "stdout",
     "output_type": "stream",
     "text": [
      "['Exp1_CRR_100a_POS' 'Exp1_CRR_101a_POS' 'Exp1_CRR_102a_POS'\n",
      " 'Exp1_CRR_103a_POS' 'Exp1_CRR_104a_POS']\n",
      "['Exp1_CRR_100a_POS' 'Exp1_CRR_101a_POS' 'Exp1_CRR_102a_POS'\n",
      " 'Exp1_CRR_103a_POS' 'Exp1_CRR_104a_POS']\n"
     ]
    }
   ],
   "source": [
    "print X_a_df.index.values[0:5]\n",
    "print class_map_df_a['Sample Name'].values[0:5]\n",
    "assert (X_b_df.index.values == class_map_df_b['Sample Name'].values).all()\n",
    "assert (X_a_df.index.values == class_map_df_a['Sample Name'].values).all()"
   ]
  },
  {
   "cell_type": "code",
   "execution_count": 87,
   "metadata": {},
   "outputs": [
    {
     "name": "stdout",
     "output_type": "stream",
     "text": [
      "[0 0 0 0 0 0 0 0 0 0 0 0 0 0 0 0 0 0 0 0 0 0 0 0 0 0 0 0 0 0 0 0 0 0 0 0 0\n",
      " 0 0 0 0 0 0 0 0 0 0 0 0 0 0 0 0 0 0 0 0 0 0 0 0 0 0 0 0 0 0 0 0 0 0 0 0 0\n",
      " 0 0 0 0 0 0 0 0 0 0 0 0 0 0 0 0 0 0 0 0 0 0 0 0 0 0 0 0 0 0 0 0 0 0 0 0 0\n",
      " 0 0 0 0 0 0 0 0 0 0 0 0 0 0 0 0 0 0 1 1 1 1 1 1 1 1 1 1 1 1 1 1 1 1 1 1 1\n",
      " 1 1 1 1 1 1 1 1 1 1 1 1 1 1 1 1 1 1 1 1 1 1 1 1 1 1 1 1 1 1 1 1 1 1 1 1 1\n",
      " 1 1 1 1 0 0 0 0 0 0 0 0 0 0 0 0 0 0 0 0 0 0 0 0 0 0 0 0 0 0 0 0 0 0 0 0 0\n",
      " 0 0 0 0 0 0 0 0 0 0 0 0 0 0 0 0 0 1 1 1 1 1 1 1 1 1 1 1 1 1 0 0 0 0 0 1 1\n",
      " 1 1 1]\n",
      "78 262 -184\n",
      "[0 0 0 0 0 0 0 0 0 0 0 0 0 0 0 0 0 0 0 0 0 0 0 0 0 0 0 0 0 0 0 0 0 0 0 0 0\n",
      " 0 0 0 0 0 0 0 0 0 0 0 0 0 0 0 0 0 0 0 0 0 0 0 0 0 0 0 0 0 0 0 0 0 0 0 0 0\n",
      " 0 0 0 0 0 0 0 0 0 0 0 0 0 0 0 0 0 0 0 0 0 0 0 0 0 0 0 0 0 0 0 0 0 0 0 0 0\n",
      " 0 0 0 0 0 0 0 0 0 0 0 0 0 0 0 0 0 0 1 1 1 1 1 1 1 1 1 1 1 1 1 1 1 1 1 1 1\n",
      " 1 1 1 1 1 1 1 1 1 1 1 1 1 1 1 1 1 1 1 1 1 1 1 1 1 1 1 1 1 1 1 1 1 1 1 1 1\n",
      " 1 1 1 1 0 0 0 0 0 0 0 0 0 0 0 0 0 0 0 0 0 0 0 0 0 0 0 0 0 0 0 0 0 0 0 0 0\n",
      " 0 0 0 0 0 0 0 0 0 0 0 0 0 0 0 0 0 1 1 1 1 1 1 1 1 1 1 1 1 1 0 0 0 0 0 1 1\n",
      " 1 1 1]\n"
     ]
    }
   ],
   "source": [
    "# Make sure that the ordering of your feature tables matches the ordering of \n",
    "# the class labels (make sure you're mapping correctly)\n",
    "#asssert X_a_df.index.values == class_map_df_a['Sample Name'].values\n",
    "assert (X_a_df.index.values == class_map_df_a['Sample Name'].values).all()\n",
    "assert (X_b_df.index.values == class_map_df_b['Sample Name'].values).all()\n",
    "\n",
    "# convert classes to numbers\n",
    "le = preprocessing.LabelEncoder()\n",
    "le.fit(class_map_df_a['class'])\n",
    "y_a = le.transform(class_map_df_a['class'])\n",
    "print y_a\n",
    "print sum(y_a), len(y_a), sum(y_a) - len(y_a)\n",
    "\n",
    "# convert classes to numbers\n",
    "le = preprocessing.LabelEncoder()\n",
    "le.fit(class_map_df_b['class'])\n",
    "y_b = le.transform(class_map_df_b['class'])\n",
    "print y_b\n",
    "\n",
    "\n",
    "# define set A as the one to default to\n",
    "y = y_a"
   ]
  },
  {
   "cell_type": "code",
   "execution_count": 88,
   "metadata": {
    "scrolled": true
   },
   "outputs": [
    {
     "name": "stdout",
     "output_type": "stream",
     "text": [
      "[[  1.   1.   1.]\n",
      " [  2.   2.   2.]\n",
      " [  3.   6.   9.]\n",
      " [  6.  12.  18.]]\n",
      "[[  1.   1.   1.   2.   2.   2.   3.   6.   9.   6.  12.  18.]]\n",
      "allquotients reshaped!\n",
      "\n",
      "(3,)\n"
     ]
    },
    {
     "data": {
      "image/png": "[encoded data removed]",
      "text/plain": [
       "<matplotlib.figure.Figure at 0x7fe13fc4e650>"
      ]
     },
     "metadata": {},
     "output_type": "display_data"
    },
    {
     "name": "stdout",
     "output_type": "stream",
     "text": [
      "allquotients reshaped!\n",
      "\n",
      "(3,)\n"
     ]
    },
    {
     "data": {
      "image/png": "[encoded data removed]",
      "text/plain": [
       "<matplotlib.figure.Figure at 0x7fe13fc48710>"
      ]
     },
     "metadata": {},
     "output_type": "display_data"
    },
    {
     "name": "stdout",
     "output_type": "stream",
     "text": [
      "allquotients reshaped!\n",
      "\n",
      "(3,)\n"
     ]
    },
    {
     "data": {
      "image/png": "[encoded data removed]",
      "text/plain": [
       "<matplotlib.figure.Figure at 0x7fe13fa34cd0>"
      ]
     },
     "metadata": {},
     "output_type": "display_data"
    },
    {
     "name": "stdout",
     "output_type": "stream",
     "text": [
      "[[ 0.33333333  0.33333333  0.33333333]\n",
      " [ 0.33333333  0.33333333  0.33333333]\n",
      " [ 0.16666667  0.33333333  0.5       ]\n",
      " [ 0.16666667  0.33333333  0.5       ]]\n",
      "\n",
      "\n",
      "\n",
      "\n",
      "[[ 4.  4.  4.]\n",
      " [ 4.  4.  4.]\n",
      " [ 2.  4.  6.]\n",
      " [ 2.  4.  6.]]\n"
     ]
    }
   ],
   "source": [
    "# TODO PQN normalization, and log-transformation, \n",
    "# and some feature selection (above certain threshold of intensity, use principal components), et\n",
    "\n",
    "def pqn_normalize(X, integral_first=False, plot=False):\n",
    "    '''\n",
    "    Take a feature table and run PQN normalization on it\n",
    "    '''\n",
    "    # normalize by sum of intensities in each sample first. Not necessary\n",
    "    if integral_first: \n",
    "        sample_sums = np.sum(X, axis=1)\n",
    "        X = (X / sample_sums[:,np.newaxis])\n",
    "    \n",
    "    # Get the median value of each feature across all samples\n",
    "    mean_intensities = np.median(X, axis=0)\n",
    "    \n",
    "    # Divde each feature by the median value of each feature - \n",
    "    # these are the quotients for each feature\n",
    "    X_quotients = (X / mean_intensities[np.newaxis,:])\n",
    "    \n",
    "    if plot: # plot the distribution of quotients from one sample\n",
    "        for i in range(1,len(X_quotients[:,1])):\n",
    "            print 'allquotients reshaped!\\n\\n', \n",
    "            #all_quotients = X_quotients.reshape(np.prod(X_quotients.shape))\n",
    "            all_quotients = X_quotients[i,:]\n",
    "            print all_quotients.shape\n",
    "            x = np.random.normal(loc=0, scale=1, size=len(all_quotients))\n",
    "            sns.violinplot(all_quotients)\n",
    "            plt.title(\"median val: %f\\nMax val=%f\" % (np.median(all_quotients), np.max(all_quotients)))\n",
    "            plt.plot( title=\"median val: \")#%f\" % np.median(all_quotients))\n",
    "            plt.xlim([-0.5, 5])\n",
    "            plt.show()\n",
    "\n",
    "    # Define a quotient for each sample as the median of the feature-specific quotients\n",
    "    # in that sample\n",
    "    sample_quotients = np.median(X_quotients, axis=1)\n",
    "    \n",
    "    # Quotient normalize each samples\n",
    "    X_pqn = X / sample_quotients[:,np.newaxis]\n",
    "    return X_pqn\n",
    "\n",
    "# Make a fake sample, with 2 samples at 1x and 2x dilutions\n",
    "X_toy = np.array([[1,1,1,],\n",
    "                  [2,2,2],\n",
    "                  [3,6,9],\n",
    "                  [6,12,18]], dtype=float)\n",
    "print X_toy\n",
    "print X_toy.reshape(1, np.prod(X_toy.shape))\n",
    "X_toy_pqn_int = pqn_normalize(X_toy, integral_first=True, plot=True)\n",
    "print X_toy_pqn_int\n",
    "\n",
    "print '\\n\\n\\n'\n",
    "X_toy_pqn = pqn_normalize(X_toy)\n",
    "print X_toy_pqn"
   ]
  },
  {
   "cell_type": "markdown",
   "metadata": {},
   "source": [
    "<h2> pqn normalize your features </h2>"
   ]
  },
  {
   "cell_type": "code",
   "execution_count": 89,
   "metadata": {
    "scrolled": false
   },
   "outputs": [
    {
     "name": "stdout",
     "output_type": "stream",
     "text": [
      "[[ 2456.54980525   870.34275561  2900.04553718 ...,  1207.0082228\n",
      "    633.14275696   322.13186184]\n",
      " [ 2371.76317506    15.85731585  2628.91769897 ...,  1661.99841462\n",
      "    995.21658354   386.88390829]\n",
      " [ 2421.76580034  1425.82765083  2855.39610211 ...,  2861.88345848\n",
      "   1853.68539308   730.3256337 ]\n",
      " ..., \n",
      " [  235.18194821   157.80692043   218.73606439 ...,   548.42339396\n",
      "    254.20015991   241.12649328]\n",
      " [  218.61726942   146.69203271   203.32972613 ...,   509.79603574\n",
      "    236.29596263   224.14311961]\n",
      " [  234.92742529   157.63613573   218.49933983 ...,   547.82986914\n",
      "    253.92505475   240.86553695]]\n"
     ]
    }
   ],
   "source": [
    "X_pqn = pqn_normalize(X)\n",
    "print X_pqn"
   ]
  },
  {
   "cell_type": "code",
   "execution_count": 90,
   "metadata": {
    "collapsed": true
   },
   "outputs": [],
   "source": [
    "def roc_curve_cv(X, y, clf, cross_val,\n",
    "                path='/home/irockafe/Desktop/roc.pdf',\n",
    "                save=False, plot=True):  \n",
    "    t1 = time.time()\n",
    "    # collect vals for the ROC curves\n",
    "    tpr_list = []\n",
    "    mean_fpr = np.linspace(0,1,100)\n",
    "    auc_list = []\n",
    "    \n",
    "    # Get the false-positive and true-positive rate\n",
    "    for i, (train, test) in enumerate(cross_val):\n",
    "        clf.fit(X[train], y[train])\n",
    "        y_pred = clf.predict_proba(X[test])[:,1]\n",
    "        \n",
    "        # get fpr, tpr\n",
    "        fpr, tpr, thresholds = roc_curve(y[test], y_pred)\n",
    "        roc_auc = auc(fpr, tpr)\n",
    "        #print 'AUC', roc_auc\n",
    "        #sns.plt.plot(fpr, tpr, lw=10, alpha=0.6, label='ROC - AUC = %0.2f' % roc_auc,)\n",
    "        #sns.plt.show()\n",
    "        tpr_list.append(interp(mean_fpr, fpr, tpr))\n",
    "        tpr_list[-1][0] = 0.0\n",
    "        auc_list.append(roc_auc)\n",
    "        \n",
    "        if (i % 10 == 0):\n",
    "            print '{perc}% done! {time}s elapsed'.format(perc=100*float(i)/cross_val.n_iter, time=(time.time() - t1))\n",
    "        \n",
    "            \n",
    "        \n",
    "        \n",
    "    # get mean tpr and fpr\n",
    "    mean_tpr = np.mean(tpr_list, axis=0)\n",
    "    # make sure it ends up at 1.0\n",
    "    mean_tpr[-1] = 1.0\n",
    "    mean_auc = auc(mean_fpr, mean_tpr)\n",
    "    std_auc = np.std(auc_list)\n",
    "    \n",
    "    if plot:\n",
    "        # plot mean auc\n",
    "        plt.plot(mean_fpr, mean_tpr, label='Mean ROC - AUC = %0.2f $\\pm$ %0.2f' % (mean_auc, \n",
    "                                                                                       std_auc),\n",
    "                    lw=5, color='b')\n",
    "\n",
    "        # plot luck-line\n",
    "        plt.plot([0,1], [0,1], linestyle = '--', lw=2, color='r',\n",
    "                    label='Luck', alpha=0.5) \n",
    "\n",
    "        # plot 1-std\n",
    "        std_tpr = np.std(tpr_list, axis=0)\n",
    "        tprs_upper = np.minimum(mean_tpr + std_tpr, 1)\n",
    "        tprs_lower = np.maximum(mean_tpr - std_tpr, 0)\n",
    "        plt.fill_between(mean_fpr, tprs_lower, tprs_upper, color='grey', alpha=0.2,\n",
    "                            label=r'$\\pm$ 1 stdev')\n",
    "\n",
    "        plt.xlim([-0.05, 1.05])\n",
    "        plt.ylim([-0.05, 1.05])\n",
    "        plt.xlabel('False Positive Rate')\n",
    "        plt.ylabel('True Positive Rate')\n",
    "        plt.title('ROC curve, {iters} iterations of {cv} cross validation'.format(\n",
    "            iters=cross_val.n_iter, cv='{train}:{test}'.format(test=cross_val.test_size, train=(1-cross_val.test_size)))\n",
    "                 )\n",
    "        plt.legend(loc=\"lower right\")\n",
    "\n",
    "        if save:\n",
    "            plt.savefig(path,  format='pdf')\n",
    "\n",
    "\n",
    "        plt.show()\n",
    "    return tpr_list, auc_list, mean_fpr"
   ]
  },
  {
   "cell_type": "code",
   "execution_count": 91,
   "metadata": {},
   "outputs": [
    {
     "name": "stdout",
     "output_type": "stream",
     "text": [
      "3\n",
      "0.3\n",
      "0.0% done! 4.88682699203s elapsed\n"
     ]
    },
    {
     "data": {
      "image/png": "[encoded data removed]",
      "text/plain": [
       "<matplotlib.figure.Figure at 0x7fe13ccc0350>"
      ]
     },
     "metadata": {},
     "output_type": "display_data"
    }
   ],
   "source": [
    "\n",
    "\n",
    "rf_estimators = 1000\n",
    "n_iter = 3\n",
    "test_size = 0.3\n",
    "random_state = 1\n",
    "cross_val_rf = StratifiedShuffleSplit(y, n_iter=n_iter, test_size=test_size, random_state=random_state)\n",
    "clf_rf = RandomForestClassifier(n_estimators=rf_estimators, random_state=random_state)\n",
    "rf_graph_path = '''/home/irockafe/Dropbox (MIT)/Alm_Lab/\n",
    "projects/revo_healthcare/notebooks/MTBLS17/\n",
    "exploratory/rf_roc_{trees}trees_{cv}cviter.pdf'''.format(trees=rf_estimators, cv=n_iter)\n",
    "\n",
    "print cross_val_rf.n_iter\n",
    "print cross_val_rf.test_size\n",
    "\n",
    "tpr_vals, auc_vals, mean_fpr = roc_curve_cv(X_pqn, y, clf_rf, cross_val_rf,\n",
    "                                           path=rf_graph_path, save=False)"
   ]
  },
  {
   "cell_type": "code",
   "execution_count": 12,
   "metadata": {},
   "outputs": [
    {
     "name": "stdout",
     "output_type": "stream",
     "text": [
      "0.0% done! 7.10257506371s elapsed\n"
     ]
    },
    {
     "data": {
      "image/png": "[encoded data removed]",
      "text/plain": [
       "<matplotlib.figure.Figure at 0x7fe13cc2bf10>"
      ]
     },
     "metadata": {},
     "output_type": "display_data"
    }
   ],
   "source": [
    "# For adaboosted\n",
    "n_iter = 3\n",
    "test_size = 0.3\n",
    "random_state = 1\n",
    "adaboost_estimators = 200\n",
    "adaboost_path = '''/home/irockafe/Dropbox (MIT)/Alm_Lab/\n",
    "projects/revo_healthcare/notebooks/MTBLS17/\n",
    "exploratory/adaboost_roc_{trees}trees_{cv}cviter.pdf'''.format(trees=adaboost_estimators, \n",
    "                                                                            cv=n_iter)\n",
    "\n",
    "\n",
    "cross_val_adaboost = StratifiedShuffleSplit(y, n_iter=n_iter, test_size=test_size, random_state=random_state)\n",
    "clf = AdaBoostClassifier(n_estimators=adaboost_estimators, random_state=random_state)\n",
    "adaboost_tpr, adaboost_auc, adaboost_fpr = roc_curve_cv(X_pqn, y, clf, cross_val_adaboost,\n",
    "                                                       path=adaboost_path)"
   ]
  },
  {
   "cell_type": "code",
   "execution_count": null,
   "metadata": {
    "collapsed": true
   },
   "outputs": [],
   "source": []
  },
  {
   "cell_type": "markdown",
   "metadata": {},
   "source": [
    "<h2> Classifier looks like garbage  </h2>"
   ]
  },
  {
   "cell_type": "code",
   "execution_count": 72,
   "metadata": {
    "collapsed": true
   },
   "outputs": [],
   "source": [
    "# Make a null model AUC curve\n",
    "\n",
    "def make_null_model(X, y, clf, cross_val, random_state=1, num_shuffles=5, plot=True):\n",
    "    '''\n",
    "    Runs the true model, then sanity-checks by:\n",
    "    \n",
    "    Shuffles class labels and then builds cross-validated ROC curves from them.\n",
    "    Compares true AUC vs. shuffled auc by t-test (assumes normality of AUC curve)\n",
    "    '''\n",
    "    null_aucs = []\n",
    "    print y.shape\n",
    "    print X.shape\n",
    "    tpr_true, auc_true, fpr_true = roc_curve_cv(X, y, clf, cross_val)\n",
    "    # shuffle y lots of times\n",
    "    for i in range(0, num_shuffles):\n",
    "        #Iterate through the shuffled y vals and repeat with appropriate params\n",
    "        # Retain the auc vals for final plotting of distribution\n",
    "        y_shuffle = shuffle(y)\n",
    "        cross_val.y = y_shuffle\n",
    "        cross_val.y_indices = y_shuffle\n",
    "        print 'Number of differences b/t original and shuffle: %s' % (y == cross_val.y).sum()\n",
    "        # Get auc values for number of iterations\n",
    "        tpr, auc, fpr = roc_curve_cv(X, y_shuffle, clf, cross_val, plot=False)\n",
    "        \n",
    "        null_aucs.append(auc)\n",
    "    \n",
    "    \n",
    "    #plot the outcome\n",
    "    if plot:\n",
    "        flattened_aucs = [j for i in null_aucs for j in i]\n",
    "        my_dict = {'true_auc': auc_true, 'null_auc': flattened_aucs}\n",
    "        df_poop =  pd.DataFrame.from_dict(my_dict, orient='index').T\n",
    "        df_tidy = pd.melt(df_poop, value_vars=['true_auc', 'null_auc'],\n",
    "                         value_name='auc', var_name='AUC_type')\n",
    "        #print flattened_aucs\n",
    "        sns.violinplot(x='AUC_type', y='auc',\n",
    "            inner='points', data=df_tidy)\n",
    "        # Plot distribution of AUC vals   \n",
    "        plt.title(\"Distribution of aucs\")\n",
    "        #sns.plt.ylabel('count')\n",
    "        plt.xlabel('AUC')\n",
    "        #sns.plt.plot(auc_true, 0, color='red', markersize=10)\n",
    "        plt.show()\n",
    "    # Do a quick t-test to see if odds of randomly getting an AUC that good\n",
    "    return auc_true, null_aucs\n"
   ]
  },
  {
   "cell_type": "code",
   "execution_count": null,
   "metadata": {
    "scrolled": false
   },
   "outputs": [
    {
     "name": "stdout",
     "output_type": "stream",
     "text": [
      "(262,)\n",
      "(262, 1216)\n",
      "0.0% done! 4.80081295967s elapsed\n",
      "20.0% done! 50.7689909935s elapsed\n",
      "40.0% done! 98.2501869202s elapsed\n"
     ]
    }
   ],
   "source": [
    "# Make a null model AUC curve & compare it to null-model\n",
    "\n",
    "# Random forest magic!\n",
    "rf_estimators = 1000\n",
    "n_iter = 50\n",
    "test_size = 0.3\n",
    "random_state = 1\n",
    "cross_val_rf = StratifiedShuffleSplit(y, n_iter=n_iter, test_size=test_size, random_state=random_state)\n",
    "clf_rf = RandomForestClassifier(n_estimators=rf_estimators, random_state=random_state)\n",
    "\n",
    "true_auc, all_aucs = make_null_model(X_pqn, y, clf_rf, cross_val_rf, num_shuffles=5)"
   ]
  },
  {
   "cell_type": "code",
   "execution_count": 18,
   "metadata": {},
   "outputs": [
    {
     "name": "stdout",
     "output_type": "stream",
     "text": [
      "   AUC_type       auc\n",
      "0  true_auc  0.886364\n",
      "1  true_auc  0.965909\n",
      "2  true_auc  0.704545\n",
      "3  true_auc  0.772727\n",
      "4  true_auc  0.909091\n"
     ]
    },
    {
     "data": {
      "image/png": "[encoded data removed]",
      "text/plain": [
       "<matplotlib.figure.Figure at 0x7faaaec15b90>"
      ]
     },
     "metadata": {},
     "output_type": "display_data"
    }
   ],
   "source": [
    "# make dataframe from true and false aucs\n",
    "flattened_aucs = [j for i in all_aucs for j in i]\n",
    "my_dict = {'true_auc': true_auc, 'null_auc': flattened_aucs}\n",
    "df_poop =  pd.DataFrame.from_dict(my_dict, orient='index').T\n",
    "df_tidy = pd.melt(df_poop, value_vars=['true_auc', 'null_auc'],\n",
    "                 value_name='auc', var_name='AUC_type')\n",
    "print df_tidy.head()\n",
    "#print flattened_aucs\n",
    "sns.violinplot(x='AUC_type', y='auc',\n",
    "    inner='points', data=df_tidy, bw=0.7)\n",
    "plt.show()\n",
    "\n"
   ]
  },
  {
   "cell_type": "markdown",
   "metadata": {},
   "source": [
    "<h2> Let's check out some PCA plots </h2>"
   ]
  },
  {
   "cell_type": "code",
   "execution_count": 75,
   "metadata": {},
   "outputs": [
    {
     "name": "stdout",
     "output_type": "stream",
     "text": [
      "[('red', 0, 'Cirrhosis'), ('blue', 1, 'Liver cancer')]\n",
      "(184,)\n",
      "(78,)\n"
     ]
    },
    {
     "data": {
      "image/png": "[encoded data removed]",
      "text/plain": [
       "<matplotlib.figure.Figure at 0x7f9aeab64610>"
      ]
     },
     "metadata": {},
     "output_type": "display_data"
    },
    {
     "name": "stdout",
     "output_type": "stream",
     "text": [
      "[('red', 0, 'Cirrhosis'), ('blue', 1, 'Liver cancer')]\n",
      "(184,)\n",
      "(78,)\n"
     ]
    },
    {
     "data": {
      "image/png": "[encoded data removed]",
      "text/plain": [
       "<matplotlib.figure.Figure at 0x7f9ae8d1ef90>"
      ]
     },
     "metadata": {},
     "output_type": "display_data"
    }
   ],
   "source": [
    "from sklearn.decomposition import PCA\n",
    "\n",
    "# Check PCA of things\n",
    "def PCA_plot(X, y, n_components, plot_color, class_nums, class_names, title='PCA'):\n",
    "    pca = PCA(n_components=n_components)\n",
    "    X_pca = pca.fit(X).transform(X)\n",
    "\n",
    "    print zip(plot_color, class_nums, class_names)\n",
    "    for color, i, target_name in zip(plot_color, class_nums, class_names):\n",
    "        # plot one class at a time, first plot all classes y == 0\n",
    "        #print color\n",
    "        #print y == i\n",
    "        xvals = X_pca[y == i, 0]\n",
    "        print xvals.shape\n",
    "        yvals = X_pca[y == i, 1]\n",
    "        plt.scatter(xvals, yvals, color=color, alpha=0.8, label=target_name)\n",
    "\n",
    "    plt.legend(bbox_to_anchor=(1.01,1), loc='upper left', shadow=False)#, scatterpoints=1)\n",
    "    plt.title('PCA of data')\n",
    "    plt.show()\n",
    "\n",
    "\n",
    "PCA_plot(X_pqn, y, 2, ['red', 'blue'], [0,1], ['Cirrhosis', 'Liver cancer'])\n",
    "PCA_plot(X, y, 2, ['red', 'blue'], [0,1], ['Cirrhosis', 'Liver cancer'])"
   ]
  },
  {
   "cell_type": "markdown",
   "metadata": {},
   "source": [
    "<h2> Look above. Top graph is after pqn-normalization. Looks like it does a good job... </h2>\n",
    "Let's see if htere's any obvious clustering by batch"
   ]
  },
  {
   "cell_type": "code",
   "execution_count": 18,
   "metadata": {},
   "outputs": [
    {
     "name": "stdout",
     "output_type": "stream",
     "text": [
      "0       Exp1\n",
      "1       Exp1\n",
      "2       Exp1\n",
      "3       Exp1\n",
      "4       Exp1\n",
      "5       Exp1\n",
      "6       Exp1\n",
      "7       Exp1\n",
      "8       Exp1\n",
      "9       Exp1\n",
      "10      Exp1\n",
      "11      Exp1\n",
      "12      Exp1\n",
      "13      Exp1\n",
      "14      Exp1\n",
      "15      Exp1\n",
      "16      Exp1\n",
      "17      Exp1\n",
      "18      Exp1\n",
      "19      Exp1\n",
      "20      Exp1\n",
      "21      Exp1\n",
      "22      Exp1\n",
      "23      Exp1\n",
      "24      Exp1\n",
      "25      Exp1\n",
      "26      Exp1\n",
      "27      Exp1\n",
      "28      Exp1\n",
      "29      Exp1\n",
      "        ... \n",
      "1020    Exp2\n",
      "1021    Exp2\n",
      "1022    Exp2\n",
      "1023    Exp2\n",
      "1024    Exp2\n",
      "1025    Exp2\n",
      "1026    Exp2\n",
      "1027    Exp2\n",
      "1028    Exp2\n",
      "1029    Exp2\n",
      "1030    Exp3\n",
      "1031    Exp3\n",
      "1032    Exp3\n",
      "1033    Exp3\n",
      "1034    Exp3\n",
      "1035    Exp3\n",
      "1036    Exp3\n",
      "1037    Exp3\n",
      "1038    Exp3\n",
      "1039    Exp3\n",
      "1040    Exp3\n",
      "1041    Exp3\n",
      "1042    Exp3\n",
      "1043    Exp3\n",
      "1044    Exp3\n",
      "1045    Exp3\n",
      "1046    Exp3\n",
      "1047    Exp3\n",
      "1048    Exp3\n",
      "1049    Exp3\n",
      "Name: Factor Value[Experiment], Length: 1050, dtype: object\n"
     ]
    }
   ],
   "source": [
    "# Check PCA of things\n",
    "def PCA_plot(X, y, n_components, plot_color, class_nums, class_names, title='PCA'):\n",
    "    pca = PCA(n_components=n_components)\n",
    "    X_pca = pca.fit(X).transform(X)\n",
    "\n",
    "    print zip(plot_color, class_nums, class_names)\n",
    "    for color, i, target_name in zip(plot_color, class_nums, class_names):\n",
    "        # plot one class at a time, first plot all classes y == 0\n",
    "        #print color\n",
    "        #print y == i\n",
    "        xvals = X_pca[y == i, 0]\n",
    "        print xvals.shape\n",
    "        yvals = X_pca[y == i, 1]\n",
    "        plt.scatter(xvals, yvals, color=color, alpha=0.8, label=target_name)\n",
    "\n",
    "    plt.legend(bbox_to_anchor=(1.01,1), loc='upper left', shadow=False)#, scatterpoints=1)\n",
    "    plt.title('PCA of data')\n",
    "    plt.show()\n",
    "\n",
    "\n",
    "    \n",
    "print class_df['Factor Value[Experiment]']\n",
    "#PCA_plot(X_pqn, y, 2, ['red', 'blue'], [0,1], ['Cirrhosis', 'Liver cancer'])\n",
    "#PCA_plot(X, y, 2, ['red', 'blue'], [0,1], ['Cirrhosis', 'Liver cancer'])"
   ]
  }
 ],
 "metadata": {
  "kernelspec": {
   "display_name": "Python [default]",
   "language": "python",
   "name": "python2"
  },
  "language_info": {
   "codemirror_mode": {
    "name": "ipython",
    "version": 2
   },
   "file_extension": ".py",
   "mimetype": "text/x-python",
   "name": "python",
   "nbconvert_exporter": "python",
   "pygments_lexer": "ipython2",
   "version": "2.7.13"
  }
 },
 "nbformat": 4,
 "nbformat_minor": 1
}
