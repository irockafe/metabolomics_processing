{
 "cells": [
  {
   "cell_type": "code",
   "execution_count": 7,
   "metadata": {
    "collapsed": true
   },
   "outputs": [],
   "source": [
    "from sklearn.pipeline import Pipeline\n",
    "from sklearn.svm import SVC\n",
    "from sklearn.decomposition import PCA\n",
    "from sklearn.model_selection import StratifiedShuffleSplit\n",
    "from sklearn.metrics import roc_curve, auc\n",
    "\n",
    "import pandas as pd\n",
    "import time\n",
    "from scipy import interp\n",
    "\n",
    "\n",
    "from sklearn.preprocessing import FunctionTransformer\n",
    "from sklearn.ensemble import  RandomForestClassifier\n",
    "import scipy.stats as stats\n",
    "\n",
    "import numpy as np\n",
    "import matplotlib.pyplot as plt\n",
    "from sklearn.datasets import load_digits\n",
    "from sklearn.model_selection import GridSearchCV\n",
    "from sklearn.pipeline import Pipeline\n",
    "from sklearn.svm import LinearSVC\n",
    "from sklearn.decomposition import PCA, NMF\n",
    "from sklearn.feature_selection import SelectKBest, chi2\n",
    "\n",
    "\n",
    "from sklearn import svm\n",
    "from sklearn.datasets import samples_generator\n",
    "from sklearn.feature_selection import SelectKBest, f_regression\n",
    "from sklearn.pipeline import make_pipeline\n",
    "from sklearn.model_selection import train_test_split\n",
    "from sklearn.metrics import classification_report\n",
    "\n",
    "import numpy as np\n",
    "import matplotlib.pyplot as plt\n",
    "from sklearn.naive_bayes import GaussianNB\n",
    "from sklearn.svm import SVC\n",
    "from sklearn.datasets import load_digits\n",
    "from sklearn.model_selection import learning_curve\n",
    "from sklearn.model_selection import ShuffleSplit\n",
    "\n",
    "from sklearn.manifold import TSNE\n"
   ]
  },
  {
   "cell_type": "code",
   "execution_count": 3,
   "metadata": {},
   "outputs": [
    {
     "data": {
      "text/plain": [
       "Pipeline(memory=None,\n",
       "     steps=[('reduce_dim', PCA(copy=True, iterated_power='auto', n_components=None, random_state=None,\n",
       "  svd_solver='auto', tol=0.0, whiten=False)), ('clf', SVC(C=1.0, cache_size=200, class_weight=None, coef0=0.0,\n",
       "  decision_function_shape='ovr', degree=3, gamma='auto', kernel='rbf',\n",
       "  max_iter=-1, probability=False, random_state=None, shrinking=True,\n",
       "  tol=0.001, verbose=False))])"
      ]
     },
     "execution_count": 3,
     "metadata": {},
     "output_type": "execute_result"
    }
   ],
   "source": [
    "estimators = [('reduce_dim', PCA()), \n",
    "             ('clf', SVC())]\n",
    "pipe = Pipeline(estimators)\n",
    "pipe"
   ]
  },
  {
   "cell_type": "code",
   "execution_count": 4,
   "metadata": {},
   "outputs": [
    {
     "data": {
      "text/plain": [
       "Pipeline(memory=None,\n",
       "     steps=[('binarizer', Binarizer(copy=True, threshold=0.0)), ('multinomialnb', MultinomialNB(alpha=1.0, class_prior=None, fit_prior=True))])"
      ]
     },
     "execution_count": 4,
     "metadata": {},
     "output_type": "execute_result"
    }
   ],
   "source": [
    "from sklearn.pipeline import make_pipeline\n",
    "from sklearn.naive_bayes import MultinomialNB\n",
    "from sklearn.preprocessing import Binarizer\n",
    "make_pipeline(Binarizer(), MultinomialNB())\n"
   ]
  },
  {
   "cell_type": "code",
   "execution_count": 6,
   "metadata": {},
   "outputs": [
    {
     "data": {
      "text/plain": [
       "('reduce_dim',\n",
       " PCA(copy=True, iterated_power='auto', n_components=None, random_state=None,\n",
       "   svd_solver='auto', tol=0.0, whiten=False))"
      ]
     },
     "execution_count": 6,
     "metadata": {},
     "output_type": "execute_result"
    }
   ],
   "source": [
    "pipe.steps[0]"
   ]
  },
  {
   "cell_type": "code",
   "execution_count": 7,
   "metadata": {},
   "outputs": [
    {
     "data": {
      "text/plain": [
       "PCA(copy=True, iterated_power='auto', n_components=None, random_state=None,\n",
       "  svd_solver='auto', tol=0.0, whiten=False)"
      ]
     },
     "execution_count": 7,
     "metadata": {},
     "output_type": "execute_result"
    }
   ],
   "source": [
    "pipe.named_steps['reduce_dim']"
   ]
  },
  {
   "cell_type": "code",
   "execution_count": 10,
   "metadata": {},
   "outputs": [
    {
     "data": {
      "text/plain": [
       "Pipeline(memory=None,\n",
       "     steps=[('reduce_dim', PCA(copy=True, iterated_power='auto', n_components=None, random_state=None,\n",
       "  svd_solver='auto', tol=0.0, whiten=False)), ('clf', SVC(C=10, cache_size=200, class_weight=None, coef0=0.0,\n",
       "  decision_function_shape='ovr', degree=3, gamma='auto', kernel='rbf',\n",
       "  max_iter=-1, probability=False, random_state=None, shrinking=True,\n",
       "  tol=0.001, verbose=False))])"
      ]
     },
     "execution_count": 10,
     "metadata": {},
     "output_type": "execute_result"
    }
   ],
   "source": [
    "pipe.set_params(clf__C=10)"
   ]
  },
  {
   "cell_type": "code",
   "execution_count": 11,
   "metadata": {},
   "outputs": [
    {
     "data": {
      "text/plain": [
       "True"
      ]
     },
     "execution_count": 11,
     "metadata": {},
     "output_type": "execute_result"
    }
   ],
   "source": [
    "pipe.named_steps.reduce_dim is pipe.named_steps['reduce_dim']"
   ]
  },
  {
   "cell_type": "code",
   "execution_count": 90,
   "metadata": {
    "collapsed": true
   },
   "outputs": [],
   "source": [
    "from sklearn.model_selection import GridSearchCV\n",
    "param_grid = dict( reduce_dim__n_components=[2,5,10],)\n",
    "                 clf__C=[0.1,10,100])\n",
    "grid_search = GridSearchCV(pipe, param_grid=param_grid)"
   ]
  },
  {
   "cell_type": "code",
   "execution_count": 91,
   "metadata": {},
   "outputs": [
    {
     "data": {
      "text/plain": [
       "GridSearchCV(cv=None, error_score='raise',\n",
       "       estimator=Pipeline(memory=None,\n",
       "     steps=[('functiontransformer', FunctionTransformer(accept_sparse=False,\n",
       "          func=<function pqn_normalize at 0x7f8991769320>,\n",
       "          inv_kw_args=None, inverse_func=None, kw_args=None,\n",
       "          pass_y='deprecated', validate=True)), ('randomforestclassifier', RandomForestClassifier(bootstrap=...n_jobs=1,\n",
       "            oob_score=False, random_state=None, verbose=0,\n",
       "            warm_start=False))]),\n",
       "       fit_params=None, iid=True, n_jobs=1,\n",
       "       param_grid={'reduce_dim__n_components': [2, 5, 10]},\n",
       "       pre_dispatch='2*n_jobs', refit=True, return_train_score=True,\n",
       "       scoring=None, verbose=0)"
      ]
     },
     "execution_count": 91,
     "metadata": {},
     "output_type": "execute_result"
    }
   ],
   "source": [
    "grid_search"
   ]
  },
  {
   "cell_type": "markdown",
   "metadata": {},
   "source": [
    "**Run grid search to find params for dimensionality reduction, then do a logistic regression**\n"
   ]
  },
  {
   "cell_type": "code",
   "execution_count": 16,
   "metadata": {
    "collapsed": true
   },
   "outputs": [],
   "source": [
    "import numpy as np\n",
    "import matplotlib.pyplot as plt\n",
    "from sklearn.datasets import load_digits\n",
    "from sklearn.model_selection import GridSearchCV\n",
    "from sklearn.pipeline import Pipeline\n",
    "from sklearn.svm import LinearSVC\n",
    "from sklearn.decomposition import PCA, NMF\n",
    "from sklearn.feature_selection import SelectKBest, chi2"
   ]
  },
  {
   "cell_type": "code",
   "execution_count": 18,
   "metadata": {},
   "outputs": [
    {
     "data": {
      "text/plain": [
       "GridSearchCV(cv=3, error_score='raise',\n",
       "       estimator=Pipeline(memory=None,\n",
       "     steps=[('reduce_dim', PCA(copy=True, iterated_power='auto', n_components=None, random_state=None,\n",
       "  svd_solver='auto', tol=0.0, whiten=False)), ('classify', LinearSVC(C=1.0, class_weight=None, dual=True, fit_intercept=True,\n",
       "     intercept_scaling=1, loss='squared_hinge', max_iter=1000,\n",
       "     multi_class='ovr', penalty='l2', random_state=None, tol=0.0001,\n",
       "     verbose=0))]),\n",
       "       fit_params=None, iid=True, n_jobs=1,\n",
       "       param_grid=[{'classify__C': [1, 10, 100, 1000], 'reduce_dim': [PCA(copy=True, iterated_power=7, n_components=8, random_state=None,\n",
       "  svd_solver='auto', tol=0.0, whiten=False), NMF(alpha=0.0, beta_loss='frobenius', init=None, l1_ratio=0.0, max_iter=200,\n",
       "  n_components=8, random_state=None, shuffle=Fa...dim': [SelectKBest(k=8, score_func=<function chi2 at 0x7f89986156e0>)], 'reduce_dim__k': [2, 4, 8]}],\n",
       "       pre_dispatch='2*n_jobs', refit=True, return_train_score=True,\n",
       "       scoring=None, verbose=0)"
      ]
     },
     "execution_count": 18,
     "metadata": {},
     "output_type": "execute_result"
    }
   ],
   "source": [
    "pipe = Pipeline([\n",
    "    ('reduce_dim', PCA()),\n",
    "    ('classify', LinearSVC())\n",
    "])\n",
    "\n",
    "N_FEATURES_OPTIONS = [2,4,8]\n",
    "C_OPTIONS = [1,10,100,1000]\n",
    "param_grid = [\n",
    "    {\n",
    "        'reduce_dim': [PCA(iterated_power=7), NMF()],\n",
    "        'reduce_dim__n_components': N_FEATURES_OPTIONS,\n",
    "        'classify__C': C_OPTIONS\n",
    "    },\n",
    "    {\n",
    "        'reduce_dim': [SelectKBest(chi2)],\n",
    "        'reduce_dim__k': N_FEATURES_OPTIONS,\n",
    "        'classify__C': C_OPTIONS\n",
    "    }\n",
    "]\n",
    "\n",
    "reducer_labels = ['PCA', 'NMF', 'KBest(chi2)']\n",
    "grid = GridSearchCV(pipe, cv=3, n_jobs=1, param_grid=param_grid)\n",
    "digits = load_digits()\n",
    "grid.fit(digits.data, digits.target)"
   ]
  },
  {
   "cell_type": "code",
   "execution_count": 19,
   "metadata": {},
   "outputs": [
    {
     "name": "stdout",
     "output_type": "stream",
     "text": [
      "[[ 0.49304396  0.69337785  0.8425153 ]\n",
      " [ 0.32109071  0.65831942  0.82025598]\n",
      " [ 0.31274346  0.64830273  0.81858653]]\n"
     ]
    }
   ],
   "source": [
    "mean_scores = np.array(grid.cv_results_['mean_test_score'])\n",
    "# scores are in the order of param_grid iteration, which is alphabetical\n",
    "mean_scores = mean_scores.reshape(len(C_OPTIONS), -1, len(N_FEATURES_OPTIONS))\n",
    "# select score for best C\n",
    "mean_scores = mean_scores.max(axis=0)\n",
    "print(mean_scores)\n"
   ]
  },
  {
   "cell_type": "code",
   "execution_count": 22,
   "metadata": {},
   "outputs": [
    {
     "data": {
      "image/png": "[encoded data removed]",
      "text/plain": [
       "<matplotlib.figure.Figure at 0x7f8991790350>"
      ]
     },
     "metadata": {},
     "output_type": "display_data"
    }
   ],
   "source": [
    "bar_offsets = (np.arange(len(N_FEATURES_OPTIONS)) *\n",
    "               (len(reducer_labels) + 1) + .5)\n",
    "plt.figure()\n",
    "COLORS = 'bgrcmyk'\n",
    "for i, (label, reducer_scores) in enumerate(zip(reducer_labels, mean_scores)):\n",
    "    plt.bar(bar_offsets + i, reducer_scores, label=label, color=COLORS[i])\n",
    "\n",
    "plt.title(\"Comparing feature reduction techniques\")\n",
    "plt.xlabel('Reduced number of features')\n",
    "plt.xticks(bar_offsets + len(reducer_labels) / 2, N_FEATURES_OPTIONS)\n",
    "plt.ylabel('Digit classification accuracy')\n",
    "plt.ylim((0, 1))\n",
    "plt.legend(loc='upper left')\n",
    "plt.show()"
   ]
  },
  {
   "cell_type": "markdown",
   "metadata": {},
   "source": [
    "<h2> Now do a more informative example </h2>\n",
    "Example from : https://tomaugspurger.github.io/scalable-ml-01.html"
   ]
  },
  {
   "cell_type": "code",
   "execution_count": 23,
   "metadata": {
    "collapsed": true
   },
   "outputs": [],
   "source": [
    "from sklearn import svm\n",
    "from sklearn.datasets import samples_generator\n",
    "from sklearn.feature_selection import SelectKBest, f_regression\n",
    "from sklearn.pipeline import make_pipeline\n",
    "from sklearn.model_selection import train_test_split\n",
    "from sklearn.metrics import classification_report"
   ]
  },
  {
   "cell_type": "code",
   "execution_count": 24,
   "metadata": {
    "collapsed": true
   },
   "outputs": [],
   "source": [
    "#Let's make a learning curve\n",
    "\n",
    "# invent a classification problem\n",
    "X, y = samples_generator.make_classification(\n",
    "    n_features=100, n_informative=5, n_redundant=10, n_classes=4,\n",
    "    n_clusters_per_class=2)\n",
    "\n"
   ]
  },
  {
   "cell_type": "code",
   "execution_count": 25,
   "metadata": {},
   "outputs": [
    {
     "data": {
      "text/plain": [
       "<module 'matplotlib.pyplot' from '/home/irockafe/miniconda2/envs/isaac_revo_healthcare/lib/python2.7/site-packages/matplotlib/pyplot.pyc'>"
      ]
     },
     "execution_count": 25,
     "metadata": {},
     "output_type": "execute_result"
    }
   ],
   "source": [
    "import numpy as np\n",
    "import matplotlib.pyplot as plt\n",
    "from sklearn.naive_bayes import GaussianNB\n",
    "from sklearn.svm import SVC\n",
    "from sklearn.datasets import load_digits\n",
    "from sklearn.model_selection import learning_curve\n",
    "from sklearn.model_selection import ShuffleSplit\n",
    "\n",
    "\n",
    "def plot_learning_curve(estimator, title, X, y, ylim=None, cv=None,\n",
    "                        n_jobs=1, train_sizes=np.linspace(.1, 1.0, 5)):\n",
    "    \"\"\"\n",
    "    Generate a simple plot of the test and training learning curve.\n",
    "\n",
    "    Parameters\n",
    "    ----------\n",
    "    estimator : object type that implements the \"fit\" and \"predict\" methods\n",
    "        An object of that type which is cloned for each validation.\n",
    "\n",
    "    title : string\n",
    "        Title for the chart.\n",
    "\n",
    "    X : array-like, shape (n_samples, n_features)\n",
    "        Training vector, where n_samples is the number of samples and\n",
    "        n_features is the number of features.\n",
    "\n",
    "    y : array-like, shape (n_samples) or (n_samples, n_features), optional\n",
    "        Target relative to X for classification or regression;\n",
    "        None for unsupervised learning.\n",
    "\n",
    "    ylim : tuple, shape (ymin, ymax), optional\n",
    "        Defines minimum and maximum yvalues plotted.\n",
    "\n",
    "    cv : int, cross-validation generator or an iterable, optional\n",
    "        Determines the cross-validation splitting strategy.\n",
    "        Possible inputs for cv are:\n",
    "          - None, to use the default 3-fold cross-validation,\n",
    "          - integer, to specify the number of folds.\n",
    "          - An object to be used as a cross-validation generator.\n",
    "          - An iterable yielding train/test splits.\n",
    "\n",
    "        For integer/None inputs, if ``y`` is binary or multiclass,\n",
    "        :class:`StratifiedKFold` used. If the estimator is not a classifier\n",
    "        or if ``y`` is neither binary nor multiclass, :class:`KFold` is used.\n",
    "\n",
    "        Refer :ref:`User Guide <cross_validation>` for the various\n",
    "        cross-validators that can be used here.\n",
    "\n",
    "    n_jobs : integer, optional\n",
    "        Number of jobs to run in parallel (default 1).\n",
    "    \"\"\"\n",
    "    plt.figure()\n",
    "    plt.title(title)\n",
    "    if ylim is not None:\n",
    "        plt.ylim(*ylim)\n",
    "    plt.xlabel(\"Training examples\")\n",
    "    plt.ylabel(\"Score\")\n",
    "    train_sizes, train_scores, test_scores = learning_curve(\n",
    "        estimator, X, y, cv=cv, n_jobs=n_jobs, train_sizes=train_sizes)\n",
    "    train_scores_mean = np.mean(train_scores, axis=1)\n",
    "    train_scores_std = np.std(train_scores, axis=1)\n",
    "    test_scores_mean = np.mean(test_scores, axis=1)\n",
    "    test_scores_std = np.std(test_scores, axis=1)\n",
    "    plt.grid()\n",
    "\n",
    "    plt.fill_between(train_sizes, train_scores_mean - train_scores_std,\n",
    "                     train_scores_mean + train_scores_std, alpha=0.1,\n",
    "                     color=\"r\")\n",
    "    plt.fill_between(train_sizes, test_scores_mean - test_scores_std,\n",
    "                     test_scores_mean + test_scores_std, alpha=0.1, color=\"g\")\n",
    "    plt.plot(train_sizes, train_scores_mean, 'o-', color=\"r\",\n",
    "             label=\"Training score\")\n",
    "    plt.plot(train_sizes, test_scores_mean, 'o-', color=\"g\",\n",
    "             label=\"Cross-validation score\")\n",
    "\n",
    "    plt.legend(loc=\"best\")\n",
    "    return plt\n",
    "\n",
    "digits = load_digits()\n",
    "X, y = digits.data, digits.target\n",
    "\n",
    "title = 'Learning Curves (Naive Bayes)'\n",
    "cv = ShuffleSplit(n_splits=100, test_size=0.2, random_state=0)\n",
    "\n",
    "estimator = GaussianNB()\n",
    "plot_learning_curve(estimator, title, X, y, ylim=(0.7, 1.01),\n",
    "                   cv=cv, n_jobs=4)\n",
    "\n"
   ]
  },
  {
   "cell_type": "code",
   "execution_count": 55,
   "metadata": {},
   "outputs": [
    {
     "name": "stdout",
     "output_type": "stream",
     "text": [
      "(100, 1000)\n"
     ]
    },
    {
     "data": {
      "image/png": "[encoded data removed]",
      "text/plain": [
       "<matplotlib.figure.Figure at 0x7f8994e40890>"
      ]
     },
     "metadata": {},
     "output_type": "display_data"
    }
   ],
   "source": [
    "X, y = samples_generator.make_classification(\n",
    "    n_features=1000, n_informative=10, n_redundant=10, n_classes=4,\n",
    "    n_clusters_per_class=1,\n",
    "    n_samples=100)\n",
    "\n",
    "print(X.shape)\n",
    "\n",
    "cv = ShuffleSplit(n_splits=50, test_size=0.05, random_state=0)\n",
    "\n",
    "my_plot = plot_learning_curve(estimator, title, X, y,\n",
    "                   cv=cv, n_jobs=4)\n",
    "\n",
    "my_plot.show()"
   ]
  },
  {
   "cell_type": "code",
   "execution_count": 80,
   "metadata": {},
   "outputs": [
    {
     "name": "stdout",
     "output_type": "stream",
     "text": [
      "[[  1   2   3]\n",
      " [ 10  50  15]\n",
      " [100 500 150]]\n",
      "[  37.  184.   56.]\n"
     ]
    }
   ],
   "source": [
    "X_toy = np.array([[1,2,3], \n",
    "              [10, 50, 15],\n",
    "              [100, 500, 150]])\n",
    "a = np.array([])\n",
    "\n",
    "print X_toy\n",
    "print np.mean(X_toy, axis=0)\n"
   ]
  },
  {
   "cell_type": "code",
   "execution_count": 9,
   "metadata": {},
   "outputs": [
    {
     "ename": "NameError",
     "evalue": "name 'X_toy' is not defined",
     "output_type": "error",
     "traceback": [
      "\u001b[0;31m---------------------------------------------------------------------------\u001b[0m",
      "\u001b[0;31mNameError\u001b[0m                                 Traceback (most recent call last)",
      "\u001b[0;32m<ipython-input-9-0a99e5f8469d>\u001b[0m in \u001b[0;36m<module>\u001b[0;34m()\u001b[0m\n\u001b[1;32m      8\u001b[0m     \u001b[0;32mreturn\u001b[0m \u001b[0mX_pqn\u001b[0m\u001b[0;34m\u001b[0m\u001b[0m\n\u001b[1;32m      9\u001b[0m \u001b[0;34m\u001b[0m\u001b[0m\n\u001b[0;32m---> 10\u001b[0;31m \u001b[0mpqn_normalize\u001b[0m\u001b[0;34m(\u001b[0m\u001b[0mX_toy\u001b[0m\u001b[0;34m)\u001b[0m\u001b[0;34m\u001b[0m\u001b[0m\n\u001b[0m",
      "\u001b[0;31mNameError\u001b[0m: name 'X_toy' is not defined"
     ]
    }
   ],
   "source": [
    "def pqn_normalize(X):\n",
    "    feature_means = np.mean(X, axis=0)\n",
    "    # mean-center each feature\n",
    "    X_mean_centered = np.divide(X, feature_means)\n",
    "    dilution_factors = np.median(X_mean_centered, axis=1)\n",
    "    # broadcast correctly\n",
    "    X_pqn = np.divide(X, dilution_factors[:,np.newaxis] )\n",
    "    return X_pqn\n",
    "    \n",
    "pqn_normalize(X_toy)"
   ]
  },
  {
   "cell_type": "code",
   "execution_count": 2,
   "metadata": {},
   "outputs": [
    {
     "ename": "NameError",
     "evalue": "name 'samples_generator' is not defined",
     "output_type": "error",
     "traceback": [
      "\u001b[0;31m---------------------------------------------------------------------------\u001b[0m",
      "\u001b[0;31mNameError\u001b[0m                                 Traceback (most recent call last)",
      "\u001b[0;32m<ipython-input-2-ef692bfa5b2d>\u001b[0m in \u001b[0;36m<module>\u001b[0;34m()\u001b[0m\n\u001b[1;32m      3\u001b[0m \u001b[0;32mimport\u001b[0m \u001b[0mscipy\u001b[0m\u001b[0;34m.\u001b[0m\u001b[0mstats\u001b[0m \u001b[0;32mas\u001b[0m \u001b[0mstats\u001b[0m\u001b[0;34m\u001b[0m\u001b[0m\n\u001b[1;32m      4\u001b[0m \u001b[0;34m\u001b[0m\u001b[0m\n\u001b[0;32m----> 5\u001b[0;31m X, y = samples_generator.make_classification(\n\u001b[0m\u001b[1;32m      6\u001b[0m     \u001b[0mn_features\u001b[0m\u001b[0;34m=\u001b[0m\u001b[0;36m100\u001b[0m\u001b[0;34m,\u001b[0m \u001b[0mn_informative\u001b[0m\u001b[0;34m=\u001b[0m\u001b[0;36m10\u001b[0m\u001b[0;34m,\u001b[0m \u001b[0mn_redundant\u001b[0m\u001b[0;34m=\u001b[0m\u001b[0;36m10\u001b[0m\u001b[0;34m,\u001b[0m \u001b[0mn_classes\u001b[0m\u001b[0;34m=\u001b[0m\u001b[0;36m2\u001b[0m\u001b[0;34m,\u001b[0m\u001b[0;34m\u001b[0m\u001b[0m\n\u001b[1;32m      7\u001b[0m     \u001b[0mn_clusters_per_class\u001b[0m\u001b[0;34m=\u001b[0m\u001b[0;36m1\u001b[0m\u001b[0;34m,\u001b[0m\u001b[0;34m\u001b[0m\u001b[0m\n",
      "\u001b[0;31mNameError\u001b[0m: name 'samples_generator' is not defined"
     ]
    }
   ],
   "source": [
    "\n",
    "\n",
    "X, y = samples_generator.make_classification(\n",
    "    n_features=100, n_informative=10, n_redundant=10, n_classes=2,\n",
    "    n_clusters_per_class=1,\n",
    "    n_samples=20)\n",
    "\n",
    "pipe = Pipeline([\n",
    "    ('pqn_normalize', FunctionTransformer(pqn_normalize)),\n",
    "    ('rf_clf', RandomForestClassifier())\n",
    "    ])\n",
    "\n",
    "param_grid = dict(rf_clf__n_estimators = np.int_(\n",
    "    np.round(\n",
    "        np.linspace(50, 2000, 10)\n",
    "            ))\n",
    "            )\n",
    "\n",
    "n_iter = 5\n",
    "test_size = 0.3\n",
    "random_state = 1\n",
    "cv = StratifiedShuffleSplit(n_splits=n_iter, test_size=test_size, random_state=random_state)\n",
    "\n",
    "#param_grid = {rf_clf__n_estimators=stats.uniform()}\n",
    "grid_search = GridSearchCV(pipe, param_grid=param_grid,\n",
    "                          scoring='roc_auc',\n",
    "                          cv=cv)\n"
   ]
  },
  {
   "cell_type": "code",
   "execution_count": 127,
   "metadata": {},
   "outputs": [
    {
     "data": {
      "text/plain": [
       "array([10, 11])"
      ]
     },
     "execution_count": 127,
     "metadata": {},
     "output_type": "execute_result"
    }
   ],
   "source": [
    "np.int_(np.array([10.2, 11.5]))"
   ]
  },
  {
   "cell_type": "code",
   "execution_count": 166,
   "metadata": {},
   "outputs": [
    {
     "name": "stdout",
     "output_type": "stream",
     "text": [
      "[0 0 1 0 0 1 1 0 1 1 0 1 0 0 1 1 1 0 1 0]\n"
     ]
    },
    {
     "data": {
      "text/plain": [
       "GridSearchCV(cv=StratifiedShuffleSplit(n_splits=5, random_state=1, test_size=0.3,\n",
       "            train_size=None),\n",
       "       error_score='raise',\n",
       "       estimator=Pipeline(memory=None,\n",
       "     steps=[('pqn_normalize', FunctionTransformer(accept_sparse=False,\n",
       "          func=<function pqn_normalize at 0x7f8994658f50>,\n",
       "          inv_kw_args=None, inverse_func=None, kw_args=None,\n",
       "          pass_y='deprecated', validate=True)), ('rf_clf', RandomForestClassifier(bootstrap=True, class_weight=Non...n_jobs=1,\n",
       "            oob_score=False, random_state=None, verbose=0,\n",
       "            warm_start=False))]),\n",
       "       fit_params=None, iid=True, n_jobs=1,\n",
       "       param_grid={'rf_clf__n_estimators': array([  50,  267,  483,  700,  917, 1133, 1350, 1567, 1783, 2000])},\n",
       "       pre_dispatch='2*n_jobs', refit=True, return_train_score=True,\n",
       "       scoring='roc_auc', verbose=0)"
      ]
     },
     "execution_count": 166,
     "metadata": {},
     "output_type": "execute_result"
    }
   ],
   "source": [
    "print y\n",
    "grid_search.fit(X, y)\n"
   ]
  },
  {
   "cell_type": "code",
   "execution_count": 168,
   "metadata": {},
   "outputs": [
    {
     "data": {
      "text/html": [
       "<div>\n",
       "<style>\n",
       "    .dataframe thead tr:only-child th {\n",
       "        text-align: right;\n",
       "    }\n",
       "\n",
       "    .dataframe thead th {\n",
       "        text-align: left;\n",
       "    }\n",
       "\n",
       "    .dataframe tbody tr th {\n",
       "        vertical-align: top;\n",
       "    }\n",
       "</style>\n",
       "<table border=\"1\" class=\"dataframe\">\n",
       "  <thead>\n",
       "    <tr style=\"text-align: right;\">\n",
       "      <th></th>\n",
       "      <th>mean_fit_time</th>\n",
       "      <th>mean_score_time</th>\n",
       "      <th>mean_test_score</th>\n",
       "      <th>mean_train_score</th>\n",
       "      <th>param_rf_clf__n_estimators</th>\n",
       "      <th>params</th>\n",
       "      <th>rank_test_score</th>\n",
       "      <th>split0_test_score</th>\n",
       "      <th>split0_train_score</th>\n",
       "      <th>split1_test_score</th>\n",
       "      <th>...</th>\n",
       "      <th>split2_test_score</th>\n",
       "      <th>split2_train_score</th>\n",
       "      <th>split3_test_score</th>\n",
       "      <th>split3_train_score</th>\n",
       "      <th>split4_test_score</th>\n",
       "      <th>split4_train_score</th>\n",
       "      <th>std_fit_time</th>\n",
       "      <th>std_score_time</th>\n",
       "      <th>std_test_score</th>\n",
       "      <th>std_train_score</th>\n",
       "    </tr>\n",
       "  </thead>\n",
       "  <tbody>\n",
       "    <tr>\n",
       "      <th>0</th>\n",
       "      <td>0.148237</td>\n",
       "      <td>0.004977</td>\n",
       "      <td>0.788889</td>\n",
       "      <td>1.0</td>\n",
       "      <td>50</td>\n",
       "      <td>{u'rf_clf__n_estimators': 50}</td>\n",
       "      <td>9</td>\n",
       "      <td>0.888889</td>\n",
       "      <td>1.0</td>\n",
       "      <td>0.666667</td>\n",
       "      <td>...</td>\n",
       "      <td>0.555556</td>\n",
       "      <td>1.0</td>\n",
       "      <td>0.833333</td>\n",
       "      <td>1.0</td>\n",
       "      <td>1.000000</td>\n",
       "      <td>1.0</td>\n",
       "      <td>0.033036</td>\n",
       "      <td>0.000753</td>\n",
       "      <td>0.158698</td>\n",
       "      <td>0.0</td>\n",
       "    </tr>\n",
       "    <tr>\n",
       "      <th>1</th>\n",
       "      <td>0.783298</td>\n",
       "      <td>0.020277</td>\n",
       "      <td>0.844444</td>\n",
       "      <td>1.0</td>\n",
       "      <td>267</td>\n",
       "      <td>{u'rf_clf__n_estimators': 267}</td>\n",
       "      <td>5</td>\n",
       "      <td>1.000000</td>\n",
       "      <td>1.0</td>\n",
       "      <td>0.888889</td>\n",
       "      <td>...</td>\n",
       "      <td>0.777778</td>\n",
       "      <td>1.0</td>\n",
       "      <td>0.777778</td>\n",
       "      <td>1.0</td>\n",
       "      <td>0.777778</td>\n",
       "      <td>1.0</td>\n",
       "      <td>0.089676</td>\n",
       "      <td>0.000253</td>\n",
       "      <td>0.088889</td>\n",
       "      <td>0.0</td>\n",
       "    </tr>\n",
       "    <tr>\n",
       "      <th>2</th>\n",
       "      <td>1.380964</td>\n",
       "      <td>0.041912</td>\n",
       "      <td>0.866667</td>\n",
       "      <td>1.0</td>\n",
       "      <td>483</td>\n",
       "      <td>{u'rf_clf__n_estimators': 483}</td>\n",
       "      <td>3</td>\n",
       "      <td>1.000000</td>\n",
       "      <td>1.0</td>\n",
       "      <td>1.000000</td>\n",
       "      <td>...</td>\n",
       "      <td>0.666667</td>\n",
       "      <td>1.0</td>\n",
       "      <td>0.888889</td>\n",
       "      <td>1.0</td>\n",
       "      <td>0.777778</td>\n",
       "      <td>1.0</td>\n",
       "      <td>0.059686</td>\n",
       "      <td>0.011294</td>\n",
       "      <td>0.129577</td>\n",
       "      <td>0.0</td>\n",
       "    </tr>\n",
       "    <tr>\n",
       "      <th>3</th>\n",
       "      <td>2.126229</td>\n",
       "      <td>0.053235</td>\n",
       "      <td>0.777778</td>\n",
       "      <td>1.0</td>\n",
       "      <td>700</td>\n",
       "      <td>{u'rf_clf__n_estimators': 700}</td>\n",
       "      <td>10</td>\n",
       "      <td>1.000000</td>\n",
       "      <td>1.0</td>\n",
       "      <td>1.000000</td>\n",
       "      <td>...</td>\n",
       "      <td>0.666667</td>\n",
       "      <td>1.0</td>\n",
       "      <td>0.333333</td>\n",
       "      <td>1.0</td>\n",
       "      <td>0.888889</td>\n",
       "      <td>1.0</td>\n",
       "      <td>0.184503</td>\n",
       "      <td>0.002560</td>\n",
       "      <td>0.253372</td>\n",
       "      <td>0.0</td>\n",
       "    </tr>\n",
       "    <tr>\n",
       "      <th>4</th>\n",
       "      <td>2.540990</td>\n",
       "      <td>0.069782</td>\n",
       "      <td>0.911111</td>\n",
       "      <td>1.0</td>\n",
       "      <td>917</td>\n",
       "      <td>{u'rf_clf__n_estimators': 917}</td>\n",
       "      <td>1</td>\n",
       "      <td>1.000000</td>\n",
       "      <td>1.0</td>\n",
       "      <td>1.000000</td>\n",
       "      <td>...</td>\n",
       "      <td>0.888889</td>\n",
       "      <td>1.0</td>\n",
       "      <td>0.777778</td>\n",
       "      <td>1.0</td>\n",
       "      <td>0.888889</td>\n",
       "      <td>1.0</td>\n",
       "      <td>0.066339</td>\n",
       "      <td>0.004871</td>\n",
       "      <td>0.083148</td>\n",
       "      <td>0.0</td>\n",
       "    </tr>\n",
       "    <tr>\n",
       "      <th>5</th>\n",
       "      <td>3.639507</td>\n",
       "      <td>0.101621</td>\n",
       "      <td>0.822222</td>\n",
       "      <td>1.0</td>\n",
       "      <td>1133</td>\n",
       "      <td>{u'rf_clf__n_estimators': 1133}</td>\n",
       "      <td>7</td>\n",
       "      <td>1.000000</td>\n",
       "      <td>1.0</td>\n",
       "      <td>1.000000</td>\n",
       "      <td>...</td>\n",
       "      <td>0.777778</td>\n",
       "      <td>1.0</td>\n",
       "      <td>0.555556</td>\n",
       "      <td>1.0</td>\n",
       "      <td>0.777778</td>\n",
       "      <td>1.0</td>\n",
       "      <td>0.572956</td>\n",
       "      <td>0.013427</td>\n",
       "      <td>0.166296</td>\n",
       "      <td>0.0</td>\n",
       "    </tr>\n",
       "    <tr>\n",
       "      <th>6</th>\n",
       "      <td>3.980732</td>\n",
       "      <td>0.110372</td>\n",
       "      <td>0.866667</td>\n",
       "      <td>1.0</td>\n",
       "      <td>1350</td>\n",
       "      <td>{u'rf_clf__n_estimators': 1350}</td>\n",
       "      <td>3</td>\n",
       "      <td>1.000000</td>\n",
       "      <td>1.0</td>\n",
       "      <td>0.888889</td>\n",
       "      <td>...</td>\n",
       "      <td>0.888889</td>\n",
       "      <td>1.0</td>\n",
       "      <td>0.777778</td>\n",
       "      <td>1.0</td>\n",
       "      <td>0.777778</td>\n",
       "      <td>1.0</td>\n",
       "      <td>0.170367</td>\n",
       "      <td>0.018126</td>\n",
       "      <td>0.083148</td>\n",
       "      <td>0.0</td>\n",
       "    </tr>\n",
       "    <tr>\n",
       "      <th>7</th>\n",
       "      <td>4.722150</td>\n",
       "      <td>0.117296</td>\n",
       "      <td>0.822222</td>\n",
       "      <td>1.0</td>\n",
       "      <td>1567</td>\n",
       "      <td>{u'rf_clf__n_estimators': 1567}</td>\n",
       "      <td>7</td>\n",
       "      <td>1.000000</td>\n",
       "      <td>1.0</td>\n",
       "      <td>0.888889</td>\n",
       "      <td>...</td>\n",
       "      <td>0.666667</td>\n",
       "      <td>1.0</td>\n",
       "      <td>0.777778</td>\n",
       "      <td>1.0</td>\n",
       "      <td>0.777778</td>\n",
       "      <td>1.0</td>\n",
       "      <td>0.622835</td>\n",
       "      <td>0.004769</td>\n",
       "      <td>0.113312</td>\n",
       "      <td>0.0</td>\n",
       "    </tr>\n",
       "    <tr>\n",
       "      <th>8</th>\n",
       "      <td>4.946687</td>\n",
       "      <td>0.140082</td>\n",
       "      <td>0.877778</td>\n",
       "      <td>1.0</td>\n",
       "      <td>1783</td>\n",
       "      <td>{u'rf_clf__n_estimators': 1783}</td>\n",
       "      <td>2</td>\n",
       "      <td>1.000000</td>\n",
       "      <td>1.0</td>\n",
       "      <td>1.000000</td>\n",
       "      <td>...</td>\n",
       "      <td>0.777778</td>\n",
       "      <td>1.0</td>\n",
       "      <td>0.722222</td>\n",
       "      <td>1.0</td>\n",
       "      <td>0.888889</td>\n",
       "      <td>1.0</td>\n",
       "      <td>0.179234</td>\n",
       "      <td>0.011329</td>\n",
       "      <td>0.113312</td>\n",
       "      <td>0.0</td>\n",
       "    </tr>\n",
       "    <tr>\n",
       "      <th>9</th>\n",
       "      <td>5.979025</td>\n",
       "      <td>0.167441</td>\n",
       "      <td>0.844444</td>\n",
       "      <td>1.0</td>\n",
       "      <td>2000</td>\n",
       "      <td>{u'rf_clf__n_estimators': 2000}</td>\n",
       "      <td>5</td>\n",
       "      <td>1.000000</td>\n",
       "      <td>1.0</td>\n",
       "      <td>1.000000</td>\n",
       "      <td>...</td>\n",
       "      <td>0.666667</td>\n",
       "      <td>1.0</td>\n",
       "      <td>0.777778</td>\n",
       "      <td>1.0</td>\n",
       "      <td>0.777778</td>\n",
       "      <td>1.0</td>\n",
       "      <td>0.335274</td>\n",
       "      <td>0.021680</td>\n",
       "      <td>0.133333</td>\n",
       "      <td>0.0</td>\n",
       "    </tr>\n",
       "  </tbody>\n",
       "</table>\n",
       "<p>10 rows × 21 columns</p>\n",
       "</div>"
      ],
      "text/plain": [
       "   mean_fit_time  mean_score_time  mean_test_score  mean_train_score  \\\n",
       "0       0.148237         0.004977         0.788889               1.0   \n",
       "1       0.783298         0.020277         0.844444               1.0   \n",
       "2       1.380964         0.041912         0.866667               1.0   \n",
       "3       2.126229         0.053235         0.777778               1.0   \n",
       "4       2.540990         0.069782         0.911111               1.0   \n",
       "5       3.639507         0.101621         0.822222               1.0   \n",
       "6       3.980732         0.110372         0.866667               1.0   \n",
       "7       4.722150         0.117296         0.822222               1.0   \n",
       "8       4.946687         0.140082         0.877778               1.0   \n",
       "9       5.979025         0.167441         0.844444               1.0   \n",
       "\n",
       "  param_rf_clf__n_estimators                           params  \\\n",
       "0                         50    {u'rf_clf__n_estimators': 50}   \n",
       "1                        267   {u'rf_clf__n_estimators': 267}   \n",
       "2                        483   {u'rf_clf__n_estimators': 483}   \n",
       "3                        700   {u'rf_clf__n_estimators': 700}   \n",
       "4                        917   {u'rf_clf__n_estimators': 917}   \n",
       "5                       1133  {u'rf_clf__n_estimators': 1133}   \n",
       "6                       1350  {u'rf_clf__n_estimators': 1350}   \n",
       "7                       1567  {u'rf_clf__n_estimators': 1567}   \n",
       "8                       1783  {u'rf_clf__n_estimators': 1783}   \n",
       "9                       2000  {u'rf_clf__n_estimators': 2000}   \n",
       "\n",
       "   rank_test_score  split0_test_score  split0_train_score  split1_test_score  \\\n",
       "0                9           0.888889                 1.0           0.666667   \n",
       "1                5           1.000000                 1.0           0.888889   \n",
       "2                3           1.000000                 1.0           1.000000   \n",
       "3               10           1.000000                 1.0           1.000000   \n",
       "4                1           1.000000                 1.0           1.000000   \n",
       "5                7           1.000000                 1.0           1.000000   \n",
       "6                3           1.000000                 1.0           0.888889   \n",
       "7                7           1.000000                 1.0           0.888889   \n",
       "8                2           1.000000                 1.0           1.000000   \n",
       "9                5           1.000000                 1.0           1.000000   \n",
       "\n",
       "        ...         split2_test_score  split2_train_score  split3_test_score  \\\n",
       "0       ...                  0.555556                 1.0           0.833333   \n",
       "1       ...                  0.777778                 1.0           0.777778   \n",
       "2       ...                  0.666667                 1.0           0.888889   \n",
       "3       ...                  0.666667                 1.0           0.333333   \n",
       "4       ...                  0.888889                 1.0           0.777778   \n",
       "5       ...                  0.777778                 1.0           0.555556   \n",
       "6       ...                  0.888889                 1.0           0.777778   \n",
       "7       ...                  0.666667                 1.0           0.777778   \n",
       "8       ...                  0.777778                 1.0           0.722222   \n",
       "9       ...                  0.666667                 1.0           0.777778   \n",
       "\n",
       "   split3_train_score  split4_test_score  split4_train_score  std_fit_time  \\\n",
       "0                 1.0           1.000000                 1.0      0.033036   \n",
       "1                 1.0           0.777778                 1.0      0.089676   \n",
       "2                 1.0           0.777778                 1.0      0.059686   \n",
       "3                 1.0           0.888889                 1.0      0.184503   \n",
       "4                 1.0           0.888889                 1.0      0.066339   \n",
       "5                 1.0           0.777778                 1.0      0.572956   \n",
       "6                 1.0           0.777778                 1.0      0.170367   \n",
       "7                 1.0           0.777778                 1.0      0.622835   \n",
       "8                 1.0           0.888889                 1.0      0.179234   \n",
       "9                 1.0           0.777778                 1.0      0.335274   \n",
       "\n",
       "   std_score_time  std_test_score  std_train_score  \n",
       "0        0.000753        0.158698              0.0  \n",
       "1        0.000253        0.088889              0.0  \n",
       "2        0.011294        0.129577              0.0  \n",
       "3        0.002560        0.253372              0.0  \n",
       "4        0.004871        0.083148              0.0  \n",
       "5        0.013427        0.166296              0.0  \n",
       "6        0.018126        0.083148              0.0  \n",
       "7        0.004769        0.113312              0.0  \n",
       "8        0.011329        0.113312              0.0  \n",
       "9        0.021680        0.133333              0.0  \n",
       "\n",
       "[10 rows x 21 columns]"
      ]
     },
     "execution_count": 168,
     "metadata": {},
     "output_type": "execute_result"
    }
   ],
   "source": [
    "pd.DataFrame(grid_search.cv_results_)"
   ]
  },
  {
   "cell_type": "code",
   "execution_count": 172,
   "metadata": {},
   "outputs": [
    {
     "data": {
      "image/png": "[encoded data removed]",
      "text/plain": [
       "<matplotlib.figure.Figure at 0x7f897a950f10>"
      ]
     },
     "metadata": {},
     "output_type": "display_data"
    }
   ],
   "source": [
    "# Now plot a learning curve with given parameters\n",
    "\n",
    "cv_learn_curve = StratifiedShuffleSplit(\n",
    "    n_splits=25, test_size=0.3, random_state=random_state)\n",
    "\n",
    "my_plt = plot_learning_curve(grid_search.best_estimator_, \n",
    "                           'Learning curve (RF) Chosen vis gridsearchCV',\n",
    "                           X, y, cv=cv, n_jobs=4)\n",
    "my_plt.show()"
   ]
  },
  {
   "cell_type": "code",
   "execution_count": 186,
   "metadata": {},
   "outputs": [
    {
     "name": "stdout",
     "output_type": "stream",
     "text": [
      "StratifiedShuffleSplit(n_splits=5, random_state=1, test_size=0.3,\n",
      "            train_size=None)\n",
      "0.0% done! 2.72130203247s elapsed\n"
     ]
    }
   ],
   "source": [
    "# Get an ROC curve plot from the best estimator\n",
    "\n",
    "def roc_curve_cv(X, y, clf, cross_val,\n",
    "                path='/home/irockafe/Desktop/roc.pdf',\n",
    "                save=False, plot=True):  \n",
    "    t1 = time.time()\n",
    "    # collect vals for the ROC curves\n",
    "    tpr_list = []\n",
    "    mean_fpr = np.linspace(0,1,100)\n",
    "    auc_list = []\n",
    "    \n",
    "    # Get the false-positive and true-positive rate\n",
    "    for i, (train, test) in enumerate(cross_val.split(X,y)):\n",
    "        clf.fit(X[train], y[train])\n",
    "        y_pred = clf.predict_proba(X[test])[:,1]\n",
    "        \n",
    "        # get fpr, tpr\n",
    "        fpr, tpr, thresholds = roc_curve(y[test], y_pred)\n",
    "        roc_auc = auc(fpr, tpr)\n",
    "        #print 'AUC', roc_auc\n",
    "        #sns.plt.plot(fpr, tpr, lw=10, alpha=0.6, label='ROC - AUC = %0.2f' % roc_auc,)\n",
    "        #sns.plt.show()\n",
    "        tpr_list.append(interp(mean_fpr, fpr, tpr))\n",
    "        tpr_list[-1][0] = 0.0\n",
    "        auc_list.append(roc_auc)\n",
    "        \n",
    "        if (i % 10 == 0):\n",
    "            print '{perc}% done! {time}s elapsed'.format(perc=100*float(i)/cross_val.n_splits,\n",
    "                                                         time=(time.time() - t1))\n",
    "        \n",
    "            \n",
    "        \n",
    "        \n",
    "    # get mean tpr and fpr\n",
    "    mean_tpr = np.mean(tpr_list, axis=0)\n",
    "    # make sure it ends up at 1.0\n",
    "    mean_tpr[-1] = 1.0\n",
    "    mean_auc = auc(mean_fpr, mean_tpr)\n",
    "    std_auc = np.std(auc_list)\n",
    "    \n",
    "    if plot:\n",
    "        # plot mean auc\n",
    "        plt.plot(mean_fpr, mean_tpr, label='Mean ROC - AUC = %0.2f $\\pm$ %0.2f' % (mean_auc, \n",
    "                                                                                       std_auc),\n",
    "                    lw=5, color='b')\n",
    "\n",
    "        # plot luck-line\n",
    "        plt.plot([0,1], [0,1], linestyle = '--', lw=2, color='r',\n",
    "                    label='Luck', alpha=0.5) \n",
    "\n",
    "        # plot 1-std\n",
    "        std_tpr = np.std(tpr_list, axis=0)\n",
    "        tprs_upper = np.minimum(mean_tpr + std_tpr, 1)\n",
    "        tprs_lower = np.maximum(mean_tpr - std_tpr, 0)\n",
    "        plt.fill_between(mean_fpr, tprs_lower, tprs_upper, color='grey', alpha=0.2,\n",
    "                            label=r'$\\pm$ 1 stdev')\n",
    "\n",
    "        plt.xlim([-0.05, 1.05])\n",
    "        plt.ylim([-0.05, 1.05])\n",
    "        plt.xlabel('False Positive Rate')\n",
    "        plt.ylabel('True Positive Rate')\n",
    "        plt.title('ROC curve, {iters} iterations of {cv} cross validation'.format(\n",
    "            iters=cross_val.n_splits, cv='{train}:{test}'.format(test=cross_val.test_size, train=(1-cross_val.test_size)))\n",
    "                 )\n",
    "        plt.legend(loc=\"lower right\")\n",
    "\n",
    "        if save:\n",
    "            plt.savefig(path,  format='pdf')\n",
    "\n",
    "\n",
    "        #plt.show()\n",
    "    return plt, tpr_list, auc_list, mean_fpr\n",
    "\n",
    "roc_cv = StratifiedShuffleSplit(\n",
    "    n_splits=5, test_size=0.3, random_state=random_state)\n",
    "print roc_cv\n",
    "plt, tpr_list, auc_list, mean_fpr = roc_curve_cv(X, y, grid_search.best_estimator_, cross_val=roc_cv)"
   ]
  },
  {
   "cell_type": "markdown",
   "metadata": {},
   "source": [
    "<h2> Great, looks like everything works okay. Let's clean it up a bit </h2>"
   ]
  },
  {
   "cell_type": "code",
   "execution_count": 197,
   "metadata": {
    "collapsed": true
   },
   "outputs": [],
   "source": [
    "def rf_gridsearch(X, y):\n",
    "    # TODO How to require pqn_normalize to be a function accessible here?\n",
    "    # Make your gridsearch pipeline\n",
    "    pipe = Pipeline([\n",
    "        ('pqn_normalize', FunctionTransformer(pqn_normalize)),\n",
    "        ('rf_clf', RandomForestClassifier())\n",
    "        ])\n",
    "\n",
    "    #param_grid = dict(rf_clf__n_estimators = np.int_(\n",
    "        np.round(\n",
    "            np.linspace(50, 2000, 10)\n",
    "                ))\n",
    "                )\n",
    "\n",
    "    n_splits = 15\n",
    "    test_size = 0.3\n",
    "    random_state = 1\n",
    "    cv = StratifiedShuffleSplit(n_splits=n_splits, \n",
    "                                test_size=test_size, \n",
    "                                random_state=random_state)\n",
    "\n",
    "    #param_grid = {rf_clf__n_estimators=stats.uniform()}\n",
    "    grid_search = GridSearchCV(pipe, param_grid=param_grid,\n",
    "                              scoring='roc_auc',\n",
    "                              cv=cv,\n",
    "                              n_jobs=4)\n",
    "    grid_search.fit(X, y)\n",
    "    return grid_search\n",
    "\n",
    "grid = rf_gridsearch(X, y)"
   ]
  },
  {
   "cell_type": "markdown",
   "metadata": {},
   "source": [
    "<h2> Duh. Don't cross-validate the number of estimators - always better with more (asymptotically) </h2> Could do a few other things instead"
   ]
  },
  {
   "cell_type": "code",
   "execution_count": 199,
   "metadata": {},
   "outputs": [
    {
     "data": {
      "text/html": [
       "<div>\n",
       "<style>\n",
       "    .dataframe thead tr:only-child th {\n",
       "        text-align: right;\n",
       "    }\n",
       "\n",
       "    .dataframe thead th {\n",
       "        text-align: left;\n",
       "    }\n",
       "\n",
       "    .dataframe tbody tr th {\n",
       "        vertical-align: top;\n",
       "    }\n",
       "</style>\n",
       "<table border=\"1\" class=\"dataframe\">\n",
       "  <thead>\n",
       "    <tr style=\"text-align: right;\">\n",
       "      <th></th>\n",
       "      <th>mean_fit_time</th>\n",
       "      <th>mean_score_time</th>\n",
       "      <th>mean_test_score</th>\n",
       "      <th>mean_train_score</th>\n",
       "      <th>param_rf_clf__n_estimators</th>\n",
       "      <th>params</th>\n",
       "      <th>rank_test_score</th>\n",
       "      <th>split0_test_score</th>\n",
       "      <th>split0_train_score</th>\n",
       "      <th>split10_test_score</th>\n",
       "      <th>...</th>\n",
       "      <th>split7_test_score</th>\n",
       "      <th>split7_train_score</th>\n",
       "      <th>split8_test_score</th>\n",
       "      <th>split8_train_score</th>\n",
       "      <th>split9_test_score</th>\n",
       "      <th>split9_train_score</th>\n",
       "      <th>std_fit_time</th>\n",
       "      <th>std_score_time</th>\n",
       "      <th>std_test_score</th>\n",
       "      <th>std_train_score</th>\n",
       "    </tr>\n",
       "  </thead>\n",
       "  <tbody>\n",
       "    <tr>\n",
       "      <th>0</th>\n",
       "      <td>0.287577</td>\n",
       "      <td>0.010042</td>\n",
       "      <td>0.774074</td>\n",
       "      <td>1.0</td>\n",
       "      <td>50</td>\n",
       "      <td>{u'rf_clf__n_estimators': 50}</td>\n",
       "      <td>10</td>\n",
       "      <td>1.0</td>\n",
       "      <td>1.0</td>\n",
       "      <td>1.000000</td>\n",
       "      <td>...</td>\n",
       "      <td>0.777778</td>\n",
       "      <td>1.0</td>\n",
       "      <td>1.000000</td>\n",
       "      <td>1.0</td>\n",
       "      <td>0.555556</td>\n",
       "      <td>1.0</td>\n",
       "      <td>0.019909</td>\n",
       "      <td>0.003019</td>\n",
       "      <td>0.215134</td>\n",
       "      <td>2.866584e-17</td>\n",
       "    </tr>\n",
       "    <tr>\n",
       "      <th>1</th>\n",
       "      <td>1.624561</td>\n",
       "      <td>0.037549</td>\n",
       "      <td>0.862963</td>\n",
       "      <td>1.0</td>\n",
       "      <td>267</td>\n",
       "      <td>{u'rf_clf__n_estimators': 267}</td>\n",
       "      <td>1</td>\n",
       "      <td>1.0</td>\n",
       "      <td>1.0</td>\n",
       "      <td>0.888889</td>\n",
       "      <td>...</td>\n",
       "      <td>0.777778</td>\n",
       "      <td>1.0</td>\n",
       "      <td>1.000000</td>\n",
       "      <td>1.0</td>\n",
       "      <td>0.555556</td>\n",
       "      <td>1.0</td>\n",
       "      <td>0.194827</td>\n",
       "      <td>0.002606</td>\n",
       "      <td>0.155644</td>\n",
       "      <td>0.000000e+00</td>\n",
       "    </tr>\n",
       "    <tr>\n",
       "      <th>2</th>\n",
       "      <td>2.968070</td>\n",
       "      <td>0.079170</td>\n",
       "      <td>0.822222</td>\n",
       "      <td>1.0</td>\n",
       "      <td>483</td>\n",
       "      <td>{u'rf_clf__n_estimators': 483}</td>\n",
       "      <td>9</td>\n",
       "      <td>1.0</td>\n",
       "      <td>1.0</td>\n",
       "      <td>1.000000</td>\n",
       "      <td>...</td>\n",
       "      <td>0.555556</td>\n",
       "      <td>1.0</td>\n",
       "      <td>1.000000</td>\n",
       "      <td>1.0</td>\n",
       "      <td>0.555556</td>\n",
       "      <td>1.0</td>\n",
       "      <td>0.185550</td>\n",
       "      <td>0.025400</td>\n",
       "      <td>0.180534</td>\n",
       "      <td>0.000000e+00</td>\n",
       "    </tr>\n",
       "    <tr>\n",
       "      <th>3</th>\n",
       "      <td>4.563777</td>\n",
       "      <td>0.131663</td>\n",
       "      <td>0.851852</td>\n",
       "      <td>1.0</td>\n",
       "      <td>700</td>\n",
       "      <td>{u'rf_clf__n_estimators': 700}</td>\n",
       "      <td>3</td>\n",
       "      <td>1.0</td>\n",
       "      <td>1.0</td>\n",
       "      <td>0.888889</td>\n",
       "      <td>...</td>\n",
       "      <td>0.777778</td>\n",
       "      <td>1.0</td>\n",
       "      <td>1.000000</td>\n",
       "      <td>1.0</td>\n",
       "      <td>0.555556</td>\n",
       "      <td>1.0</td>\n",
       "      <td>0.916594</td>\n",
       "      <td>0.057050</td>\n",
       "      <td>0.138580</td>\n",
       "      <td>0.000000e+00</td>\n",
       "    </tr>\n",
       "    <tr>\n",
       "      <th>4</th>\n",
       "      <td>6.264838</td>\n",
       "      <td>0.179341</td>\n",
       "      <td>0.837037</td>\n",
       "      <td>1.0</td>\n",
       "      <td>917</td>\n",
       "      <td>{u'rf_clf__n_estimators': 917}</td>\n",
       "      <td>6</td>\n",
       "      <td>1.0</td>\n",
       "      <td>1.0</td>\n",
       "      <td>0.888889</td>\n",
       "      <td>...</td>\n",
       "      <td>0.777778</td>\n",
       "      <td>1.0</td>\n",
       "      <td>0.888889</td>\n",
       "      <td>1.0</td>\n",
       "      <td>0.555556</td>\n",
       "      <td>1.0</td>\n",
       "      <td>0.837182</td>\n",
       "      <td>0.112606</td>\n",
       "      <td>0.139763</td>\n",
       "      <td>0.000000e+00</td>\n",
       "    </tr>\n",
       "    <tr>\n",
       "      <th>5</th>\n",
       "      <td>9.754603</td>\n",
       "      <td>0.230883</td>\n",
       "      <td>0.840741</td>\n",
       "      <td>1.0</td>\n",
       "      <td>1133</td>\n",
       "      <td>{u'rf_clf__n_estimators': 1133}</td>\n",
       "      <td>5</td>\n",
       "      <td>1.0</td>\n",
       "      <td>1.0</td>\n",
       "      <td>1.000000</td>\n",
       "      <td>...</td>\n",
       "      <td>0.666667</td>\n",
       "      <td>1.0</td>\n",
       "      <td>1.000000</td>\n",
       "      <td>1.0</td>\n",
       "      <td>0.555556</td>\n",
       "      <td>1.0</td>\n",
       "      <td>1.561355</td>\n",
       "      <td>0.053240</td>\n",
       "      <td>0.147499</td>\n",
       "      <td>0.000000e+00</td>\n",
       "    </tr>\n",
       "    <tr>\n",
       "      <th>6</th>\n",
       "      <td>8.839865</td>\n",
       "      <td>0.249810</td>\n",
       "      <td>0.837037</td>\n",
       "      <td>1.0</td>\n",
       "      <td>1350</td>\n",
       "      <td>{u'rf_clf__n_estimators': 1350}</td>\n",
       "      <td>6</td>\n",
       "      <td>1.0</td>\n",
       "      <td>1.0</td>\n",
       "      <td>0.888889</td>\n",
       "      <td>...</td>\n",
       "      <td>0.777778</td>\n",
       "      <td>1.0</td>\n",
       "      <td>0.888889</td>\n",
       "      <td>1.0</td>\n",
       "      <td>0.555556</td>\n",
       "      <td>1.0</td>\n",
       "      <td>1.668038</td>\n",
       "      <td>0.074655</td>\n",
       "      <td>0.145532</td>\n",
       "      <td>0.000000e+00</td>\n",
       "    </tr>\n",
       "    <tr>\n",
       "      <th>7</th>\n",
       "      <td>11.147105</td>\n",
       "      <td>0.292853</td>\n",
       "      <td>0.851852</td>\n",
       "      <td>1.0</td>\n",
       "      <td>1567</td>\n",
       "      <td>{u'rf_clf__n_estimators': 1567}</td>\n",
       "      <td>3</td>\n",
       "      <td>1.0</td>\n",
       "      <td>1.0</td>\n",
       "      <td>0.888889</td>\n",
       "      <td>...</td>\n",
       "      <td>0.555556</td>\n",
       "      <td>1.0</td>\n",
       "      <td>1.000000</td>\n",
       "      <td>1.0</td>\n",
       "      <td>0.777778</td>\n",
       "      <td>1.0</td>\n",
       "      <td>1.254411</td>\n",
       "      <td>0.072877</td>\n",
       "      <td>0.138580</td>\n",
       "      <td>0.000000e+00</td>\n",
       "    </tr>\n",
       "    <tr>\n",
       "      <th>8</th>\n",
       "      <td>14.541460</td>\n",
       "      <td>0.379671</td>\n",
       "      <td>0.837037</td>\n",
       "      <td>1.0</td>\n",
       "      <td>1783</td>\n",
       "      <td>{u'rf_clf__n_estimators': 1783}</td>\n",
       "      <td>6</td>\n",
       "      <td>1.0</td>\n",
       "      <td>1.0</td>\n",
       "      <td>1.000000</td>\n",
       "      <td>...</td>\n",
       "      <td>0.666667</td>\n",
       "      <td>1.0</td>\n",
       "      <td>1.000000</td>\n",
       "      <td>1.0</td>\n",
       "      <td>0.555556</td>\n",
       "      <td>1.0</td>\n",
       "      <td>1.479153</td>\n",
       "      <td>0.190593</td>\n",
       "      <td>0.156435</td>\n",
       "      <td>0.000000e+00</td>\n",
       "    </tr>\n",
       "    <tr>\n",
       "      <th>9</th>\n",
       "      <td>18.652319</td>\n",
       "      <td>0.472802</td>\n",
       "      <td>0.855556</td>\n",
       "      <td>1.0</td>\n",
       "      <td>2000</td>\n",
       "      <td>{u'rf_clf__n_estimators': 2000}</td>\n",
       "      <td>2</td>\n",
       "      <td>1.0</td>\n",
       "      <td>1.0</td>\n",
       "      <td>0.888889</td>\n",
       "      <td>...</td>\n",
       "      <td>0.666667</td>\n",
       "      <td>1.0</td>\n",
       "      <td>1.000000</td>\n",
       "      <td>1.0</td>\n",
       "      <td>0.555556</td>\n",
       "      <td>1.0</td>\n",
       "      <td>5.917884</td>\n",
       "      <td>0.216559</td>\n",
       "      <td>0.146003</td>\n",
       "      <td>0.000000e+00</td>\n",
       "    </tr>\n",
       "  </tbody>\n",
       "</table>\n",
       "<p>10 rows × 41 columns</p>\n",
       "</div>"
      ],
      "text/plain": [
       "   mean_fit_time  mean_score_time  mean_test_score  mean_train_score  \\\n",
       "0       0.287577         0.010042         0.774074               1.0   \n",
       "1       1.624561         0.037549         0.862963               1.0   \n",
       "2       2.968070         0.079170         0.822222               1.0   \n",
       "3       4.563777         0.131663         0.851852               1.0   \n",
       "4       6.264838         0.179341         0.837037               1.0   \n",
       "5       9.754603         0.230883         0.840741               1.0   \n",
       "6       8.839865         0.249810         0.837037               1.0   \n",
       "7      11.147105         0.292853         0.851852               1.0   \n",
       "8      14.541460         0.379671         0.837037               1.0   \n",
       "9      18.652319         0.472802         0.855556               1.0   \n",
       "\n",
       "  param_rf_clf__n_estimators                           params  \\\n",
       "0                         50    {u'rf_clf__n_estimators': 50}   \n",
       "1                        267   {u'rf_clf__n_estimators': 267}   \n",
       "2                        483   {u'rf_clf__n_estimators': 483}   \n",
       "3                        700   {u'rf_clf__n_estimators': 700}   \n",
       "4                        917   {u'rf_clf__n_estimators': 917}   \n",
       "5                       1133  {u'rf_clf__n_estimators': 1133}   \n",
       "6                       1350  {u'rf_clf__n_estimators': 1350}   \n",
       "7                       1567  {u'rf_clf__n_estimators': 1567}   \n",
       "8                       1783  {u'rf_clf__n_estimators': 1783}   \n",
       "9                       2000  {u'rf_clf__n_estimators': 2000}   \n",
       "\n",
       "   rank_test_score  split0_test_score  split0_train_score  split10_test_score  \\\n",
       "0               10                1.0                 1.0            1.000000   \n",
       "1                1                1.0                 1.0            0.888889   \n",
       "2                9                1.0                 1.0            1.000000   \n",
       "3                3                1.0                 1.0            0.888889   \n",
       "4                6                1.0                 1.0            0.888889   \n",
       "5                5                1.0                 1.0            1.000000   \n",
       "6                6                1.0                 1.0            0.888889   \n",
       "7                3                1.0                 1.0            0.888889   \n",
       "8                6                1.0                 1.0            1.000000   \n",
       "9                2                1.0                 1.0            0.888889   \n",
       "\n",
       "        ...         split7_test_score  split7_train_score  split8_test_score  \\\n",
       "0       ...                  0.777778                 1.0           1.000000   \n",
       "1       ...                  0.777778                 1.0           1.000000   \n",
       "2       ...                  0.555556                 1.0           1.000000   \n",
       "3       ...                  0.777778                 1.0           1.000000   \n",
       "4       ...                  0.777778                 1.0           0.888889   \n",
       "5       ...                  0.666667                 1.0           1.000000   \n",
       "6       ...                  0.777778                 1.0           0.888889   \n",
       "7       ...                  0.555556                 1.0           1.000000   \n",
       "8       ...                  0.666667                 1.0           1.000000   \n",
       "9       ...                  0.666667                 1.0           1.000000   \n",
       "\n",
       "   split8_train_score  split9_test_score  split9_train_score  std_fit_time  \\\n",
       "0                 1.0           0.555556                 1.0      0.019909   \n",
       "1                 1.0           0.555556                 1.0      0.194827   \n",
       "2                 1.0           0.555556                 1.0      0.185550   \n",
       "3                 1.0           0.555556                 1.0      0.916594   \n",
       "4                 1.0           0.555556                 1.0      0.837182   \n",
       "5                 1.0           0.555556                 1.0      1.561355   \n",
       "6                 1.0           0.555556                 1.0      1.668038   \n",
       "7                 1.0           0.777778                 1.0      1.254411   \n",
       "8                 1.0           0.555556                 1.0      1.479153   \n",
       "9                 1.0           0.555556                 1.0      5.917884   \n",
       "\n",
       "   std_score_time  std_test_score  std_train_score  \n",
       "0        0.003019        0.215134     2.866584e-17  \n",
       "1        0.002606        0.155644     0.000000e+00  \n",
       "2        0.025400        0.180534     0.000000e+00  \n",
       "3        0.057050        0.138580     0.000000e+00  \n",
       "4        0.112606        0.139763     0.000000e+00  \n",
       "5        0.053240        0.147499     0.000000e+00  \n",
       "6        0.074655        0.145532     0.000000e+00  \n",
       "7        0.072877        0.138580     0.000000e+00  \n",
       "8        0.190593        0.156435     0.000000e+00  \n",
       "9        0.216559        0.146003     0.000000e+00  \n",
       "\n",
       "[10 rows x 41 columns]"
      ]
     },
     "execution_count": 199,
     "metadata": {},
     "output_type": "execute_result"
    }
   ],
   "source": [
    "pd.DataFrame(grid.cv_results_)"
   ]
  },
  {
   "cell_type": "markdown",
   "metadata": {},
   "source": [
    "<h2> Try to use PCA -> t-SNE </h2>\n",
    "See if this improves performance"
   ]
  },
  {
   "cell_type": "code",
   "execution_count": 10,
   "metadata": {},
   "outputs": [
    {
     "ename": "TypeError",
     "evalue": "All intermediate steps should be transformers and implement fit and transform. 'TSNE(angle=0.5, early_exaggeration=12.0, init='random', learning_rate=200.0,\n   method='barnes_hut', metric='euclidean', min_grad_norm=1e-07,\n   n_components=2, n_iter=1000, n_iter_without_progress=300,\n   perplexity=30.0, random_state=None, verbose=0)' (type <class 'sklearn.manifold.t_sne.TSNE'>) doesn't",
     "output_type": "error",
     "traceback": [
      "\u001b[0;31m---------------------------------------------------------------------------\u001b[0m",
      "\u001b[0;31mTypeError\u001b[0m                                 Traceback (most recent call last)",
      "\u001b[0;32m<ipython-input-10-984cbc60664f>\u001b[0m in \u001b[0;36m<module>\u001b[0;34m()\u001b[0m\n\u001b[1;32m      8\u001b[0m     \u001b[0;34m(\u001b[0m\u001b[0;34m'pca'\u001b[0m\u001b[0;34m,\u001b[0m \u001b[0mPCA\u001b[0m\u001b[0;34m(\u001b[0m\u001b[0;34m)\u001b[0m\u001b[0;34m)\u001b[0m\u001b[0;34m,\u001b[0m\u001b[0;34m\u001b[0m\u001b[0m\n\u001b[1;32m      9\u001b[0m     \u001b[0;34m(\u001b[0m\u001b[0;34m'tsne'\u001b[0m\u001b[0;34m,\u001b[0m \u001b[0mTSNE\u001b[0m\u001b[0;34m(\u001b[0m\u001b[0;34m)\u001b[0m\u001b[0;34m)\u001b[0m\u001b[0;34m,\u001b[0m\u001b[0;34m\u001b[0m\u001b[0m\n\u001b[0;32m---> 10\u001b[0;31m     \u001b[0;34m(\u001b[0m\u001b[0;34m'rf_clf'\u001b[0m\u001b[0;34m,\u001b[0m \u001b[0mRandomForestClassifier\u001b[0m\u001b[0;34m(\u001b[0m\u001b[0;34m)\u001b[0m\u001b[0;34m)\u001b[0m\u001b[0;34m\u001b[0m\u001b[0m\n\u001b[0m\u001b[1;32m     11\u001b[0m     ])\n\u001b[1;32m     12\u001b[0m \u001b[0;34m\u001b[0m\u001b[0m\n",
      "\u001b[0;32m/home/irockafe/miniconda2/envs/isaac_revo_healthcare/lib/python2.7/site-packages/sklearn/pipeline.pyc\u001b[0m in \u001b[0;36m__init__\u001b[0;34m(self, steps, memory)\u001b[0m\n\u001b[1;32m    114\u001b[0m         \u001b[0;31m# shallow copy of steps\u001b[0m\u001b[0;34m\u001b[0m\u001b[0;34m\u001b[0m\u001b[0m\n\u001b[1;32m    115\u001b[0m         \u001b[0mself\u001b[0m\u001b[0;34m.\u001b[0m\u001b[0msteps\u001b[0m \u001b[0;34m=\u001b[0m \u001b[0mtosequence\u001b[0m\u001b[0;34m(\u001b[0m\u001b[0msteps\u001b[0m\u001b[0;34m)\u001b[0m\u001b[0;34m\u001b[0m\u001b[0m\n\u001b[0;32m--> 116\u001b[0;31m         \u001b[0mself\u001b[0m\u001b[0;34m.\u001b[0m\u001b[0m_validate_steps\u001b[0m\u001b[0;34m(\u001b[0m\u001b[0;34m)\u001b[0m\u001b[0;34m\u001b[0m\u001b[0m\n\u001b[0m\u001b[1;32m    117\u001b[0m         \u001b[0mself\u001b[0m\u001b[0;34m.\u001b[0m\u001b[0mmemory\u001b[0m \u001b[0;34m=\u001b[0m \u001b[0mmemory\u001b[0m\u001b[0;34m\u001b[0m\u001b[0m\n\u001b[1;32m    118\u001b[0m \u001b[0;34m\u001b[0m\u001b[0m\n",
      "\u001b[0;32m/home/irockafe/miniconda2/envs/isaac_revo_healthcare/lib/python2.7/site-packages/sklearn/pipeline.pyc\u001b[0m in \u001b[0;36m_validate_steps\u001b[0;34m(self)\u001b[0m\n\u001b[1;32m    162\u001b[0m                 raise TypeError(\"All intermediate steps should be \"\n\u001b[1;32m    163\u001b[0m                                 \u001b[0;34m\"transformers and implement fit and transform.\"\u001b[0m\u001b[0;34m\u001b[0m\u001b[0m\n\u001b[0;32m--> 164\u001b[0;31m                                 \" '%s' (type %s) doesn't\" % (t, type(t)))\n\u001b[0m\u001b[1;32m    165\u001b[0m \u001b[0;34m\u001b[0m\u001b[0m\n\u001b[1;32m    166\u001b[0m         \u001b[0;31m# We allow last estimator to be None as an identity transformation\u001b[0m\u001b[0;34m\u001b[0m\u001b[0;34m\u001b[0m\u001b[0m\n",
      "\u001b[0;31mTypeError\u001b[0m: All intermediate steps should be transformers and implement fit and transform. 'TSNE(angle=0.5, early_exaggeration=12.0, init='random', learning_rate=200.0,\n   method='barnes_hut', metric='euclidean', min_grad_norm=1e-07,\n   n_components=2, n_iter=1000, n_iter_without_progress=300,\n   perplexity=30.0, random_state=None, verbose=0)' (type <class 'sklearn.manifold.t_sne.TSNE'>) doesn't"
     ]
    }
   ],
   "source": [
    "X, y = samples_generator.make_classification(\n",
    "    n_features=100, n_informative=10, n_redundant=10, n_classes=2,\n",
    "    n_clusters_per_class=1,\n",
    "    n_samples=20)\n",
    "\n",
    "pipe = Pipeline([\n",
    "    ('pqn_normalize', FunctionTransformer(pqn_normalize)),\n",
    "    ('pca', PCA()),\n",
    "    ('tsne', TSNE()),\n",
    "    ('rf_clf', RandomForestClassifier())\n",
    "    ])\n",
    "\n",
    "param_grid = dict(rf_clf__n_estimators = np.int_(\n",
    "                    np.round(\n",
    "                    np.linspace(50, 2000, 10))),\n",
    "                  pca__n_components = [10, 25, 50, 75, 100],\n",
    "                  \n",
    "            )\n",
    "\n",
    "n_iter = 5\n",
    "test_size = 0.3\n",
    "random_state = 1\n",
    "cv = StratifiedShuffleSplit(n_splits=n_iter, test_size=test_size, random_state=random_state)\n",
    "\n",
    "#param_grid = {rf_clf__n_estimators=stats.uniform()}\n",
    "grid_search = GridSearchCV(pipe, param_grid=param_grid,\n",
    "                          scoring='roc_auc',\n",
    "                          cv=cv)\n"
   ]
  },
  {
   "cell_type": "code",
   "execution_count": 53,
   "metadata": {},
   "outputs": [
    {
     "name": "stdout",
     "output_type": "stream",
     "text": [
      "('PCA shape', (60, 50), 0.9963654973826569)\n",
      "('tsne shape', (60, 2))\n"
     ]
    },
    {
     "data": {
      "image/png": "[encoded data removed]",
      "text/plain": [
       "<matplotlib.figure.Figure at 0x7f3840086610>"
      ]
     },
     "metadata": {},
     "output_type": "display_data"
    },
    {
     "data": {
      "image/png": "[encoded data removed]",
      "text/plain": [
       "<matplotlib.figure.Figure at 0x7f3840168390>"
      ]
     },
     "metadata": {},
     "output_type": "display_data"
    }
   ],
   "source": [
    "X, y = samples_generator.make_classification(\n",
    "    n_features=100, n_informative=90, n_redundant=10, n_classes=3,\n",
    "    n_clusters_per_class=1,\n",
    "    n_samples=60)\n",
    "\n",
    "pca = PCA(n_components=50)\n",
    "X_pca = pca.fit_transform(X)\n",
    "print('PCA shape', X_pca.shape, np.sum(pca.explained_variance_ratio_))\n",
    "tsne = TSNE()\n",
    "X_pca_tsne = tsne.fit_transform(X_pca)\n",
    "print('tsne shape', X_pca_tsne.shape)\n",
    "\n",
    "def plt_scatter(X, y, title):   \n",
    "    plt.scatter(x=[i[0] for i in X], \n",
    "                y=[i[1] for i in X],\n",
    "               c=y)\n",
    "    plt.title(title)\n",
    "    plt.show()\n",
    "\n",
    "plt_scatter(X_pca, y, 'pca')\n",
    "plt_scatter(X_pca_tsne, y, 'Tsne(pca)')"
   ]
  },
  {
   "cell_type": "code",
   "execution_count": 42,
   "metadata": {},
   "outputs": [
    {
     "data": {
      "image/png": "[encoded data removed]",
      "text/plain": [
       "<matplotlib.figure.Figure at 0x7f384061e350>"
      ]
     },
     "metadata": {},
     "output_type": "display_data"
    },
    {
     "data": {
      "image/png": "[encoded data removed]",
      "text/plain": [
       "<matplotlib.figure.Figure at 0x7f38403c2790>"
      ]
     },
     "metadata": {},
     "output_type": "display_data"
    }
   ],
   "source": []
  }
 ],
 "metadata": {
  "kernelspec": {
   "display_name": "Python [conda env:isaac_revo_healthcare]",
   "language": "python",
   "name": "conda-env-isaac_revo_healthcare-py"
  },
  "language_info": {
   "codemirror_mode": {
    "name": "ipython",
    "version": 2
   },
   "file_extension": ".py",
   "mimetype": "text/x-python",
   "name": "python",
   "nbconvert_exporter": "python",
   "pygments_lexer": "ipython2",
   "version": "2.7.13"
  }
 },
 "nbformat": 4,
 "nbformat_minor": 2
}
