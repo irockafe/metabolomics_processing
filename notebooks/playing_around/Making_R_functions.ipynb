{
 "cells": [
  {
   "cell_type": "markdown",
   "metadata": {},
   "source": [
    "<h1>Learning how to write functions</h1>"
   ]
  },
  {
   "cell_type": "code",
   "execution_count": 228,
   "metadata": {},
   "outputs": [
    {
     "data": {
      "text/html": [
       "<dl>\n",
       "\t<dt>$bw</dt>\n",
       "\t\t<dd>2</dd>\n",
       "\t<dt>$poop</dt>\n",
       "\t\t<dd>37</dd>\n",
       "</dl>\n"
      ],
      "text/latex": [
       "\\begin{description}\n",
       "\\item[\\$bw] 2\n",
       "\\item[\\$poop] 37\n",
       "\\end{description}\n"
      ],
      "text/markdown": [
       "$bw\n",
       ":   2\n",
       "$poop\n",
       ":   37\n",
       "\n",
       "\n"
      ],
      "text/plain": [
       "$bw\n",
       "[1] 2\n",
       "\n",
       "$poop\n",
       "[1] 37\n"
      ]
     },
     "metadata": {},
     "output_type": "display_data"
    }
   ],
   "source": [
    "# Parse a tab-delim summary file\n",
    "get_params <- function(path) {\n",
    "    # Take in a tab-delim file of \n",
    "    # 'param_name \\t param_value\n",
    "    # output a list of \n",
    "    # [p1=val1, p2=val2, ...]\n",
    "    df <- read.delim(path, sep='\\t', header=FALSE, row.names=1)\n",
    "    # weird syntax, but works. something about t(df) converts\n",
    "    # this to matrix, then dataframe, then a list...?\n",
    "    param_list <- as.list(as.data.frame(t(df)))\n",
    "    return(param_list)\n",
    "}\n",
    "\n",
    "path_txt = paste('/home/irockafe/',\n",
    "                 'Dropbox (MIT)/Alm_Lab/projects/',\n",
    "                 'revo_healthcare/notebooks/playing_around/',\n",
    "                 'summary_file.txt', sep='')\n",
    "\n",
    "params = get_params(path_txt)\n",
    "params"
   ]
  },
  {
   "cell_type": "code",
   "execution_count": 226,
   "metadata": {},
   "outputs": [
    {
     "data": {
      "text/html": [
       "<dl>\n",
       "\t<dt>$ppm</dt>\n",
       "\t\t<dd>30</dd>\n",
       "\t<dt>$peakwidth</dt>\n",
       "\t\t<dd><ol class=list-inline>\n",
       "\t<li>10</li>\n",
       "\t<li>60</li>\n",
       "</ol>\n",
       "</dd>\n",
       "\t<dt>$bw</dt>\n",
       "\t\t<dd>5</dd>\n",
       "\t<dt>$mzwid</dt>\n",
       "\t\t<dd>0.025</dd>\n",
       "\t<dt>$prefilter</dt>\n",
       "\t\t<dd><ol class=list-inline>\n",
       "\t<li>0</li>\n",
       "\t<li>0</li>\n",
       "</ol>\n",
       "</dd>\n",
       "</dl>\n"
      ],
      "text/latex": [
       "\\begin{description}\n",
       "\\item[\\$ppm] 30\n",
       "\\item[\\$peakwidth] \\begin{enumerate*}\n",
       "\\item 10\n",
       "\\item 60\n",
       "\\end{enumerate*}\n",
       "\n",
       "\\item[\\$bw] 5\n",
       "\\item[\\$mzwid] 0.025\n",
       "\\item[\\$prefilter] \\begin{enumerate*}\n",
       "\\item 0\n",
       "\\item 0\n",
       "\\end{enumerate*}\n",
       "\n",
       "\\end{description}\n"
      ],
      "text/markdown": [
       "$ppm\n",
       ":   30\n",
       "$peakwidth\n",
       ":   1. 10\n",
       "2. 60\n",
       "\n",
       "\n",
       "\n",
       "$bw\n",
       ":   5\n",
       "$mzwid\n",
       ":   0.025\n",
       "$prefilter\n",
       ":   1. 0\n",
       "2. 0\n",
       "\n",
       "\n",
       "\n",
       "\n",
       "\n"
      ],
      "text/plain": [
       "$ppm\n",
       "[1] 30\n",
       "\n",
       "$peakwidth\n",
       "[1] 10 60\n",
       "\n",
       "$bw\n",
       "[1] 5\n",
       "\n",
       "$mzwid\n",
       "[1] 0.025\n",
       "\n",
       "$prefilter\n",
       "[1] 0 0\n"
      ]
     },
     "metadata": {},
     "output_type": "display_data"
    },
    {
     "ename": "ERROR",
     "evalue": "Error in default_params(\"asfdasfdasd\"): I couldn't understand your input. The allowed inputs are: hplc_qtof, hplc_qtof_hires, hplc_orbitrap, uplc_qtof, uplc_qtof_hires, uplc_orbitrap\n",
     "output_type": "error",
     "traceback": [
      "Error in default_params(\"asfdasfdasd\"): I couldn't understand your input. The allowed inputs are: hplc_qtof, hplc_qtof_hires, hplc_orbitrap, uplc_qtof, uplc_qtof_hires, uplc_orbitrap\nTraceback:\n",
      "1. default_params(\"asfdasfdasd\")",
      "2. stop(msg)   # at line 38 of file <text>"
     ]
    }
   ],
   "source": [
    "# Get default settings from user input string\n",
    "\n",
    "default_params = function(string) {\n",
    "    # Default xcms parameters for various MS and LC combinations\n",
    "    # Taken from \"Meta-analysis of untargeted metabolomic \n",
    "    # data from multiple profiling experiments\", Patti et al   \n",
    "    # RETURN [param_name1=param_value1, param_name2=param_value2...]\n",
    "    \n",
    "    # Define the preset values as nested list, indexed on \n",
    "    # as [LC-MS[ppm, peakwidth, bw, mzwid, prefilter]]\n",
    "    default_params = list(\n",
    "     hplc_qtof = list(ppm=30, peakwidth=c(10,60), bw=5, \n",
    "                    mzwid=0.025, prefilter=c(0,0)),\n",
    "     hplc_qtof_hires = list(ppm=15, peakwidth=c(10,60), bw=5,\n",
    "                    mzwid=0.015, prefilter=c(0,0)),\n",
    "     hplc_orbitrap = list(ppm=2.5, peakwidth=c(10,60), bw=5,\n",
    "                    mzwid=0.015, prefilter=c(3,5000)),\n",
    "     uplc_qtof = list(ppm=30, peakwidth=c(5,20), bw=2,\n",
    "                     mzwid=0.025, prefilter=c(0,0)),\n",
    "     uplc_qtof_hires = list(ppm=15, peakwidth=c(5,20), bw=2,\n",
    "                           mzwid=0.015, prefilter=c(0,0)),\n",
    "     uplc_orbitrap = list(ppm=2.5, peakwidth=c(5,20), bw=2,\n",
    "                         mzwid=0.015, prefilter=c(3,5000))\n",
    "    )\n",
    "    # If your string is found in the default list,\n",
    "    # return the default params\n",
    "    if (exists(string, where=default_params)) {\n",
    "        # double brackets because it removes the name of\n",
    "        # the top-level nested-list (i.e. uplc_orbitrap$ppm becomes\n",
    "        # simply $ppm when you use double brackets )\n",
    "        params = default_params[[string]]\n",
    "        return(params)\n",
    "        }\n",
    "    else{\n",
    "        msg = sprintf(paste(\"I couldn't understand your input.\",\n",
    "                    \"The allowed inputs are: %s\"),\n",
    "                paste(names(default_params), collapse=', '))\n",
    "        stop(msg)\n",
    "    }\n",
    "    \n",
    "    \n",
    "}\n",
    "        \n",
    "preset_params = default_params('hplc_qtof')\n",
    "preset_params\n",
    "default_params('asfdasfdasd')\n"
   ]
  },
  {
   "cell_type": "code",
   "execution_count": 229,
   "metadata": {},
   "outputs": [
    {
     "data": {
      "text/html": [
       "<dl>\n",
       "\t<dt>$ppm</dt>\n",
       "\t\t<dd>30</dd>\n",
       "\t<dt>$peakwidth</dt>\n",
       "\t\t<dd><ol class=list-inline>\n",
       "\t<li>10</li>\n",
       "\t<li>60</li>\n",
       "</ol>\n",
       "</dd>\n",
       "\t<dt>$bw</dt>\n",
       "\t\t<dd>5</dd>\n",
       "\t<dt>$mzwid</dt>\n",
       "\t\t<dd>0.025</dd>\n",
       "\t<dt>$prefilter</dt>\n",
       "\t\t<dd><ol class=list-inline>\n",
       "\t<li>0</li>\n",
       "\t<li>0</li>\n",
       "</ol>\n",
       "</dd>\n",
       "</dl>\n"
      ],
      "text/latex": [
       "\\begin{description}\n",
       "\\item[\\$ppm] 30\n",
       "\\item[\\$peakwidth] \\begin{enumerate*}\n",
       "\\item 10\n",
       "\\item 60\n",
       "\\end{enumerate*}\n",
       "\n",
       "\\item[\\$bw] 5\n",
       "\\item[\\$mzwid] 0.025\n",
       "\\item[\\$prefilter] \\begin{enumerate*}\n",
       "\\item 0\n",
       "\\item 0\n",
       "\\end{enumerate*}\n",
       "\n",
       "\\end{description}\n"
      ],
      "text/markdown": [
       "$ppm\n",
       ":   30\n",
       "$peakwidth\n",
       ":   1. 10\n",
       "2. 60\n",
       "\n",
       "\n",
       "\n",
       "$bw\n",
       ":   5\n",
       "$mzwid\n",
       ":   0.025\n",
       "$prefilter\n",
       ":   1. 0\n",
       "2. 0\n",
       "\n",
       "\n",
       "\n",
       "\n",
       "\n"
      ],
      "text/plain": [
       "$ppm\n",
       "[1] 30\n",
       "\n",
       "$peakwidth\n",
       "[1] 10 60\n",
       "\n",
       "$bw\n",
       "[1] 5\n",
       "\n",
       "$mzwid\n",
       "[1] 0.025\n",
       "\n",
       "$prefilter\n",
       "[1] 0 0\n"
      ]
     },
     "metadata": {},
     "output_type": "display_data"
    }
   ],
   "source": [
    "preset_params"
   ]
  },
  {
   "cell_type": "code",
   "execution_count": null,
   "metadata": {
    "collapsed": true
   },
   "outputs": [],
   "source": [
    "#TODO: Adapt xcms_script to accept parameters\n",
    "# ??? How to take a list of {key:value} from r and\n",
    "# define parameters from it? Use default arguments for everything, \n",
    "# then overwrite them if present?\n",
    "\n",
    "# TODO Generate an empty parameter file to be filled in by user"
   ]
  }
 ],
 "metadata": {
  "kernelspec": {
   "display_name": "R [conda env:isaac_revo_healthcare]",
   "language": "R",
   "name": "conda-env-isaac_revo_healthcare-r"
  },
  "language_info": {
   "codemirror_mode": "r",
   "file_extension": ".r",
   "mimetype": "text/x-r-source",
   "name": "R",
   "pygments_lexer": "r",
   "version": "3.3.2"
  }
 },
 "nbformat": 4,
 "nbformat_minor": 2
}
