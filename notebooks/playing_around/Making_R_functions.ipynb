{
 "cells": [
  {
   "cell_type": "markdown",
   "metadata": {},
   "source": [
    "<h1>Learning how to write functions</h1>\n",
    "TODO: make paths acceptable!\n",
    "TODO: Make argparse accept: 1.) summary_file or 2.) preset values. Then\n",
    "run xcms"
   ]
  },
  {
   "cell_type": "code",
   "execution_count": 1,
   "metadata": {
    "collapsed": true
   },
   "outputs": [],
   "source": [
    "generate_blank_summary_file <- function(path) {\n",
    "    output = '### Peak Detection Parameters\n",
    "peak_picking\\tcentWave\n",
    "ppm\n",
    "peak_width\n",
    "prefilter\n",
    "\n",
    "### Peak-grouping parameters\n",
    "bw\n",
    "mzwid\n",
    "minfrac\\t0\n",
    "minsamp\\t2\n",
    "\n",
    "### retention-correction parameters\n",
    "retcor_method\\tloess\n",
    "missing\n",
    "extra'\n",
    "    params_file = paste(path, '/xcms_params.tab', sep='')\n",
    "    write(output, file=params_file)\n",
    "}\n",
    "\n",
    "generate_blank_summary_file(getwd())"
   ]
  },
  {
   "cell_type": "code",
   "execution_count": 2,
   "metadata": {},
   "outputs": [
    {
     "name": "stdout",
     "output_type": "stream",
     "text": [
      "                V2\n",
      "bw               2\n",
      "poop            37\n",
      "prefilter    10 60\n",
      "method    centWave\n",
      "[1] 4 1\n",
      "[1] \"read table output:\"\n",
      "[1] \"Df dimensions 4\" \"Df dimensions 1\"\n",
      "[1] \"2\"\n",
      "[1] \"----------- 2\"\n",
      "[1] \"character\"\n",
      "[1] \"37\"\n",
      "[1] \"----------- 37\"\n",
      "[1] \"character\"\n",
      "[1] \"10 60\"\n",
      "[1] \"----------- 10 60\"\n",
      "[1] \"character\"\n",
      "[1] \"centWave\"\n",
      "[1] \"----------- centWave\"\n"
     ]
    },
    {
     "data": {
      "text/html": [
       "<dl>\n",
       "\t<dt>$bw</dt>\n",
       "\t\t<dd>2</dd>\n",
       "\t<dt>$poop</dt>\n",
       "\t\t<dd>37</dd>\n",
       "\t<dt>$prefilter</dt>\n",
       "\t\t<dd><ol class=list-inline>\n",
       "\t<li>10</li>\n",
       "\t<li>60</li>\n",
       "</ol>\n",
       "</dd>\n",
       "\t<dt>$method</dt>\n",
       "\t\t<dd>'centWave'</dd>\n",
       "</dl>\n"
      ],
      "text/latex": [
       "\\begin{description}\n",
       "\\item[\\$bw] 2\n",
       "\\item[\\$poop] 37\n",
       "\\item[\\$prefilter] \\begin{enumerate*}\n",
       "\\item 10\n",
       "\\item 60\n",
       "\\end{enumerate*}\n",
       "\n",
       "\\item[\\$method] 'centWave'\n",
       "\\end{description}\n"
      ],
      "text/markdown": [
       "$bw\n",
       ":   2\n",
       "$poop\n",
       ":   37\n",
       "$prefilter\n",
       ":   1. 10\n",
       "2. 60\n",
       "\n",
       "\n",
       "\n",
       "$method\n",
       ":   'centWave'\n",
       "\n",
       "\n"
      ],
      "text/plain": [
       "$bw\n",
       "[1] 2\n",
       "\n",
       "$poop\n",
       "[1] 37\n",
       "\n",
       "$prefilter\n",
       "[1] 10 60\n",
       "\n",
       "$method\n",
       "[1] \"centWave\"\n"
      ]
     },
     "metadata": {},
     "output_type": "display_data"
    },
    {
     "data": {
      "text/html": [
       "'list'"
      ],
      "text/latex": [
       "'list'"
      ],
      "text/markdown": [
       "'list'"
      ],
      "text/plain": [
       "[1] \"list\""
      ]
     },
     "metadata": {},
     "output_type": "display_data"
    },
    {
     "data": {
      "text/html": [
       "'character'"
      ],
      "text/latex": [
       "'character'"
      ],
      "text/markdown": [
       "'character'"
      ],
      "text/plain": [
       "[1] \"character\""
      ]
     },
     "metadata": {},
     "output_type": "display_data"
    },
    {
     "data": {
      "text/html": [
       "'numeric'"
      ],
      "text/latex": [
       "'numeric'"
      ],
      "text/markdown": [
       "'numeric'"
      ],
      "text/plain": [
       "[1] \"numeric\""
      ]
     },
     "metadata": {},
     "output_type": "display_data"
    }
   ],
   "source": [
    "# Parse a tab-delim summary file\n",
    "char_to_numeric <- function(char) {\n",
    "    # Take in a space-delimited character that represents\n",
    "    # a number or vector. Convert it to numeric.\n",
    "    numeric <- as.numeric(strsplit(char, \" \")[[1]])\n",
    "    return(numeric)\n",
    "}\n",
    "\n",
    "get_params <- function(path, char_to_numeric) {\n",
    "    # INPUT: tab-delim file of \n",
    "    # space-delimited values \n",
    "    # OUTPUT: A labeled list with each label from the first column\n",
    "    # of the file. Each value, character or numeric, from the second column\n",
    "    # It will accept vectors as space-delimited entries in the second column \n",
    "    # of the text file\n",
    "    df <- read.table(path, sep='\\t', header=FALSE, row.names=1,\n",
    "                    colClasses=\"character\", blank.lines.skip=TRUE, fill=TRUE)\n",
    "    print(df)\n",
    "    print(dim(df))\n",
    "    # There should only be one column of values\n",
    "    if (dim(df)[2] > 1){\n",
    "        stop(paste(\"Your summary file should only have 1 (tab-delimited) column of values.\",\n",
    "                  sprintf(\"it has %s columns\", dim(df)[2])))\n",
    "    }\n",
    "    print('read table output:')\n",
    "    print(paste('Df dimensions', dim(df)))\n",
    "    #lst_params <- setNames(split(df, seq(nrow(df))), rownames(df))\n",
    "    # Make an empty list to gather param values\n",
    "    lst = setNames(vector(\"list\", dim(df)[1]), rownames(df))\n",
    "    for (idx in rownames(df)){\n",
    "        print(df[idx,])\n",
    "        print(sprintf('----------- %s', df[idx,]))\n",
    "        if (df[idx,] == \"\") {\n",
    "            stop(paste(sprintf('The parameter %s is missing!', idx),\n",
    "                       'Please set it, or use one of the preset parameter settings'))\n",
    "            }\n",
    "        # if no alphabetic characters, convert character to numeric\n",
    "        digit = grepl(\"[[:digit:]]\", df[idx,])\n",
    "        alpha = grepl(\"[[:alpha:]]\", df[idx,])\n",
    "        if (digit &&! alpha) {\n",
    "            sprintf('%s is a number(s)', df[idx,])\n",
    "            print(class(df[idx,]))\n",
    "            lst[[idx]] = char_to_numeric(df[idx,])\n",
    "            }\n",
    "        else if (alpha &&! digit){\n",
    "            lst[[idx]] = df[idx,]\n",
    "        }\n",
    "    }\n",
    "    return(lst)\n",
    "}\n",
    "\n",
    "\n",
    "\n",
    "path_txt = paste('/home/irockafe/',\n",
    "                 'Dropbox (MIT)/Alm_Lab/projects/',\n",
    "                 'revo_healthcare/notebooks/playing_around/',\n",
    "                 'summary_file.txt', sep='')\n",
    "path_relative = ('summary_file.txt')\n",
    "params = get_params(path_relative, char_to_numeric)\n",
    "\n",
    "params\n",
    "class(params)\n",
    "class(params$method)\n",
    "class(params$prefilter)"
   ]
  },
  {
   "cell_type": "code",
   "execution_count": 3,
   "metadata": {},
   "outputs": [
    {
     "name": "stdout",
     "output_type": "stream",
     "text": [
      "[1] \"yayyy\"\n"
     ]
    }
   ],
   "source": [
    "if (1 == 2){\n",
    "    print('poop')\n",
    "    \n",
    "} else if(1==1){\n",
    "    print('yayyy')\n",
    "}\n"
   ]
  },
  {
   "cell_type": "code",
   "execution_count": 4,
   "metadata": {},
   "outputs": [
    {
     "data": {
      "text/html": [
       "<dl>\n",
       "\t<dt>$ppm</dt>\n",
       "\t\t<dd>30</dd>\n",
       "\t<dt>$peakwidth</dt>\n",
       "\t\t<dd><ol class=list-inline>\n",
       "\t<li>10</li>\n",
       "\t<li>60</li>\n",
       "</ol>\n",
       "</dd>\n",
       "\t<dt>$bw</dt>\n",
       "\t\t<dd>5</dd>\n",
       "\t<dt>$mzwid</dt>\n",
       "\t\t<dd>0.025</dd>\n",
       "\t<dt>$prefilter</dt>\n",
       "\t\t<dd><ol class=list-inline>\n",
       "\t<li>0</li>\n",
       "\t<li>0</li>\n",
       "</ol>\n",
       "</dd>\n",
       "</dl>\n"
      ],
      "text/latex": [
       "\\begin{description}\n",
       "\\item[\\$ppm] 30\n",
       "\\item[\\$peakwidth] \\begin{enumerate*}\n",
       "\\item 10\n",
       "\\item 60\n",
       "\\end{enumerate*}\n",
       "\n",
       "\\item[\\$bw] 5\n",
       "\\item[\\$mzwid] 0.025\n",
       "\\item[\\$prefilter] \\begin{enumerate*}\n",
       "\\item 0\n",
       "\\item 0\n",
       "\\end{enumerate*}\n",
       "\n",
       "\\end{description}\n"
      ],
      "text/markdown": [
       "$ppm\n",
       ":   30\n",
       "$peakwidth\n",
       ":   1. 10\n",
       "2. 60\n",
       "\n",
       "\n",
       "\n",
       "$bw\n",
       ":   5\n",
       "$mzwid\n",
       ":   0.025\n",
       "$prefilter\n",
       ":   1. 0\n",
       "2. 0\n",
       "\n",
       "\n",
       "\n",
       "\n",
       "\n"
      ],
      "text/plain": [
       "$ppm\n",
       "[1] 30\n",
       "\n",
       "$peakwidth\n",
       "[1] 10 60\n",
       "\n",
       "$bw\n",
       "[1] 5\n",
       "\n",
       "$mzwid\n",
       "[1] 0.025\n",
       "\n",
       "$prefilter\n",
       "[1] 0 0\n"
      ]
     },
     "metadata": {},
     "output_type": "display_data"
    },
    {
     "ename": "ERROR",
     "evalue": "Error in default_params(\"asfdasfdasd\"): I couldn't understand your input. The allowed inputs are: hplc_qtof, hplc_qtof_hires, hplc_orbitrap, uplc_qtof, uplc_qtof_hires, uplc_orbitrap\n",
     "output_type": "error",
     "traceback": [
      "Error in default_params(\"asfdasfdasd\"): I couldn't understand your input. The allowed inputs are: hplc_qtof, hplc_qtof_hires, hplc_orbitrap, uplc_qtof, uplc_qtof_hires, uplc_orbitrap\nTraceback:\n",
      "1. default_params(\"asfdasfdasd\")",
      "2. stop(msg)   # at line 38 of file <text>"
     ]
    }
   ],
   "source": [
    "# Get default settings from user input string\n",
    "\n",
    "default_params = function(string) {\n",
    "    # Default xcms parameters for various MS and LC combinations\n",
    "    # Taken from \"Meta-analysis of untargeted metabolomic \n",
    "    # data from multiple profiling experiments\", Patti et al   \n",
    "    # RETURN [param_name1=param_value1, param_name2=param_value2...]\n",
    "    \n",
    "    # Define the preset values as nested list, indexed on \n",
    "    # as [LC-MS[ppm, peakwidth, bw, mzwid, prefilter]]\n",
    "    default_params = list(\n",
    "     hplc_qtof = list(ppm=30, peakwidth=c(10,60), bw=5, \n",
    "                    mzwid=0.025, prefilter=c(0,0)),\n",
    "     hplc_qtof_hires = list(ppm=15, peakwidth=c(10,60), bw=5,\n",
    "                    mzwid=0.015, prefilter=c(0,0)),\n",
    "     hplc_orbitrap = list(ppm=2.5, peakwidth=c(10,60), bw=5,\n",
    "                    mzwid=0.015, prefilter=c(3,5000)),\n",
    "     uplc_qtof = list(ppm=30, peakwidth=c(5,20), bw=2,\n",
    "                     mzwid=0.025, prefilter=c(0,0)),\n",
    "     uplc_qtof_hires = list(ppm=15, peakwidth=c(5,20), bw=2,\n",
    "                           mzwid=0.015, prefilter=c(0,0)),\n",
    "     uplc_orbitrap = list(ppm=2.5, peakwidth=c(5,20), bw=2,\n",
    "                         mzwid=0.015, prefilter=c(3,5000))\n",
    "    )\n",
    "    # If your string is found in the default list,\n",
    "    # return the default params\n",
    "    if (exists(string, where=default_params)) {\n",
    "        # double brackets because it removes the name of\n",
    "        # the top-level nested-list (i.e. uplc_orbitrap$ppm becomes\n",
    "        # simply $ppm when you use double brackets )\n",
    "        params = default_params[[string]]\n",
    "        return(params)\n",
    "        }\n",
    "    else{\n",
    "        msg = sprintf(paste(\"I couldn't understand your input.\",\n",
    "                    \"The allowed inputs are: %s\"),\n",
    "                paste(names(default_params), collapse=', '))\n",
    "        stop(msg)\n",
    "    }\n",
    "    \n",
    "    \n",
    "}\n",
    "        \n",
    "preset_params = default_params('hplc_qtof')\n",
    "preset_params\n",
    "default_params('asfdasfdasd')\n"
   ]
  },
  {
   "cell_type": "code",
   "execution_count": 5,
   "metadata": {},
   "outputs": [
    {
     "data": {
      "text/plain": [
       "NULL"
      ]
     },
     "metadata": {},
     "output_type": "display_data"
    },
    {
     "name": "stdout",
     "output_type": "stream",
     "text": [
      "[1] TRUE\n"
     ]
    }
   ],
   "source": [
    "NULL\n",
    "print(is.null(NULL))"
   ]
  },
  {
   "cell_type": "code",
   "execution_count": 6,
   "metadata": {
    "scrolled": true
   },
   "outputs": [
    {
     "data": {
      "text/html": [
       "'/home/irockafe/Dropbox (MIT)/Alm_Lab/projects/revo_healthcare/notebooks/playing_around/sample_data'"
      ],
      "text/latex": [
       "'/home/irockafe/Dropbox (MIT)/Alm\\_Lab/projects/revo\\_healthcare/notebooks/playing\\_around/sample\\_data'"
      ],
      "text/markdown": [
       "'/home/irockafe/Dropbox (MIT)/Alm_Lab/projects/revo_healthcare/notebooks/playing_around/sample_data'"
      ],
      "text/plain": [
       "[1] \"/home/irockafe/Dropbox (MIT)/Alm_Lab/projects/revo_healthcare/notebooks/playing_around/sample_data\""
      ]
     },
     "metadata": {},
     "output_type": "display_data"
    },
    {
     "name": "stdout",
     "output_type": "stream",
     "text": [
      "[1] \"Working dir:  /home/irockafe/Dropbox (MIT)/Alm_Lab/projects/revo_healthcare/notebooks/playing_around\"\n",
      "[1] \"/home/irockafe/Dropbox (MIT)/Alm_Lab/projects/revo_healthcare/notebooks/playing_around/sample_data\"\n",
      "[1] \"Working dir now: /home/irockafe/Dropbox (MIT)/Alm_Lab/projects/revo_healthcare/notebooks/playing_around/sample_data\"\n"
     ]
    }
   ],
   "source": [
    "# TODO: Adapt xcms_script to accept parameters\n",
    "# ??? How to take a list of {key:value} from r and\n",
    "# define parameters from it? Use default arguments for everything, \n",
    "# then overwrite them if present?\n",
    "# Could overwrite with default params\n",
    "\n",
    "# use minsample exclusively to determine how many samples\n",
    "# a peak must be present in to work\n",
    "run_xcms = function(data_dir, params, polarity_mode,\n",
    "                    # peak detection params\n",
    "                    detection_method='centWave', ppm=25, \n",
    "                    peak_width=c(10,60), prefilter=c(3,100),\n",
    "                    # grouping parameters\n",
    "                    bw=20, mzwid=0.025, minfrac=0, minsamp=2,\n",
    "                    # retention-correction parameters\n",
    "                    retcor_method='loess', \n",
    "                    missing=1, extra=1\n",
    "                   ) \n",
    "            {\n",
    "    \n",
    "    \n",
    "    # check if param_value in user-defined list\n",
    "    \n",
    "    \n",
    "    # escape spaces in data_dir path\n",
    "    output_dir = getwd()\n",
    "    xcms_feature_table = \"xcms_result\"\n",
    "    camera_feature_table = \"xcms_camera_results.csv\"\n",
    "    nSlaves=0\n",
    " \n",
    "    ### change working directory to your files, see +++ section\n",
    "    setwd(data_dir)\n",
    "    # wrtie parameters to file\n",
    "    peak_width_str = paste(paste(peak_width), collapse=\" \")\n",
    "    prefilter_str = paste(paste(prefilter), collapse=\" \")\n",
    "    param_string = sprintf('### Peak Detection Parameters\n",
    "peak_picking\\t%s\n",
    "ppm\\t%i\n",
    "peak_width\\t%s\n",
    "prefilter\\t%s\n",
    "\n",
    "### Peak-grouping parameters\n",
    "bw\\t%i\n",
    "mzwid\\t%.4f\n",
    "minfrac\\t%i\n",
    "minsamp\\t%i\n",
    "\n",
    "### retention-correction parameters\n",
    "retcor_method\\t%s\n",
    "missing\\t%i\n",
    "extra\\t%i\n",
    "', \n",
    "    detection_method, ppm, peak_width_str, prefilter_str,\n",
    "    bw, mzwid, minfrac, minsamp, \n",
    "    retcor_method, missing, extra)\n",
    "    \n",
    "    params_file = paste(output_dir, '/xcms_params.tab', sep='')\n",
    "    write(param_string, file=params_file)\n",
    "    \n",
    "    \n",
    "    stop(\"Don't want to actually run xcms when testin\")\n",
    "    \n",
    "    # Load packages\n",
    "    library(xcms)\n",
    "    library(CAMERA)\n",
    "    library(snowfall)\n",
    "    \n",
    "    # Detect peaks\n",
    "    xset <- xcmsSet(method=detection_method, ppm=ppm, prefilter=prefilter,\n",
    "                        peakwidth=peak_width, )\n",
    "    print(\"finished peak Detection!\")\n",
    "    # Group peaks together across samples\n",
    "    # save the detected peaks in case downstream processing fails \n",
    "    # and you have to go in manually to figure out parameters\n",
    "    # TODO - should the bw parameter here be changed depending\n",
    "    # on the platform used (i.e. bw=30 is default, but for uplc, \n",
    "    # maybe the coarse grouping should be bw=15 or something)\n",
    "    xset <- group(xset)\n",
    "    print(\"finished first group command!\")\n",
    "    print(xset)\n",
    "    saveRDS(xset, paste(output_dir, '/xset.Rdata', sep=''))\n",
    "    \n",
    "    # Try to retention-correct\n",
    "    xset2 <- retcor(xset, method=retcor_method,\n",
    "                    family=\"s\", plottype=\"m\",\n",
    "                    missing=missing)\n",
    "    print(\"finished retcor!\")\n",
    "    \n",
    "    # regroup after retention time correction\n",
    "    # Base grouping on minimum number of samples, not fraction.\n",
    "    xset2 <- group(xset2, bw =bw, mzwid=mzwid,\n",
    "                  minfrac=0, minsamp=minsamp)\n",
    "    saveRDS(xset2, paste(output_dir, '/xset2.Rdata', sep=''))\n",
    "    print(\"finished second group command!\")\n",
    "    \n",
    "    # Fill in peaks that weren't detected\n",
    "    xset3 <- fillPeaks(xset2)\n",
    "    print(\"Finished filling peaks!\")\n",
    "    print(xset3)\n",
    "    # Move back to output_dir and write out your feature table\n",
    "    setwd(output_dir)\n",
    "    xcms_peaklist = peakTable(xset3, filebase=xcms_feature_table)\n",
    "    write.csv(xcms_peaklist, paste(xcms_feature_table,ppm, sep='_'))\n",
    "    print(\"Finished xcms!\")\n",
    "    }\n",
    "\n",
    "\n",
    "# Make paths work!\n",
    "\n",
    "mzml_path = '/home/irockafe/Dropbox (MIT)/Alm_Lab/projects/revo_healthcare/notebooks/playing_around/sample_data'\n",
    "mzml_path = gsub(' ', '\\ ', mzml_path, fixed=TRUE)\n",
    "mzml_path\n",
    "print(paste('Working dir: ', getwd()))\n",
    "print(mzml_path)\n",
    "setwd(mzml_path)\n",
    "print(sprintf('Working dir now: %s', getwd()))\n",
    "setwd(mzml_path)\n",
    "\n",
    "#run_xcms(mzml_path, 'positive')"
   ]
  },
  {
   "cell_type": "code",
   "execution_count": 9,
   "metadata": {
    "scrolled": true
   },
   "outputs": [
    {
     "data": {
      "text/html": [
       "<dl>\n",
       "\t<dt>$ppm</dt>\n",
       "\t\t<dd>30</dd>\n",
       "\t<dt>$peakwidth</dt>\n",
       "\t\t<dd><ol class=list-inline>\n",
       "\t<li>10</li>\n",
       "\t<li>60</li>\n",
       "</ol>\n",
       "</dd>\n",
       "\t<dt>$bw</dt>\n",
       "\t\t<dd>5</dd>\n",
       "\t<dt>$mzwid</dt>\n",
       "\t\t<dd>0.025</dd>\n",
       "\t<dt>$prefilter</dt>\n",
       "\t\t<dd><ol class=list-inline>\n",
       "\t<li>0</li>\n",
       "\t<li>0</li>\n",
       "</ol>\n",
       "</dd>\n",
       "</dl>\n"
      ],
      "text/latex": [
       "\\begin{description}\n",
       "\\item[\\$ppm] 30\n",
       "\\item[\\$peakwidth] \\begin{enumerate*}\n",
       "\\item 10\n",
       "\\item 60\n",
       "\\end{enumerate*}\n",
       "\n",
       "\\item[\\$bw] 5\n",
       "\\item[\\$mzwid] 0.025\n",
       "\\item[\\$prefilter] \\begin{enumerate*}\n",
       "\\item 0\n",
       "\\item 0\n",
       "\\end{enumerate*}\n",
       "\n",
       "\\end{description}\n"
      ],
      "text/markdown": [
       "$ppm\n",
       ":   30\n",
       "$peakwidth\n",
       ":   1. 10\n",
       "2. 60\n",
       "\n",
       "\n",
       "\n",
       "$bw\n",
       ":   5\n",
       "$mzwid\n",
       ":   0.025\n",
       "$prefilter\n",
       ":   1. 0\n",
       "2. 0\n",
       "\n",
       "\n",
       "\n",
       "\n",
       "\n"
      ],
      "text/plain": [
       "$ppm\n",
       "[1] 30\n",
       "\n",
       "$peakwidth\n",
       "[1] 10 60\n",
       "\n",
       "$bw\n",
       "[1] 5\n",
       "\n",
       "$mzwid\n",
       "[1] 0.025\n",
       "\n",
       "$prefilter\n",
       "[1] 0 0\n"
      ]
     },
     "metadata": {},
     "output_type": "display_data"
    },
    {
     "data": {
      "text/plain": [
       "NULL"
      ]
     },
     "metadata": {},
     "output_type": "display_data"
    }
   ],
   "source": [
    "\n",
    "\n",
    "preset_params\n",
    "preset_params$asdf"
   ]
  },
  {
   "cell_type": "code",
   "execution_count": 21,
   "metadata": {},
   "outputs": [
    {
     "name": "stdout",
     "output_type": "stream",
     "text": [
      "                    V2\n",
      "peak_picking  centWave\n",
      "ppm                   \n",
      "peak_width       10 60\n",
      "prefilter             \n",
      "bw                   2\n",
      "mzwid           0.0250\n",
      "minfrac              0\n",
      "minsamp              5\n",
      "retcor_method         \n",
      "missing              1\n",
      "extra                1\n",
      "[1] 11  1\n",
      "[1] \"read table output:\"\n",
      "[1] \"Df dimensions 11\" \"Df dimensions 1\" \n",
      "[1] \"centWave\"\n",
      "[1] \"----------- centWave\"\n",
      "[1] \"\"\n",
      "[1] \"----------- \"\n"
     ]
    },
    {
     "ename": "ERROR",
     "evalue": "Error in get_params(\"xcms_params.tab\"): The parameter ppm is missing! Please set it, or use one of the preset parameter settings\n",
     "output_type": "error",
     "traceback": [
      "Error in get_params(\"xcms_params.tab\"): The parameter ppm is missing! Please set it, or use one of the preset parameter settings\nTraceback:\n",
      "1. get_params(\"xcms_params.tab\")",
      "2. stop(paste(sprintf(\"The parameter %s is missing!\", idx), \"Please set it, or use one of the preset parameter settings\"))   # at line 34-35 of file <text>"
     ]
    }
   ],
   "source": [
    "get_params('xcms_params.tab')"
   ]
  }
 ],
 "metadata": {
  "kernelspec": {
   "display_name": "R [conda env:isaac_revo_healthcare]",
   "language": "R",
   "name": "conda-env-isaac_revo_healthcare-r"
  },
  "language_info": {
   "codemirror_mode": "r",
   "file_extension": ".r",
   "mimetype": "text/x-r-source",
   "name": "R",
   "pygments_lexer": "r",
   "version": "3.3.2"
  }
 },
 "nbformat": 4,
 "nbformat_minor": 2
}
