{
 "cells": [
  {
   "cell_type": "code",
   "execution_count": 1,
   "metadata": {
    "collapsed": true
   },
   "outputs": [],
   "source": [
    "import pandas as pd\n",
    "import numpy as np\n",
    "import seaborn as sns\n",
    "import matplotlib.pyplot as plt\n",
    "\n",
    "from lxml import etree\n",
    "import pickle"
   ]
  },
  {
   "cell_type": "code",
   "execution_count": 9,
   "metadata": {},
   "outputs": [
    {
     "name": "stdout",
     "output_type": "stream",
     "text": [
      "[[      0.          500000.          666666.66666667]\n",
      " [ 500000.               0.          333333.33333333]]\n",
      "ppm should be this:\n",
      "          X         Y              Z\n",
      "A       0.0  500000.0  666666.666667\n",
      "B  500000.0       0.0  333333.333333\n",
      "\n",
      "\n",
      " Is it?\n",
      "[[      0.          500000.          666666.66666667]\n",
      " [ 500000.               0.          333333.33333333]]\n"
     ]
    }
   ],
   "source": [
    "# Make function to compare two series together:\n",
    "def ppm_matrix(series1, series2):\n",
    "    '''\n",
    "    GOAL - create a matrix of pairwise ppm differences\n",
    "    INPUT - 2 pandas Series, with index\n",
    "    OUTPUT - dataframe with indexes containing pairwise ppm comparisons\n",
    "        format: rows are series1 labels, columns are series2 labels    \n",
    "    '''\n",
    "    # do series1-series2 using numpy's broadcasting\n",
    "    # This is faster than using a loop\n",
    "    diff_matrix = abs(series1.values[:,np.newaxis] - series2.values)\n",
    "    # Get max of pairwise comparisons\n",
    "    max_matrix = np.maximum(series1.values[:,np.newaxis], \n",
    "                            series2.values)\n",
    "    return (diff_matrix / max_matrix)*10**6\n",
    "\n",
    "\n",
    "def pairwise_difference(series1, series2):\n",
    "    '''\n",
    "    GOAL - create matrix of pairwise differences\n",
    "    INPUT - 2 pandas series, with index\n",
    "    OUTPUT - dataframe, with indexes,\n",
    "        format: columns are series1 labels, rows are series2 labels\n",
    "    '''\n",
    "    diff_matrix = abs(series1.values[:, np.newaxis] - series2.values)\n",
    "    output = pd.DataFrame(diff_matrix,\n",
    "                          index=series1.index,\n",
    "                         columns=series2.index,\n",
    "                         )\n",
    "    return output\n",
    "\n",
    "\n",
    "s1 = pd.Series({'A': 1, 'B':2}, dtype='float64')\n",
    "s2 = pd.Series({'X':1, 'Y':2, 'Z':3},\n",
    "              dtype='float64')\n",
    "\n",
    "ppm_output = ppm_matrix(s1, s2)\n",
    "print ppm_output\n",
    "true_ppm_output = pd.DataFrame({'X':[0.0, (1/2.0)*10**6],\n",
    "                            'Y':[(1/2.0)*10**6, 0.0],\n",
    "                           'Z':[(2/3.0)*10**6, (1/3.0)*10**6]},\n",
    "                          index=['A', 'B'], dtype='float64')\n",
    "\n",
    "rt_output = pairwise_difference(s1,s2)\n",
    "true_rt_output = pd.DataFrame({'X':[0.0, 1.0],\n",
    "                              'Y':[1.0, 0.0],\n",
    "                              'Z':[2.0, 1.0]},\n",
    "                             index=['A', 'B'],\n",
    "                             dtype='float64')\n",
    "\n",
    "print 'ppm should be this:\\n', true_ppm_output\n",
    "print '\\n\\n Is it?\\n', ppm_output\n",
    "\n",
    "assert (ppm_output.all() == true_ppm_output.as_matrix().all()).all()\n",
    "assert (rt_output.all() == true_rt_output.all()).all()"
   ]
  },
  {
   "cell_type": "markdown",
   "metadata": {},
   "source": [
    "<h2> Let's import a couple datasets and take them for a spin</h2>"
   ]
  },
  {
   "cell_type": "code",
   "execution_count": 10,
   "metadata": {
    "collapsed": true
   },
   "outputs": [],
   "source": [
    "### import two datasets\n",
    "def reindex_xcms_by_mzrt(df):\n",
    "    df.index = (df.loc[:,'mz'].astype('str') + \n",
    "               ':' + df.loc[:, 'rt'].astype('str'))\n",
    "    return df\n",
    "\n",
    "\n",
    "# alzheimers\n",
    "local_path = '/home/irockafe/Dropbox (MIT)/Alm_Lab/'\\\n",
    "'projects'\n",
    "alzheimers_path = local_path + '/revo_healthcare/data/processed/MTBLS72/positive_mode/'\\\n",
    "'mtbls_no_retcor_bw2.csv'\n",
    "## Import the data and remove extraneous columns\n",
    "df_alzheimers = pd.read_csv(alzheimers_path, index_col=0)\n",
    "df_alzheimers = reindex_xcms_by_mzrt(df_alzheimers)\n",
    "# malaria\n",
    "malaria_path = local_path + ('/revo_healthcare/data/processed/MTBLS315/'+ \n",
    "            'uhplc_pos/xcms_result_4.csv')\n",
    "df_malaria = pd.read_csv(malaria_path, index_col=0)\n",
    "df_malaria = reindex_xcms_by_mzrt(df_malaria)\n",
    "    "
   ]
  },
  {
   "cell_type": "code",
   "execution_count": 11,
   "metadata": {
    "collapsed": true
   },
   "outputs": [],
   "source": [
    "ppm_alz_v_malaria = ppm_matrix(df_malaria['mz'], \n",
    "                                   df_alzheimers['mz'])\n",
    "\n",
    "rt_alz_v_malaria = pairwise_difference(df_malaria['rt'], \n",
    "                                          df_alzheimers['rt'])\n"
   ]
  },
  {
   "cell_type": "markdown",
   "metadata": {},
   "source": [
    "<h2> Looks like There aren't too many ppm m/z overlaps </h2>"
   ]
  },
  {
   "cell_type": "code",
   "execution_count": 12,
   "metadata": {},
   "outputs": [
    {
     "data": {
      "image/png": "[encoded data removed]",
      "text/plain": [
       "<matplotlib.figure.Figure at 0x7f09cc304550>"
      ]
     },
     "metadata": {},
     "output_type": "display_data"
    }
   ],
   "source": [
    "sns.heatmap(np.log10(ppm_alz_v_malaria))\n",
    "plt.title('Log10 ppm difference')\n",
    "plt.show()"
   ]
  },
  {
   "cell_type": "code",
   "execution_count": null,
   "metadata": {
    "collapsed": true
   },
   "outputs": [],
   "source": []
  },
  {
   "cell_type": "code",
   "execution_count": 13,
   "metadata": {},
   "outputs": [
    {
     "ename": "AttributeError",
     "evalue": "'numpy.ndarray' object has no attribute 'dropna'",
     "output_type": "error",
     "traceback": [
      "\u001b[0;31m---------------------------------------------------------------------------\u001b[0m",
      "\u001b[0;31mAttributeError\u001b[0m                            Traceback (most recent call last)",
      "\u001b[0;32m<ipython-input-13-72cfb5e01aa5>\u001b[0m in \u001b[0;36m<module>\u001b[0;34m()\u001b[0m\n\u001b[1;32m      1\u001b[0m \u001b[0;31m# How many for differences at 30ppm?\u001b[0m\u001b[0;34m\u001b[0m\u001b[0;34m\u001b[0m\u001b[0m\n\u001b[1;32m      2\u001b[0m \u001b[0mppm_window\u001b[0m \u001b[0;34m=\u001b[0m \u001b[0;36m30\u001b[0m\u001b[0;34m\u001b[0m\u001b[0m\n\u001b[0;32m----> 3\u001b[0;31m within_ppm = (ppm_alz_v_malaria[ppm_alz_v_malaria < 30]\n\u001b[0m\u001b[1;32m      4\u001b[0m                   \u001b[0;34m.\u001b[0m\u001b[0mdropna\u001b[0m\u001b[0;34m(\u001b[0m\u001b[0maxis\u001b[0m\u001b[0;34m=\u001b[0m\u001b[0;36m0\u001b[0m\u001b[0;34m,\u001b[0m \u001b[0mhow\u001b[0m\u001b[0;34m=\u001b[0m\u001b[0;34m'all'\u001b[0m\u001b[0;34m)\u001b[0m\u001b[0;34m\u001b[0m\u001b[0m\n\u001b[1;32m      5\u001b[0m                   \u001b[0;34m.\u001b[0m\u001b[0mdropna\u001b[0m\u001b[0;34m(\u001b[0m\u001b[0maxis\u001b[0m\u001b[0;34m=\u001b[0m\u001b[0;36m1\u001b[0m\u001b[0;34m,\u001b[0m \u001b[0mhow\u001b[0m\u001b[0;34m=\u001b[0m\u001b[0;34m'all'\u001b[0m\u001b[0;34m)\u001b[0m\u001b[0;34m\u001b[0m\u001b[0m\n",
      "\u001b[0;31mAttributeError\u001b[0m: 'numpy.ndarray' object has no attribute 'dropna'"
     ]
    }
   ],
   "source": [
    "# How many for differences at 30ppm?\n",
    "ppm_window = 30\n",
    "within_ppm = (ppm_alz_v_malaria[ppm_alz_v_malaria < 30]\n",
    "                  .dropna(axis=0, how='all')\n",
    "                  .dropna(axis=1, how='all')\n",
    "             )\n",
    "print 'shape', ppm_alz_v_malaria.shape\n",
    "print ('ppm within {ppm} ppm: '.format(ppm=ppm_window) +\n",
    "       '{num}'.format(num=(ppm_alz_v_malaria < 30).sum().sum()))\n",
    "\n",
    "# Get indexes\n",
    "print 'shape of htose within 30ppm:, ', within_ppm.shape\n",
    "\n",
    "\n",
    "# How many m/z from one dataset could be m/z isomers from\n",
    "# other dataset?\n",
    "print ('\\n\\nMass matches between datasets (isomers and 1:1 matches)',\n",
    "       (within_ppm < 30).sum().sum())\n",
    "\n",
    "print '\\nAlzheimers \"isomers\" in other dataset that are match >1 feature in other set', ((within_ppm < 30).sum(axis=0)>1).sum()\n",
    "print 'Alzheimers total', df_alzheimers['rt'].shape\n",
    "\n",
    "\n",
    "print '\\n\\nMalaria \"isomers in other dataset that match >1 feature in other set', ((within_ppm < 30).sum(axis=1) > 1).sum()\n",
    "print 'Malaria total', df_malaria['rt'].shape\n",
    "\n"
   ]
  },
  {
   "cell_type": "code",
   "execution_count": 179,
   "metadata": {},
   "outputs": [
    {
     "name": "stdout",
     "output_type": "stream",
     "text": [
      "Axes(0.125,0.125;0.775x0.755)\n"
     ]
    },
    {
     "data": {
      "image/png": "[encoded data removed]",
      "text/plain": [
       "<matplotlib.figure.Figure at 0x7f1b7a542f90>"
      ]
     },
     "metadata": {},
     "output_type": "display_data"
    },
    {
     "data": {
      "image/png": "[encoded data removed]",
      "text/plain": [
       "<matplotlib.figure.Figure at 0x7f1b7a7f88d0>"
      ]
     },
     "metadata": {},
     "output_type": "display_data"
    }
   ],
   "source": [
    "# Show distribution of # of isomers per feature in both malaria and fever datasets\n",
    "print (within_ppm < 30).sum(axis=0).hist(bins=30)\n",
    "plt.title('Alzheimers isomers in malaria dataset')\n",
    "plt.show()\n",
    "\n",
    "(within_ppm < 30).sum(axis=1).hist(bins=30)\n",
    "plt.title('Malaria isomers in alzheimers dataset')\n",
    "plt.show()"
   ]
  },
  {
   "cell_type": "markdown",
   "metadata": {},
   "source": [
    "<h2> So, about 1/4 of the mass-matches have potential isomers in the other dataset...? </h2>\n",
    "Notice how there are more matches to the malaria set, which has more peaks. Makes sense - more peaks either means more actual molecules, \n",
    "or more adducts that could be mistakenly matched as molecules"
   ]
  },
  {
   "cell_type": "markdown",
   "metadata": {},
   "source": [
    "<h2> Get masses of all hmdb serum metabolites </h2>\n",
    "parse the xml file"
   ]
  },
  {
   "cell_type": "code",
   "execution_count": 3,
   "metadata": {
    "collapsed": true
   },
   "outputs": [],
   "source": []
  },
  {
   "cell_type": "code",
   "execution_count": 3,
   "metadata": {
    "collapsed": true
   },
   "outputs": [],
   "source": [
    "local = '/home/irockafe/Dropbox (MIT)/Alm_Lab/projects/'\n",
    "xml_file = local + 'revo_healthcare/data/external/toy_database.xml'\n",
    "xml_file = local + 'revo_healthcare/data/external/serum_metabolites.xml'\n",
    "#xml_tree = etree.iterparse(xml_file, tag='metabolite')\n",
    "#\n",
    "\n"
   ]
  },
  {
   "cell_type": "code",
   "execution_count": 4,
   "metadata": {},
   "outputs": [
    {
     "name": "stdout",
     "output_type": "stream",
     "text": [
      "Made it through 1000 metabolites\n",
      "Made it through 2000 metabolites\n",
      "Made it through 3000 metabolites\n",
      "Made it through 4000 metabolites\n",
      "Made it through 5000 metabolites\n",
      "Made it through 6000 metabolites\n",
      "Made it through 7000 metabolites\n",
      "Made it through 8000 metabolites\n",
      "Made it through 9000 metabolites\n",
      "Made it through 10000 metabolites\n",
      "Made it through 11000 metabolites\n",
      "Made it through 12000 metabolites\n",
      "Made it through 13000 metabolites\n",
      "Made it through 14000 metabolites\n",
      "Made it through 15000 metabolites\n",
      "Made it through 16000 metabolites\n",
      "Made it through 17000 metabolites\n",
      "Made it through 18000 metabolites\n",
      "Made it through 19000 metabolites\n",
      "Made it through 20000 metabolites\n",
      "Made it through 21000 metabolites\n",
      "Made it through 22000 metabolites\n",
      "Made it through 23000 metabolites\n",
      "Made it through 24000 metabolites\n",
      "Made it through 25000 metabolites\n",
      "Number of metabolites: 25310\n"
     ]
    }
   ],
   "source": [
    "# namespace - at the top of file. fucks with every tag.\n",
    "# very annoying, so name all tags ns + tag\n",
    "ns = '{http://www.hmdb.ca}'\n",
    "nsmap = {None : ns}\n",
    "# If you're within a metabolite tag\n",
    "count = 0\n",
    "seen_mass = 0\n",
    "d = {}\n",
    "for event, element in etree.iterparse(xml_file, tag=ns+'metabolite'):\n",
    "    tree = etree.ElementTree(element)\n",
    "    # Aggregate info into a dictionary of \n",
    "    # {HMDB_ID: iso_mass}\n",
    "    accession = []\n",
    "    # Get accession number and masses for each metabolite\n",
    "    # Could be multiple accessions. Grab all of them, \n",
    "    # sort to make unique identifier\n",
    "    for elem in tree.iter():\n",
    "        if elem.tag == ns+'accession':\n",
    "            accession.append(elem.text)\n",
    "        # If you just saw a 'mono_mass' entry,\n",
    "        # get the mass value and reset, saying you\n",
    "        # havent seen 'mono_mass' in the text of next metabolite\n",
    "        if (elem.tag == ns+'value') & (seen_mass == 1): \n",
    "                mass = float(elem.text)\n",
    "                seen_mass = 0\n",
    "        if elem.text == 'mono_mass':\n",
    "                seen_mass = 1\n",
    "    elem.clear()\n",
    "    \n",
    "    # sort accession numbers and join with '_'    \n",
    "    accession_key = '_'.join(sorted(accession))\n",
    "    # add to dictionary\n",
    "    if mass:\n",
    "        d[accession_key] = mass\n",
    "        \n",
    "    # reset mass - only add feature if mass listed\n",
    "    mass = None\n",
    "    # reset accession numbers\n",
    "    accession = []\n",
    "\n",
    "    element.clear()\n",
    "    count += 1\n",
    "    if count % 1000 == 0:\n",
    "        print('Made it through ' + str(count) + ' metabolites')\n",
    "\n",
    "#pickle.dump(d, open('serumdb_dict.p', 'wb'))\n",
    "print 'Number of metabolites: %s' % len(d.keys())"
   ]
  },
  {
   "cell_type": "code",
   "execution_count": 5,
   "metadata": {
    "collapsed": true
   },
   "outputs": [],
   "source": [
    "serumdb_masses = pd.Series(d, dtype='float32')"
   ]
  },
  {
   "cell_type": "code",
   "execution_count": 7,
   "metadata": {
    "collapsed": true,
    "scrolled": true
   },
   "outputs": [],
   "source": [
    "serumdb_ppm_matrix = ppm_matrix(serumdb_masses, serumdb_masses)*10**6"
   ]
  },
  {
   "cell_type": "code",
   "execution_count": 10,
   "metadata": {
    "collapsed": true
   },
   "outputs": [],
   "source": [
    "#df = pd.DataFrame(serumdb_ppm_matrix, index=serumdb_masses.index,\n",
    "#            columns=serumdb_masses.index)*10**6\n",
    "# Forget about using a dataframe - uses too much memory"
   ]
  },
  {
   "cell_type": "code",
   "execution_count": null,
   "metadata": {
    "collapsed": true
   },
   "outputs": [],
   "source": []
  },
  {
   "cell_type": "markdown",
   "metadata": {},
   "source": [
    "<h2> So, we've got 6,315,000 pairs of molecules that could be isomers at 1 ppm </h2>\n",
    "That's about 10% of possible pairs from 25,000 molecules"
   ]
  },
  {
   "cell_type": "code",
   "execution_count": 23,
   "metadata": {},
   "outputs": [
    {
     "name": "stdout",
     "output_type": "stream",
     "text": [
      "[ nan  nan  nan  nan  nan  nan  nan  nan  nan  nan  nan  nan  nan  nan  nan\n",
      "  nan  nan  nan  nan  nan  nan  nan  nan  nan  nan  nan  nan  nan  nan  nan]\n"
     ]
    }
   ],
   "source": [
    "top_ppm = 30\n",
    "pairs = np.full((top_ppm), np.nan)\n",
    "print(pairs)\n",
    "for i in range(1,top_ppm):\n",
    "    # div by two, b/c half matrix is redundant\n",
    "    # subtract length of diagonal of matrix, too\n",
    "    num = ((serumdb_ppm_matrix < i).sum() / 2) - serumdb_ppm_matrix.shape[0]\n",
    "    pairs[i] = num"
   ]
  },
  {
   "cell_type": "code",
   "execution_count": 29,
   "metadata": {},
   "outputs": [
    {
     "data": {
      "image/png": "[encoded data removed]",
      "text/plain": [
       "<matplotlib.figure.Figure at 0x7f62158530d0>"
      ]
     },
     "metadata": {},
     "output_type": "display_data"
    }
   ],
   "source": [
    "plt.scatter(x=range(1,30), y=pairs[1:])\n",
    "plt.title('Number of pairs of molecules that could overlap in human serum database\\n')\n",
    "plt.show()"
   ]
  },
  {
   "cell_type": "markdown",
   "metadata": {},
   "source": [
    "<h2> Looks like there are more isomers than 1:1 pairings, by a lot </h2>\n",
    "Less than 6000 of "
   ]
  },
  {
   "cell_type": "code",
   "execution_count": 37,
   "metadata": {
    "scrolled": false
   },
   "outputs": [
    {
     "data": {
      "image/png": "[encoded data removed]",
      "text/plain": [
       "<matplotlib.figure.Figure at 0x7f6215139190>"
      ]
     },
     "metadata": {},
     "output_type": "display_data"
    }
   ],
   "source": [
    "# how to plot the number of overlaps per molecule?\n",
    "num_below_1ppm = (serumdb_ppm_matrix < 1).sum(axis=1) - 1\n",
    "plt.hist((serumdb_ppm_matrix < 1).sum(axis=1) - 1 )\n",
    "plt.title('Pairs of overlapping mz at ppm 1')\n",
    "plt.show()"
   ]
  },
  {
   "cell_type": "code",
   "execution_count": 38,
   "metadata": {},
   "outputs": [
    {
     "data": {
      "text/plain": [
       "array([  1,   1,   1, ..., 907,   2,   0])"
      ]
     },
     "execution_count": 38,
     "metadata": {},
     "output_type": "execute_result"
    }
   ],
   "source": [
    "num_below_1ppm"
   ]
  }
 ],
 "metadata": {
  "kernelspec": {
   "display_name": "Python [conda env:isaac_revo_healthcare]",
   "language": "python",
   "name": "conda-env-isaac_revo_healthcare-py"
  },
  "language_info": {
   "codemirror_mode": {
    "name": "ipython",
    "version": 2
   },
   "file_extension": ".py",
   "mimetype": "text/x-python",
   "name": "python",
   "nbconvert_exporter": "python",
   "pygments_lexer": "ipython2",
   "version": "2.7.13"
  }
 },
 "nbformat": 4,
 "nbformat_minor": 2
}
